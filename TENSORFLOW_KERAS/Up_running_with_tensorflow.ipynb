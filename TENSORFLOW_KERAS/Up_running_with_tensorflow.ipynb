{
 "cells": [
  {
   "cell_type": "markdown",
   "id": "5efeb903",
   "metadata": {},
   "source": [
    "# TENSORS"
   ]
  },
  {
   "cell_type": "code",
   "execution_count": 209,
   "id": "d6dbbb64",
   "metadata": {},
   "outputs": [],
   "source": [
    "import tensorflow as tf"
   ]
  },
  {
   "cell_type": "code",
   "execution_count": 212,
   "id": "7cfa3b6d",
   "metadata": {},
   "outputs": [],
   "source": [
    "x = tf.constant([[1.,2.,3.], [4.,5.,6.]])"
   ]
  },
  {
   "cell_type": "code",
   "execution_count": 213,
   "id": "b7c93ddb",
   "metadata": {},
   "outputs": [
    {
     "data": {
      "text/plain": [
       "<tf.Tensor: shape=(2, 3), dtype=float32, numpy=\n",
       "array([[1., 2., 3.],\n",
       "       [4., 5., 6.]], dtype=float32)>"
      ]
     },
     "execution_count": 213,
     "metadata": {},
     "output_type": "execute_result"
    }
   ],
   "source": [
    "x"
   ]
  },
  {
   "cell_type": "code",
   "execution_count": 214,
   "id": "7e1a95a0",
   "metadata": {},
   "outputs": [
    {
     "data": {
      "text/plain": [
       "tf.float32"
      ]
     },
     "execution_count": 214,
     "metadata": {},
     "output_type": "execute_result"
    }
   ],
   "source": [
    "x.dtype"
   ]
  },
  {
   "cell_type": "code",
   "execution_count": 215,
   "id": "8681f0fb",
   "metadata": {},
   "outputs": [
    {
     "data": {
      "text/plain": [
       "<tf.Tensor: shape=(2, 3), dtype=float32, numpy=\n",
       "array([[ 2.,  4.,  6.],\n",
       "       [ 8., 10., 12.]], dtype=float32)>"
      ]
     },
     "execution_count": 215,
     "metadata": {},
     "output_type": "execute_result"
    }
   ],
   "source": [
    "x+x"
   ]
  },
  {
   "cell_type": "code",
   "execution_count": 216,
   "id": "2f73fcc5",
   "metadata": {},
   "outputs": [
    {
     "data": {
      "text/plain": [
       "<tf.Tensor: shape=(2, 3), dtype=float32, numpy=\n",
       "array([[ 5., 10., 15.],\n",
       "       [20., 25., 30.]], dtype=float32)>"
      ]
     },
     "execution_count": 216,
     "metadata": {},
     "output_type": "execute_result"
    }
   ],
   "source": [
    "5*x"
   ]
  },
  {
   "cell_type": "code",
   "execution_count": 218,
   "id": "bdb546fd",
   "metadata": {},
   "outputs": [
    {
     "data": {
      "text/plain": [
       "<tf.Tensor: shape=(2, 3), dtype=float32, numpy=\n",
       "array([[1., 2., 3.],\n",
       "       [4., 5., 6.]], dtype=float32)>"
      ]
     },
     "execution_count": 218,
     "metadata": {},
     "output_type": "execute_result"
    }
   ],
   "source": [
    "x"
   ]
  },
  {
   "cell_type": "code",
   "execution_count": 217,
   "id": "b5fa4191",
   "metadata": {},
   "outputs": [
    {
     "data": {
      "text/plain": [
       "<tf.Tensor: shape=(2, 2), dtype=float32, numpy=\n",
       "array([[14., 32.],\n",
       "       [32., 77.]], dtype=float32)>"
      ]
     },
     "execution_count": 217,
     "metadata": {},
     "output_type": "execute_result"
    }
   ],
   "source": [
    "x @ tf.transpose(x)"
   ]
  },
  {
   "cell_type": "code",
   "execution_count": 221,
   "id": "0bc859e0",
   "metadata": {},
   "outputs": [
    {
     "data": {
      "text/plain": [
       "<tf.Tensor: shape=(6, 3), dtype=float32, numpy=\n",
       "array([[1., 2., 3.],\n",
       "       [4., 5., 6.],\n",
       "       [1., 2., 3.],\n",
       "       [4., 5., 6.],\n",
       "       [1., 2., 3.],\n",
       "       [4., 5., 6.]], dtype=float32)>"
      ]
     },
     "execution_count": 221,
     "metadata": {},
     "output_type": "execute_result"
    }
   ],
   "source": [
    "tf.concat([x,x,x], axis = 0)"
   ]
  },
  {
   "cell_type": "code",
   "execution_count": 222,
   "id": "8144671d",
   "metadata": {},
   "outputs": [
    {
     "data": {
      "text/plain": [
       "<tf.Tensor: shape=(2, 9), dtype=float32, numpy=\n",
       "array([[1., 2., 3., 1., 2., 3., 1., 2., 3.],\n",
       "       [4., 5., 6., 4., 5., 6., 4., 5., 6.]], dtype=float32)>"
      ]
     },
     "execution_count": 222,
     "metadata": {},
     "output_type": "execute_result"
    }
   ],
   "source": [
    "tf.concat([x,x,x], axis = 1)"
   ]
  },
  {
   "attachments": {
    "image.png": {
     "image/png": "[encoded data removed]"
    }
   },
   "cell_type": "markdown",
   "id": "7386f0b7",
   "metadata": {},
   "source": [
    "![image.png](attachment:image.png)"
   ]
  },
  {
   "cell_type": "code",
   "execution_count": 223,
   "id": "c4959680",
   "metadata": {},
   "outputs": [
    {
     "data": {
      "text/plain": [
       "<tf.Tensor: shape=(2, 3), dtype=float32, numpy=\n",
       "array([[0.09003057, 0.24472848, 0.66524094],\n",
       "       [0.09003057, 0.24472848, 0.66524094]], dtype=float32)>"
      ]
     },
     "execution_count": 223,
     "metadata": {},
     "output_type": "execute_result"
    }
   ],
   "source": [
    "tf.nn.softmax(x, axis = -1) # softmax hesabi normalde yukaidaki gibi, alt taraf her sayi icin hesaplanir"
   ]
  },
  {
   "cell_type": "code",
   "execution_count": 225,
   "id": "6d3c59b0",
   "metadata": {},
   "outputs": [
    {
     "data": {
      "text/plain": [
       "<tf.Tensor: shape=(), dtype=float32, numpy=21.0>"
      ]
     },
     "execution_count": 225,
     "metadata": {},
     "output_type": "execute_result"
    }
   ],
   "source": [
    "tf.reduce_sum(x)"
   ]
  },
  {
   "cell_type": "code",
   "execution_count": 226,
   "id": "b666d73c",
   "metadata": {},
   "outputs": [
    {
     "name": "stdout",
     "output_type": "stream",
     "text": [
      "TensorFlow **IS NOT** using the GPU\n"
     ]
    }
   ],
   "source": [
    "if tf.config.list_physical_devices('GPU'):\n",
    "  print(\"TensorFlow **IS** using the GPU\")\n",
    "else:\n",
    "  print(\"TensorFlow **IS NOT** using the GPU\")"
   ]
  },
  {
   "cell_type": "markdown",
   "id": "09924a39",
   "metadata": {},
   "source": [
    "# Variables"
   ]
  },
  {
   "cell_type": "markdown",
   "id": "ce52e7cb",
   "metadata": {},
   "source": [
    "Normal tf.Tensor objects are immutable. To store model weights (or other mutable state) in TensorFlow use a tf.Variable."
   ]
  },
  {
   "cell_type": "code",
   "execution_count": 235,
   "id": "2dc13342",
   "metadata": {},
   "outputs": [],
   "source": [
    "var = tf.Variable([0.0,0.0,0.0])"
   ]
  },
  {
   "cell_type": "code",
   "execution_count": 236,
   "id": "5d3f0ba8",
   "metadata": {},
   "outputs": [
    {
     "data": {
      "text/plain": [
       "<tf.Variable 'UnreadVariable' shape=(3,) dtype=float32, numpy=array([1., 2., 3.], dtype=float32)>"
      ]
     },
     "execution_count": 236,
     "metadata": {},
     "output_type": "execute_result"
    }
   ],
   "source": [
    "var.assign([1,2,3])"
   ]
  },
  {
   "cell_type": "code",
   "execution_count": 238,
   "id": "7fec0292",
   "metadata": {},
   "outputs": [
    {
     "data": {
      "text/plain": [
       "<tf.Variable 'UnreadVariable' shape=(3,) dtype=float32, numpy=array([2., 3., 4.], dtype=float32)>"
      ]
     },
     "execution_count": 238,
     "metadata": {},
     "output_type": "execute_result"
    }
   ],
   "source": [
    "var.assign_add([1,1,1])"
   ]
  },
  {
   "cell_type": "code",
   "execution_count": 239,
   "id": "88051a01",
   "metadata": {},
   "outputs": [
    {
     "data": {
      "text/plain": [
       "<tf.Variable 'Variable:0' shape=(3,) dtype=float32, numpy=array([2., 3., 4.], dtype=float32)>"
      ]
     },
     "execution_count": 239,
     "metadata": {},
     "output_type": "execute_result"
    }
   ],
   "source": [
    "var"
   ]
  },
  {
   "cell_type": "markdown",
   "id": "c5122ce3",
   "metadata": {},
   "source": [
    "# Automatic differentiation"
   ]
  },
  {
   "cell_type": "code",
   "execution_count": 240,
   "id": "182ecee4",
   "metadata": {},
   "outputs": [],
   "source": [
    "x =tf.Variable(1.0)\n",
    "def f(x):\n",
    "    y = x**2 + 2*x - 5\n",
    "    return y"
   ]
  },
  {
   "cell_type": "code",
   "execution_count": 241,
   "id": "f3a27e8a",
   "metadata": {},
   "outputs": [
    {
     "data": {
      "text/plain": [
       "<tf.Tensor: shape=(), dtype=float32, numpy=-2.0>"
      ]
     },
     "execution_count": 241,
     "metadata": {},
     "output_type": "execute_result"
    }
   ],
   "source": [
    "f(x)"
   ]
  },
  {
   "cell_type": "code",
   "execution_count": 243,
   "id": "0f895fbd",
   "metadata": {},
   "outputs": [
    {
     "data": {
      "text/plain": [
       "<tf.Tensor: shape=(), dtype=float32, numpy=4.0>"
      ]
     },
     "execution_count": 243,
     "metadata": {},
     "output_type": "execute_result"
    }
   ],
   "source": [
    "with tf.GradientTape() as tape :\n",
    "    y = f(x)\n",
    "g_x = tape.gradient(y,x) # g(x) = dy/dx, otomatik turevi hesapladi\n",
    "g_x"
   ]
  },
  {
   "cell_type": "markdown",
   "id": "69f6bacc",
   "metadata": {},
   "source": [
    "# Graphs and tf.function"
   ]
  },
  {
   "cell_type": "markdown",
   "id": "4ca00d84",
   "metadata": {},
   "source": [
    "While you can use TensorFlow interactively like any Python library, TensorFlow also provides tools for:\n",
    "<li><b>Performance optimization</b>: to speed up training and inference.\n",
    "<li><b>Export</b>: so you can save your model when it's done training.\n",
    "These require that you use tf.function to separate your pure-TensorFlow code from Python."
   ]
  },
  {
   "cell_type": "code",
   "execution_count": 248,
   "id": "8c7ab5c6",
   "metadata": {},
   "outputs": [],
   "source": [
    "@tf.function\n",
    "def my_func(x):\n",
    "    print('Tracing.\\n')\n",
    "    return tf.reduce_sum(x)"
   ]
  },
  {
   "cell_type": "code",
   "execution_count": 249,
   "id": "a385fd41",
   "metadata": {},
   "outputs": [
    {
     "name": "stdout",
     "output_type": "stream",
     "text": [
      "Tracing.\n",
      "\n"
     ]
    },
    {
     "data": {
      "text/plain": [
       "<tf.Tensor: shape=(), dtype=int32, numpy=6>"
      ]
     },
     "execution_count": 249,
     "metadata": {},
     "output_type": "execute_result"
    }
   ],
   "source": [
    "x = tf.constant([1,2,3])\n",
    "my_func(x)"
   ]
  },
  {
   "cell_type": "code",
   "execution_count": 251,
   "id": "393e5629",
   "metadata": {},
   "outputs": [],
   "source": [
    "@tf.function\n",
    "def my_func(x):\n",
    "    print('Tracing.\\n')\n",
    "    return tf.reduce_sum(x)"
   ]
  },
  {
   "cell_type": "code",
   "execution_count": 252,
   "id": "b3ff25a9",
   "metadata": {},
   "outputs": [
    {
     "name": "stdout",
     "output_type": "stream",
     "text": [
      "Tracing.\n",
      "\n"
     ]
    },
    {
     "data": {
      "text/plain": [
       "<tf.Tensor: shape=(), dtype=int32, numpy=27>"
      ]
     },
     "execution_count": 252,
     "metadata": {},
     "output_type": "execute_result"
    }
   ],
   "source": [
    "x = tf.constant([10,9,8]) \n",
    "my_func(x) # hemen func4in pesinden gelirse func isleme aliyor kabul eder aksi halde aradaki print(i yazdirmiyor)"
   ]
  },
  {
   "cell_type": "markdown",
   "id": "d93880f4",
   "metadata": {},
   "source": [
    "On subsequent calls TensorFlow only executes the optimized graph, skipping any non-TensorFlow steps. Below, note that my_func doesn't print tracing since print is a Python function, not a TensorFlow function."
   ]
  },
  {
   "cell_type": "code",
   "execution_count": 253,
   "id": "a37d8b21",
   "metadata": {},
   "outputs": [
    {
     "data": {
      "text/plain": [
       "<tf.Tensor: shape=(), dtype=int32, numpy=27>"
      ]
     },
     "execution_count": 253,
     "metadata": {},
     "output_type": "execute_result"
    }
   ],
   "source": [
    "x = tf.constant([10,9,8]) \n",
    "my_func(x)"
   ]
  },
  {
   "cell_type": "markdown",
   "id": "7bd6d334",
   "metadata": {},
   "source": [
    "A graph may not be reusable for inputs with a different signature (shape and dtype), so a new graph is generated instead:"
   ]
  },
  {
   "cell_type": "code",
   "execution_count": 254,
   "id": "0aee8e58",
   "metadata": {},
   "outputs": [
    {
     "name": "stdout",
     "output_type": "stream",
     "text": [
      "Tracing.\n",
      "\n"
     ]
    },
    {
     "data": {
      "text/plain": [
       "<tf.Tensor: shape=(), dtype=float32, numpy=27.3>"
      ]
     },
     "execution_count": 254,
     "metadata": {},
     "output_type": "execute_result"
    }
   ],
   "source": [
    "x = tf.constant([10.0, 9.1, 8.2], dtype=tf.float32)\n",
    "my_func(x)"
   ]
  },
  {
   "cell_type": "markdown",
   "id": "bcde6066",
   "metadata": {},
   "source": [
    "# Modules, layers, and models"
   ]
  },
  {
   "cell_type": "markdown",
   "id": "a37a97fe",
   "metadata": {},
   "source": [
    "tf.Module is a class for managing your tf.Variable objects, and the tf.function objects that operate on them. The tf.Module class is necessary to support two significant features:\n",
    "\n",
    "<li>You can save and restore the values of your variables using tf.train.Checkpoint. This is useful during training as it is quick to save and restore a model's state.\n",
    "<li>You can import and export the tf.Variable values and the tf.function graphs using tf.saved_model. This allows you to run your model independently of the Python program that created it.\n",
    "Here is a complete example exporting a simple tf.Module object:"
   ]
  },
  {
   "cell_type": "code",
   "execution_count": 255,
   "id": "f378ee1f",
   "metadata": {},
   "outputs": [],
   "source": [
    "class MyModule(tf.Module):\n",
    "  def __init__(self, value):\n",
    "    self.weight = tf.Variable(value)\n",
    "\n",
    "  @tf.function\n",
    "  def multiply(self, x):\n",
    "    return x * self.weight"
   ]
  },
  {
   "cell_type": "code",
   "execution_count": 256,
   "id": "af091b0c",
   "metadata": {},
   "outputs": [
    {
     "data": {
      "text/plain": [
       "<tf.Tensor: shape=(3,), dtype=int32, numpy=array([3, 6, 9], dtype=int32)>"
      ]
     },
     "execution_count": 256,
     "metadata": {},
     "output_type": "execute_result"
    }
   ],
   "source": [
    "mod = MyModule(3)\n",
    "mod.multiply(tf.constant([1, 2, 3]))"
   ]
  },
  {
   "cell_type": "code",
   "execution_count": null,
   "id": "aa9bab6b",
   "metadata": {},
   "outputs": [],
   "source": [
    "# save the model"
   ]
  },
  {
   "cell_type": "code",
   "execution_count": 257,
   "id": "8a03ef7f",
   "metadata": {},
   "outputs": [
    {
     "name": "stdout",
     "output_type": "stream",
     "text": [
      "INFO:tensorflow:Assets written to: ./saved/assets\n"
     ]
    }
   ],
   "source": [
    "save_path = './saved'\n",
    "tf.saved_model.save(mod, save_path)"
   ]
  },
  {
   "cell_type": "code",
   "execution_count": 258,
   "id": "b88fc4ae",
   "metadata": {},
   "outputs": [
    {
     "data": {
      "text/plain": [
       "<tf.Tensor: shape=(3,), dtype=int32, numpy=array([3, 6, 9], dtype=int32)>"
      ]
     },
     "execution_count": 258,
     "metadata": {},
     "output_type": "execute_result"
    }
   ],
   "source": [
    "reloaded = tf.saved_model.load(save_path)\n",
    "reloaded.multiply(tf.constant([1, 2, 3]))"
   ]
  },
  {
   "cell_type": "markdown",
   "id": "522eb34d",
   "metadata": {},
   "source": [
    "# Training loops"
   ]
  },
  {
   "cell_type": "code",
   "execution_count": 259,
   "id": "3b75ebad",
   "metadata": {},
   "outputs": [],
   "source": [
    "import matplotlib\n",
    "from matplotlib import pyplot as plt\n",
    "\n",
    "matplotlib.rcParams['figure.figsize'] = [9, 6]"
   ]
  },
  {
   "cell_type": "code",
   "execution_count": 262,
   "id": "ad9f48cd",
   "metadata": {},
   "outputs": [
    {
     "data": {
      "text/plain": [
       "<tf.Tensor: shape=(201,), dtype=float32, numpy=\n",
       "array([-2.  , -1.98, -1.96, -1.94, -1.92, -1.9 , -1.88, -1.86, -1.84,\n",
       "       -1.82, -1.8 , -1.78, -1.76, -1.74, -1.72, -1.7 , -1.68, -1.66,\n",
       "       -1.64, -1.62, -1.6 , -1.58, -1.56, -1.54, -1.52, -1.5 , -1.48,\n",
       "       -1.46, -1.44, -1.42, -1.4 , -1.38, -1.36, -1.34, -1.32, -1.3 ,\n",
       "       -1.28, -1.26, -1.24, -1.22, -1.2 , -1.18, -1.16, -1.14, -1.12,\n",
       "       -1.1 , -1.08, -1.06, -1.04, -1.02, -1.  , -0.98, -0.96, -0.94,\n",
       "       -0.92, -0.9 , -0.88, -0.86, -0.84, -0.82, -0.8 , -0.78, -0.76,\n",
       "       -0.74, -0.72, -0.7 , -0.68, -0.66, -0.64, -0.62, -0.6 , -0.58,\n",
       "       -0.56, -0.54, -0.52, -0.5 , -0.48, -0.46, -0.44, -0.42, -0.4 ,\n",
       "       -0.38, -0.36, -0.34, -0.32, -0.3 , -0.28, -0.26, -0.24, -0.22,\n",
       "       -0.2 , -0.18, -0.16, -0.14, -0.12, -0.1 , -0.08, -0.06, -0.04,\n",
       "       -0.02,  0.  ,  0.02,  0.04,  0.06,  0.08,  0.1 ,  0.12,  0.14,\n",
       "        0.16,  0.18,  0.2 ,  0.22,  0.24,  0.26,  0.28,  0.3 ,  0.32,\n",
       "        0.34,  0.36,  0.38,  0.4 ,  0.42,  0.44,  0.46,  0.48,  0.5 ,\n",
       "        0.52,  0.54,  0.56,  0.58,  0.6 ,  0.62,  0.64,  0.66,  0.68,\n",
       "        0.7 ,  0.72,  0.74,  0.76,  0.78,  0.8 ,  0.82,  0.84,  0.86,\n",
       "        0.88,  0.9 ,  0.92,  0.94,  0.96,  0.98,  1.  ,  1.02,  1.04,\n",
       "        1.06,  1.08,  1.1 ,  1.12,  1.14,  1.16,  1.18,  1.2 ,  1.22,\n",
       "        1.24,  1.26,  1.28,  1.3 ,  1.32,  1.34,  1.36,  1.38,  1.4 ,\n",
       "        1.42,  1.44,  1.46,  1.48,  1.5 ,  1.52,  1.54,  1.56,  1.58,\n",
       "        1.6 ,  1.62,  1.64,  1.66,  1.68,  1.7 ,  1.72,  1.74,  1.76,\n",
       "        1.78,  1.8 ,  1.82,  1.84,  1.86,  1.88,  1.9 ,  1.92,  1.94,\n",
       "        1.96,  1.98,  2.  ], dtype=float32)>"
      ]
     },
     "execution_count": 262,
     "metadata": {},
     "output_type": "execute_result"
    }
   ],
   "source": [
    "x = tf.linspace(-2, 2, 201)\n",
    "x = tf.cast(x, tf.float32)\n",
    "x"
   ]
  },
  {
   "cell_type": "code",
   "execution_count": 274,
   "id": "65a121d9",
   "metadata": {},
   "outputs": [
    {
     "data": {
      "text/plain": [
       "<tf.Tensor: shape=(2,), dtype=int32, numpy=array([1, 2], dtype=int32)>"
      ]
     },
     "execution_count": 274,
     "metadata": {},
     "output_type": "execute_result"
    }
   ],
   "source": [
    "Z = tf.constant([1.8, 2.2], dtype=tf.float32)\n",
    "tf.cast(Z, tf.int32)  # [1, 2], dtype=tf.int32"
   ]
  },
  {
   "cell_type": "code",
   "execution_count": 265,
   "id": "e75bb83c",
   "metadata": {},
   "outputs": [],
   "source": [
    "def f(x):\n",
    "  y = x**2 + 2*x - 5\n",
    "  return y"
   ]
  },
  {
   "cell_type": "code",
   "execution_count": 281,
   "id": "13251c28",
   "metadata": {},
   "outputs": [],
   "source": [
    "y = f(x) + tf.random.normal(shape=[201])"
   ]
  },
  {
   "cell_type": "code",
   "execution_count": 282,
   "id": "31ffe173",
   "metadata": {},
   "outputs": [
    {
     "data": {
      "text/plain": [
       "array([-4.3435135 , -5.4526515 , -4.738425  , -6.122027  , -4.4509373 ,\n",
       "       -6.590864  , -6.123408  , -5.6089616 , -6.2533064 , -4.132752  ,\n",
       "       -4.509295  , -5.700386  , -5.108506  , -5.034731  , -4.4186945 ,\n",
       "       -5.5385804 , -5.422595  , -6.357416  , -6.38485   , -4.6620045 ,\n",
       "       -5.134161  , -4.944126  , -5.4627686 , -8.57341   , -5.184997  ,\n",
       "       -6.6340394 , -6.087063  , -5.0649176 , -6.042029  , -4.7213545 ,\n",
       "       -5.533582  , -5.464571  , -7.113071  , -5.605387  , -6.6231117 ,\n",
       "       -4.9253283 , -7.732475  , -4.1950965 , -5.2154093 , -5.2657266 ,\n",
       "       -4.7015266 , -5.933867  , -6.6917048 , -7.244476  , -6.5351715 ,\n",
       "       -5.694005  , -6.0956926 , -6.497624  , -5.3591022 , -3.5010128 ,\n",
       "       -6.5975056 , -5.91506   , -5.5171757 , -6.4015512 , -4.8323855 ,\n",
       "       -6.780216  , -4.4879684 , -6.2358565 , -5.8213577 , -6.1437774 ,\n",
       "       -6.566848  , -5.2929373 , -7.670784  , -4.6911116 , -5.6498075 ,\n",
       "       -5.8896675 , -7.7888937 , -6.543842  , -4.9019566 , -6.7034354 ,\n",
       "       -6.6503377 , -6.2575064 , -7.0288076 , -6.8053308 , -5.1388764 ,\n",
       "       -7.715373  , -7.0884657 , -5.366     , -5.859588  , -4.4735475 ,\n",
       "       -5.852435  , -5.551173  , -5.229196  , -4.440596  , -5.356659  ,\n",
       "       -5.8016167 , -5.1351695 , -7.093973  , -6.259226  , -5.5442753 ,\n",
       "       -4.804248  , -6.2264404 , -4.0762596 , -6.372798  , -4.750134  ,\n",
       "       -6.640981  , -5.6473274 , -5.9624825 , -5.4601674 , -7.443493  ,\n",
       "       -6.415138  , -6.326571  , -3.45709   , -6.157091  , -4.586985  ,\n",
       "       -6.168619  , -3.1495402 , -5.1363764 , -5.0727267 , -3.514199  ,\n",
       "       -4.399575  , -3.6359649 , -5.4450054 , -2.4099023 , -2.4351647 ,\n",
       "       -2.7370112 , -3.5078511 , -4.8423266 , -4.4271507 , -4.553557  ,\n",
       "       -4.7225494 , -2.4148371 , -4.773241  , -2.795967  , -2.8289742 ,\n",
       "       -3.824628  , -2.3269572 , -4.5463867 , -4.469878  , -5.998087  ,\n",
       "       -3.4026637 , -4.304966  , -1.5813737 , -2.744596  , -2.5337446 ,\n",
       "       -2.1394372 , -2.8435748 , -4.0341835 , -3.3934405 , -1.6020458 ,\n",
       "       -2.3439164 , -2.8980863 , -2.8255363 , -1.7010074 , -1.9763    ,\n",
       "       -1.8803821 , -4.249987  , -0.11701393, -2.4257803 , -2.7049801 ,\n",
       "       -2.6938906 , -4.2275105 , -2.78313   , -2.4291298 , -3.4111764 ,\n",
       "       -2.5675116 , -1.5948733 , -1.9968755 , -2.9978285 , -0.07385683,\n",
       "       -1.1287463 ,  0.50211465, -1.7552583 , -1.0815563 , -2.2399263 ,\n",
       "       -0.20064032, -2.3922482 ,  0.2829187 ,  0.08556509, -0.23940797,\n",
       "        1.1491877 , -0.44474697, -0.3457342 ,  0.97324073,  0.82271963,\n",
       "        0.0160065 ,  1.2446419 ,  0.16304827, -0.7930628 , -0.31873488,\n",
       "        1.1830208 ,  2.1736112 ,  1.4722021 ,  0.1454686 , -1.0633533 ,\n",
       "       -1.8115535 ,  2.3073037 ,  2.328909  ,  2.8330483 ,  2.259153  ,\n",
       "        4.5581007 ,  0.13148963,  2.298598  ,  1.3226458 ,  2.964787  ,\n",
       "        1.5754242 ,  3.4822698 ,  3.504363  ,  3.5551226 ,  3.585744  ,\n",
       "        3.8550286 ], dtype=float32)"
      ]
     },
     "execution_count": 282,
     "metadata": {},
     "output_type": "execute_result"
    }
   ],
   "source": [
    "y.numpy()"
   ]
  },
  {
   "cell_type": "code",
   "execution_count": 283,
   "id": "72321639",
   "metadata": {},
   "outputs": [
    {
     "data": {
      "image/png": "[encoded data removed]",
      "text/plain": [
       "<Figure size 648x432 with 1 Axes>"
      ]
     },
     "metadata": {
      "needs_background": "light"
     },
     "output_type": "display_data"
    }
   ],
   "source": [
    "plt.plot(x.numpy(), y.numpy(), 'b+', label='Data')\n",
    "plt.plot(x, f(x),  label='Ground truth')\n",
    "plt.legend();"
   ]
  },
  {
   "cell_type": "markdown",
   "id": "dbbd8c0c",
   "metadata": {},
   "source": [
    "# Create a model:"
   ]
  },
  {
   "cell_type": "code",
   "execution_count": 296,
   "id": "1e4d1302",
   "metadata": {},
   "outputs": [],
   "source": [
    "class Model(tf.keras.Model):\n",
    "  def __init__(self, units):\n",
    "    super().__init__()\n",
    "    self.dense1 = tf.keras.layers.Dense(units=units,\n",
    "                                        activation=tf.nn.relu,\n",
    "                                        kernel_initializer=tf.random.normal,\n",
    "                                        bias_initializer=tf.random.normal)\n",
    "    self.dense2 = tf.keras.layers.Dense(1)\n",
    "\n",
    "  def call(self, x, training=True):\n",
    "    # For Keras layers/models, implement `call` instead of `__call__`.\n",
    "    print(x)\n",
    "    x = x[:, tf.newaxis]\n",
    "    print(x)\n",
    "    x = self.dense1(x)\n",
    "    x = self.dense2(x)\n",
    "    return tf.squeeze(x, axis=1) # y ekseninden boyut cikarmak icin kullanilir"
   ]
  },
  {
   "cell_type": "code",
   "execution_count": 297,
   "id": "00e7df47",
   "metadata": {},
   "outputs": [],
   "source": [
    "model = Model(64)"
   ]
  },
  {
   "cell_type": "code",
   "execution_count": 302,
   "id": "5b54dd96",
   "metadata": {},
   "outputs": [
    {
     "name": "stdout",
     "output_type": "stream",
     "text": [
      "tf.Tensor(\n",
      "[ 1.          1.09090909  1.18181818  1.27272727  1.36363636  1.45454545\n",
      "  1.54545455  1.63636364  1.72727273  1.81818182  1.90909091  2.\n",
      "  2.09090909  2.18181818  2.27272727  2.36363636  2.45454545  2.54545455\n",
      "  2.63636364  2.72727273  2.81818182  2.90909091  3.          3.09090909\n",
      "  3.18181818  3.27272727  3.36363636  3.45454545  3.54545455  3.63636364\n",
      "  3.72727273  3.81818182  3.90909091  4.          4.09090909  4.18181818\n",
      "  4.27272727  4.36363636  4.45454545  4.54545455  4.63636364  4.72727273\n",
      "  4.81818182  4.90909091  5.          5.09090909  5.18181818  5.27272727\n",
      "  5.36363636  5.45454545  5.54545455  5.63636364  5.72727273  5.81818182\n",
      "  5.90909091  6.          6.09090909  6.18181818  6.27272727  6.36363636\n",
      "  6.45454545  6.54545455  6.63636364  6.72727273  6.81818182  6.90909091\n",
      "  7.          7.09090909  7.18181818  7.27272727  7.36363636  7.45454545\n",
      "  7.54545455  7.63636364  7.72727273  7.81818182  7.90909091  8.\n",
      "  8.09090909  8.18181818  8.27272727  8.36363636  8.45454545  8.54545455\n",
      "  8.63636364  8.72727273  8.81818182  8.90909091  9.          9.09090909\n",
      "  9.18181818  9.27272727  9.36363636  9.45454545  9.54545455  9.63636364\n",
      "  9.72727273  9.81818182  9.90909091 10.        ], shape=(100,), dtype=float64)\n"
     ]
    },
    {
     "data": {
      "text/plain": [
       "<tf.Tensor: shape=(100, 1, 1), dtype=float64, numpy=\n",
       "array([[[ 1.        ]],\n",
       "\n",
       "       [[ 1.09090909]],\n",
       "\n",
       "       [[ 1.18181818]],\n",
       "\n",
       "       [[ 1.27272727]],\n",
       "\n",
       "       [[ 1.36363636]],\n",
       "\n",
       "       [[ 1.45454545]],\n",
       "\n",
       "       [[ 1.54545455]],\n",
       "\n",
       "       [[ 1.63636364]],\n",
       "\n",
       "       [[ 1.72727273]],\n",
       "\n",
       "       [[ 1.81818182]],\n",
       "\n",
       "       [[ 1.90909091]],\n",
       "\n",
       "       [[ 2.        ]],\n",
       "\n",
       "       [[ 2.09090909]],\n",
       "\n",
       "       [[ 2.18181818]],\n",
       "\n",
       "       [[ 2.27272727]],\n",
       "\n",
       "       [[ 2.36363636]],\n",
       "\n",
       "       [[ 2.45454545]],\n",
       "\n",
       "       [[ 2.54545455]],\n",
       "\n",
       "       [[ 2.63636364]],\n",
       "\n",
       "       [[ 2.72727273]],\n",
       "\n",
       "       [[ 2.81818182]],\n",
       "\n",
       "       [[ 2.90909091]],\n",
       "\n",
       "       [[ 3.        ]],\n",
       "\n",
       "       [[ 3.09090909]],\n",
       "\n",
       "       [[ 3.18181818]],\n",
       "\n",
       "       [[ 3.27272727]],\n",
       "\n",
       "       [[ 3.36363636]],\n",
       "\n",
       "       [[ 3.45454545]],\n",
       "\n",
       "       [[ 3.54545455]],\n",
       "\n",
       "       [[ 3.63636364]],\n",
       "\n",
       "       [[ 3.72727273]],\n",
       "\n",
       "       [[ 3.81818182]],\n",
       "\n",
       "       [[ 3.90909091]],\n",
       "\n",
       "       [[ 4.        ]],\n",
       "\n",
       "       [[ 4.09090909]],\n",
       "\n",
       "       [[ 4.18181818]],\n",
       "\n",
       "       [[ 4.27272727]],\n",
       "\n",
       "       [[ 4.36363636]],\n",
       "\n",
       "       [[ 4.45454545]],\n",
       "\n",
       "       [[ 4.54545455]],\n",
       "\n",
       "       [[ 4.63636364]],\n",
       "\n",
       "       [[ 4.72727273]],\n",
       "\n",
       "       [[ 4.81818182]],\n",
       "\n",
       "       [[ 4.90909091]],\n",
       "\n",
       "       [[ 5.        ]],\n",
       "\n",
       "       [[ 5.09090909]],\n",
       "\n",
       "       [[ 5.18181818]],\n",
       "\n",
       "       [[ 5.27272727]],\n",
       "\n",
       "       [[ 5.36363636]],\n",
       "\n",
       "       [[ 5.45454545]],\n",
       "\n",
       "       [[ 5.54545455]],\n",
       "\n",
       "       [[ 5.63636364]],\n",
       "\n",
       "       [[ 5.72727273]],\n",
       "\n",
       "       [[ 5.81818182]],\n",
       "\n",
       "       [[ 5.90909091]],\n",
       "\n",
       "       [[ 6.        ]],\n",
       "\n",
       "       [[ 6.09090909]],\n",
       "\n",
       "       [[ 6.18181818]],\n",
       "\n",
       "       [[ 6.27272727]],\n",
       "\n",
       "       [[ 6.36363636]],\n",
       "\n",
       "       [[ 6.45454545]],\n",
       "\n",
       "       [[ 6.54545455]],\n",
       "\n",
       "       [[ 6.63636364]],\n",
       "\n",
       "       [[ 6.72727273]],\n",
       "\n",
       "       [[ 6.81818182]],\n",
       "\n",
       "       [[ 6.90909091]],\n",
       "\n",
       "       [[ 7.        ]],\n",
       "\n",
       "       [[ 7.09090909]],\n",
       "\n",
       "       [[ 7.18181818]],\n",
       "\n",
       "       [[ 7.27272727]],\n",
       "\n",
       "       [[ 7.36363636]],\n",
       "\n",
       "       [[ 7.45454545]],\n",
       "\n",
       "       [[ 7.54545455]],\n",
       "\n",
       "       [[ 7.63636364]],\n",
       "\n",
       "       [[ 7.72727273]],\n",
       "\n",
       "       [[ 7.81818182]],\n",
       "\n",
       "       [[ 7.90909091]],\n",
       "\n",
       "       [[ 8.        ]],\n",
       "\n",
       "       [[ 8.09090909]],\n",
       "\n",
       "       [[ 8.18181818]],\n",
       "\n",
       "       [[ 8.27272727]],\n",
       "\n",
       "       [[ 8.36363636]],\n",
       "\n",
       "       [[ 8.45454545]],\n",
       "\n",
       "       [[ 8.54545455]],\n",
       "\n",
       "       [[ 8.63636364]],\n",
       "\n",
       "       [[ 8.72727273]],\n",
       "\n",
       "       [[ 8.81818182]],\n",
       "\n",
       "       [[ 8.90909091]],\n",
       "\n",
       "       [[ 9.        ]],\n",
       "\n",
       "       [[ 9.09090909]],\n",
       "\n",
       "       [[ 9.18181818]],\n",
       "\n",
       "       [[ 9.27272727]],\n",
       "\n",
       "       [[ 9.36363636]],\n",
       "\n",
       "       [[ 9.45454545]],\n",
       "\n",
       "       [[ 9.54545455]],\n",
       "\n",
       "       [[ 9.63636364]],\n",
       "\n",
       "       [[ 9.72727273]],\n",
       "\n",
       "       [[ 9.81818182]],\n",
       "\n",
       "       [[ 9.90909091]],\n",
       "\n",
       "       [[10.        ]]])>"
      ]
     },
     "execution_count": 302,
     "metadata": {},
     "output_type": "execute_result"
    }
   ],
   "source": [
    "a = tf.linspace(1,10,100)\n",
    "print(a)\n",
    "a = a[:,tf.newaxis]\n",
    "a = a[:,tf.newaxis]\n",
    "a"
   ]
  },
  {
   "cell_type": "code",
   "execution_count": null,
   "id": "65c06c02",
   "metadata": {},
   "outputs": [],
   "source": []
  },
  {
   "cell_type": "code",
   "execution_count": 298,
   "id": "6837fa68",
   "metadata": {},
   "outputs": [
    {
     "name": "stdout",
     "output_type": "stream",
     "text": [
      "tf.Tensor(\n",
      "[-2.   -1.98 -1.96 -1.94 -1.92 -1.9  -1.88 -1.86 -1.84 -1.82 -1.8  -1.78\n",
      " -1.76 -1.74 -1.72 -1.7  -1.68 -1.66 -1.64 -1.62 -1.6  -1.58 -1.56 -1.54\n",
      " -1.52 -1.5  -1.48 -1.46 -1.44 -1.42 -1.4  -1.38 -1.36 -1.34 -1.32 -1.3\n",
      " -1.28 -1.26 -1.24 -1.22 -1.2  -1.18 -1.16 -1.14 -1.12 -1.1  -1.08 -1.06\n",
      " -1.04 -1.02 -1.   -0.98 -0.96 -0.94 -0.92 -0.9  -0.88 -0.86 -0.84 -0.82\n",
      " -0.8  -0.78 -0.76 -0.74 -0.72 -0.7  -0.68 -0.66 -0.64 -0.62 -0.6  -0.58\n",
      " -0.56 -0.54 -0.52 -0.5  -0.48 -0.46 -0.44 -0.42 -0.4  -0.38 -0.36 -0.34\n",
      " -0.32 -0.3  -0.28 -0.26 -0.24 -0.22 -0.2  -0.18 -0.16 -0.14 -0.12 -0.1\n",
      " -0.08 -0.06 -0.04 -0.02  0.    0.02  0.04  0.06  0.08  0.1   0.12  0.14\n",
      "  0.16  0.18  0.2   0.22  0.24  0.26  0.28  0.3   0.32  0.34  0.36  0.38\n",
      "  0.4   0.42  0.44  0.46  0.48  0.5   0.52  0.54  0.56  0.58  0.6   0.62\n",
      "  0.64  0.66  0.68  0.7   0.72  0.74  0.76  0.78  0.8   0.82  0.84  0.86\n",
      "  0.88  0.9   0.92  0.94  0.96  0.98  1.    1.02  1.04  1.06  1.08  1.1\n",
      "  1.12  1.14  1.16  1.18  1.2   1.22  1.24  1.26  1.28  1.3   1.32  1.34\n",
      "  1.36  1.38  1.4   1.42  1.44  1.46  1.48  1.5   1.52  1.54  1.56  1.58\n",
      "  1.6   1.62  1.64  1.66  1.68  1.7   1.72  1.74  1.76  1.78  1.8   1.82\n",
      "  1.84  1.86  1.88  1.9   1.92  1.94  1.96  1.98  2.  ], shape=(201,), dtype=float32)\n",
      "tf.Tensor(\n",
      "[[-2.  ]\n",
      " [-1.98]\n",
      " [-1.96]\n",
      " [-1.94]\n",
      " [-1.92]\n",
      " [-1.9 ]\n",
      " [-1.88]\n",
      " [-1.86]\n",
      " [-1.84]\n",
      " [-1.82]\n",
      " [-1.8 ]\n",
      " [-1.78]\n",
      " [-1.76]\n",
      " [-1.74]\n",
      " [-1.72]\n",
      " [-1.7 ]\n",
      " [-1.68]\n",
      " [-1.66]\n",
      " [-1.64]\n",
      " [-1.62]\n",
      " [-1.6 ]\n",
      " [-1.58]\n",
      " [-1.56]\n",
      " [-1.54]\n",
      " [-1.52]\n",
      " [-1.5 ]\n",
      " [-1.48]\n",
      " [-1.46]\n",
      " [-1.44]\n",
      " [-1.42]\n",
      " [-1.4 ]\n",
      " [-1.38]\n",
      " [-1.36]\n",
      " [-1.34]\n",
      " [-1.32]\n",
      " [-1.3 ]\n",
      " [-1.28]\n",
      " [-1.26]\n",
      " [-1.24]\n",
      " [-1.22]\n",
      " [-1.2 ]\n",
      " [-1.18]\n",
      " [-1.16]\n",
      " [-1.14]\n",
      " [-1.12]\n",
      " [-1.1 ]\n",
      " [-1.08]\n",
      " [-1.06]\n",
      " [-1.04]\n",
      " [-1.02]\n",
      " [-1.  ]\n",
      " [-0.98]\n",
      " [-0.96]\n",
      " [-0.94]\n",
      " [-0.92]\n",
      " [-0.9 ]\n",
      " [-0.88]\n",
      " [-0.86]\n",
      " [-0.84]\n",
      " [-0.82]\n",
      " [-0.8 ]\n",
      " [-0.78]\n",
      " [-0.76]\n",
      " [-0.74]\n",
      " [-0.72]\n",
      " [-0.7 ]\n",
      " [-0.68]\n",
      " [-0.66]\n",
      " [-0.64]\n",
      " [-0.62]\n",
      " [-0.6 ]\n",
      " [-0.58]\n",
      " [-0.56]\n",
      " [-0.54]\n",
      " [-0.52]\n",
      " [-0.5 ]\n",
      " [-0.48]\n",
      " [-0.46]\n",
      " [-0.44]\n",
      " [-0.42]\n",
      " [-0.4 ]\n",
      " [-0.38]\n",
      " [-0.36]\n",
      " [-0.34]\n",
      " [-0.32]\n",
      " [-0.3 ]\n",
      " [-0.28]\n",
      " [-0.26]\n",
      " [-0.24]\n",
      " [-0.22]\n",
      " [-0.2 ]\n",
      " [-0.18]\n",
      " [-0.16]\n",
      " [-0.14]\n",
      " [-0.12]\n",
      " [-0.1 ]\n",
      " [-0.08]\n",
      " [-0.06]\n",
      " [-0.04]\n",
      " [-0.02]\n",
      " [ 0.  ]\n",
      " [ 0.02]\n",
      " [ 0.04]\n",
      " [ 0.06]\n",
      " [ 0.08]\n",
      " [ 0.1 ]\n",
      " [ 0.12]\n",
      " [ 0.14]\n",
      " [ 0.16]\n",
      " [ 0.18]\n",
      " [ 0.2 ]\n",
      " [ 0.22]\n",
      " [ 0.24]\n",
      " [ 0.26]\n",
      " [ 0.28]\n",
      " [ 0.3 ]\n",
      " [ 0.32]\n",
      " [ 0.34]\n",
      " [ 0.36]\n",
      " [ 0.38]\n",
      " [ 0.4 ]\n",
      " [ 0.42]\n",
      " [ 0.44]\n",
      " [ 0.46]\n",
      " [ 0.48]\n",
      " [ 0.5 ]\n",
      " [ 0.52]\n",
      " [ 0.54]\n",
      " [ 0.56]\n",
      " [ 0.58]\n",
      " [ 0.6 ]\n",
      " [ 0.62]\n",
      " [ 0.64]\n",
      " [ 0.66]\n",
      " [ 0.68]\n",
      " [ 0.7 ]\n",
      " [ 0.72]\n",
      " [ 0.74]\n",
      " [ 0.76]\n",
      " [ 0.78]\n",
      " [ 0.8 ]\n",
      " [ 0.82]\n",
      " [ 0.84]\n",
      " [ 0.86]\n",
      " [ 0.88]\n",
      " [ 0.9 ]\n",
      " [ 0.92]\n",
      " [ 0.94]\n",
      " [ 0.96]\n",
      " [ 0.98]\n",
      " [ 1.  ]\n",
      " [ 1.02]\n",
      " [ 1.04]\n",
      " [ 1.06]\n",
      " [ 1.08]\n",
      " [ 1.1 ]\n",
      " [ 1.12]\n",
      " [ 1.14]\n",
      " [ 1.16]\n",
      " [ 1.18]\n",
      " [ 1.2 ]\n",
      " [ 1.22]\n",
      " [ 1.24]\n",
      " [ 1.26]\n",
      " [ 1.28]\n",
      " [ 1.3 ]\n",
      " [ 1.32]\n",
      " [ 1.34]\n",
      " [ 1.36]\n",
      " [ 1.38]\n",
      " [ 1.4 ]\n",
      " [ 1.42]\n",
      " [ 1.44]\n",
      " [ 1.46]\n",
      " [ 1.48]\n",
      " [ 1.5 ]\n",
      " [ 1.52]\n",
      " [ 1.54]\n",
      " [ 1.56]\n",
      " [ 1.58]\n",
      " [ 1.6 ]\n",
      " [ 1.62]\n",
      " [ 1.64]\n",
      " [ 1.66]\n",
      " [ 1.68]\n",
      " [ 1.7 ]\n",
      " [ 1.72]\n",
      " [ 1.74]\n",
      " [ 1.76]\n",
      " [ 1.78]\n",
      " [ 1.8 ]\n",
      " [ 1.82]\n",
      " [ 1.84]\n",
      " [ 1.86]\n",
      " [ 1.88]\n",
      " [ 1.9 ]\n",
      " [ 1.92]\n",
      " [ 1.94]\n",
      " [ 1.96]\n",
      " [ 1.98]\n",
      " [ 2.  ]], shape=(201, 1), dtype=float32)\n"
     ]
    },
    {
     "data": {
      "image/png": "[encoded data removed]",
      "text/plain": [
       "<Figure size 648x432 with 1 Axes>"
      ]
     },
     "metadata": {
      "needs_background": "light"
     },
     "output_type": "display_data"
    }
   ],
   "source": [
    "plt.plot(x.numpy(), y.numpy(), '.', label='data')\n",
    "plt.plot(x, f(x),  label='Ground truth')\n",
    "plt.plot(x, model(x), label='Untrained predictions')\n",
    "plt.title('Before training')\n",
    "plt.legend();"
   ]
  },
  {
   "cell_type": "markdown",
   "id": "3992f396",
   "metadata": {},
   "source": [
    "# Write a basic training loop"
   ]
  },
  {
   "cell_type": "code",
   "execution_count": 287,
   "id": "5050d45d",
   "metadata": {},
   "outputs": [
    {
     "name": "stdout",
     "output_type": "stream",
     "text": [
      "Mean squared error: 22.250\n",
      "Mean squared error: 1.161\n",
      "Mean squared error: 1.144\n",
      "Mean squared error: 1.132\n",
      "Mean squared error: 1.121\n",
      "Mean squared error: 1.111\n",
      "Mean squared error: 1.103\n",
      "Mean squared error: 1.095\n",
      "Mean squared error: 1.089\n",
      "Mean squared error: 1.084\n"
     ]
    }
   ],
   "source": [
    "variables = model.variables\n",
    "\n",
    "optimizer = tf.optimizers.SGD(learning_rate=0.01)\n",
    "\n",
    "for step in range(1000):\n",
    "  with tf.GradientTape() as tape:\n",
    "    prediction = model(x)\n",
    "    error = (y-prediction)**2\n",
    "    mean_error = tf.reduce_mean(error)\n",
    "  gradient = tape.gradient(mean_error, variables)\n",
    "  optimizer.apply_gradients(zip(gradient, variables))\n",
    "\n",
    "  if step % 100 == 0:\n",
    "    print(f'Mean squared error: {mean_error.numpy():0.3f}')"
   ]
  },
  {
   "cell_type": "code",
   "execution_count": 288,
   "id": "0bb89bd1",
   "metadata": {},
   "outputs": [
    {
     "data": {
      "image/png": "[encoded data removed]",
      "text/plain": [
       "<Figure size 648x432 with 1 Axes>"
      ]
     },
     "metadata": {
      "needs_background": "light"
     },
     "output_type": "display_data"
    }
   ],
   "source": [
    "plt.plot(x.numpy(),y.numpy(), '.', label=\"data\")\n",
    "plt.plot(x, f(x),  label='Ground truth')\n",
    "plt.plot(x, model(x), label='Trained predictions')\n",
    "plt.title('After training')\n",
    "plt.legend();"
   ]
  },
  {
   "cell_type": "markdown",
   "id": "36233844",
   "metadata": {},
   "source": [
    "That's working, but remember that implementations of common training utilities are available in the tf.keras module. So consider using those before writing your own. To start with, the Model.compile and Model.fit methods implement a training loop for you:"
   ]
  },
  {
   "cell_type": "code",
   "execution_count": 292,
   "id": "0c550b96",
   "metadata": {},
   "outputs": [],
   "source": [
    "new_model = Model(64)"
   ]
  },
  {
   "cell_type": "code",
   "execution_count": 294,
   "id": "378f8a98",
   "metadata": {},
   "outputs": [
    {
     "name": "stdout",
     "output_type": "stream",
     "text": [
      "INFO:tensorflow:Assets written to: ./my_model/assets\n"
     ]
    }
   ],
   "source": [
    "new_model.compile(\n",
    "    loss=tf.keras.losses.MSE,\n",
    "    optimizer=tf.optimizers.SGD(learning_rate=0.01))\n",
    "\n",
    "history = new_model.fit(x, y,\n",
    "                        epochs=100,\n",
    "                        batch_size=32,\n",
    "                        verbose=0)\n",
    "\n",
    "model.save('./my_model')"
   ]
  },
  {
   "cell_type": "code",
   "execution_count": 295,
   "id": "ebbe0e4a",
   "metadata": {},
   "outputs": [
    {
     "data": {
      "image/png": "[encoded data removed]",
      "text/plain": [
       "<Figure size 648x432 with 1 Axes>"
      ]
     },
     "metadata": {
      "needs_background": "light"
     },
     "output_type": "display_data"
    }
   ],
   "source": [
    "plt.plot(history.history['loss'])\n",
    "plt.xlabel('Epoch')\n",
    "plt.ylim([0, max(plt.ylim())])\n",
    "plt.ylabel('Loss [Mean Squared Error]')\n",
    "plt.title('Keras training progress');"
   ]
  },
  {
   "cell_type": "code",
   "execution_count": null,
   "id": "679a7d4d",
   "metadata": {},
   "outputs": [],
   "source": []
  },
  {
   "cell_type": "code",
   "execution_count": null,
   "id": "4b9412bf",
   "metadata": {},
   "outputs": [],
   "source": []
  },
  {
   "cell_type": "markdown",
   "id": "b1d2abcf",
   "metadata": {},
   "source": [
    "# Creating and running a graph"
   ]
  },
  {
   "cell_type": "code",
   "execution_count": 204,
   "id": "02b24ff6",
   "metadata": {},
   "outputs": [],
   "source": [
    "# To support both python 2 and python 3\n",
    "from __future__ import division, print_function, unicode_literals\n",
    "\n",
    "# Common imports\n",
    "import numpy as np\n",
    "import os\n",
    "\n",
    "try:\n",
    "    # %tensorflow_version only exists in Colab.\n",
    "    %tensorflow_version 1.x\n",
    "except Exception:\n",
    "    pass\n",
    "\n",
    "# to make this notebook's output stable across runs\n",
    "def reset_graph(seed=42):\n",
    "    tf.compat.v1.reset_default_graph()\n",
    "    tf.compat.v1.set_random_seed(seed)\n",
    "    np.random.seed(seed)\n",
    "\n",
    "# To plot pretty figures\n",
    "%matplotlib inline\n",
    "import matplotlib\n",
    "import matplotlib.pyplot as plt\n",
    "plt.rcParams['axes.labelsize'] = 14\n",
    "plt.rcParams['xtick.labelsize'] = 12\n",
    "plt.rcParams['ytick.labelsize'] = 12\n",
    "\n",
    "# Where to save the figures\n",
    "PROJECT_ROOT_DIR = \".\"\n",
    "CHAPTER_ID = \"tensorflow\"\n",
    "IMAGES_PATH = os.path.join(PROJECT_ROOT_DIR, \"images\", CHAPTER_ID)\n",
    "os.makedirs(IMAGES_PATH, exist_ok=True)\n",
    "\n",
    "def save_fig(fig_id, tight_layout=True, fig_extension=\"png\", resolution=300):\n",
    "    path = os.path.join(IMAGES_PATH, fig_id + \".\" + fig_extension)\n",
    "    print(\"Saving figure\", fig_id)\n",
    "    if tight_layout:\n",
    "        plt.tight_layout()\n",
    "    plt.savefig(path, format=fig_extension, dpi=resolution)"
   ]
  },
  {
   "cell_type": "code",
   "execution_count": 205,
   "id": "6853bf72",
   "metadata": {},
   "outputs": [],
   "source": [
    "import tensorflow as tf\n",
    "\n",
    "reset_graph()\n",
    "\n",
    "x = tf.Variable(3, name=\"x\")\n",
    "y = tf.Variable(4, name=\"y\")\n",
    "f = x*x*y + y + 2"
   ]
  },
  {
   "cell_type": "code",
   "execution_count": 208,
   "id": "74778d2f",
   "metadata": {},
   "outputs": [
    {
     "data": {
      "text/plain": [
       "<tf.Tensor: shape=(), dtype=int32, numpy=42>"
      ]
     },
     "execution_count": 208,
     "metadata": {},
     "output_type": "execute_result"
    }
   ],
   "source": [
    "f"
   ]
  },
  {
   "cell_type": "code",
   "execution_count": null,
   "id": "5dca3d27",
   "metadata": {},
   "outputs": [],
   "source": []
  },
  {
   "cell_type": "code",
   "execution_count": null,
   "id": "bf389287",
   "metadata": {},
   "outputs": [],
   "source": []
  },
  {
   "cell_type": "code",
   "execution_count": null,
   "id": "6c65ae25",
   "metadata": {},
   "outputs": [],
   "source": []
  },
  {
   "cell_type": "code",
   "execution_count": null,
   "id": "d4a0581f",
   "metadata": {},
   "outputs": [],
   "source": []
  },
  {
   "cell_type": "code",
   "execution_count": null,
   "id": "b44e419c",
   "metadata": {},
   "outputs": [],
   "source": []
  },
  {
   "cell_type": "code",
   "execution_count": null,
   "id": "a63660a4",
   "metadata": {},
   "outputs": [],
   "source": []
  },
  {
   "cell_type": "code",
   "execution_count": null,
   "id": "1c347521",
   "metadata": {},
   "outputs": [],
   "source": []
  },
  {
   "cell_type": "code",
   "execution_count": null,
   "id": "52ee7552",
   "metadata": {},
   "outputs": [],
   "source": []
  },
  {
   "cell_type": "code",
   "execution_count": null,
   "id": "24bfd17c",
   "metadata": {},
   "outputs": [],
   "source": []
  },
  {
   "cell_type": "code",
   "execution_count": null,
   "id": "36b9a696",
   "metadata": {},
   "outputs": [],
   "source": []
  },
  {
   "cell_type": "code",
   "execution_count": null,
   "id": "797e50ef",
   "metadata": {},
   "outputs": [],
   "source": []
  },
  {
   "cell_type": "code",
   "execution_count": null,
   "id": "973d0210",
   "metadata": {},
   "outputs": [],
   "source": []
  },
  {
   "cell_type": "code",
   "execution_count": null,
   "id": "95f73df4",
   "metadata": {},
   "outputs": [],
   "source": []
  },
  {
   "cell_type": "code",
   "execution_count": null,
   "id": "7e328c4e",
   "metadata": {},
   "outputs": [],
   "source": []
  },
  {
   "cell_type": "code",
   "execution_count": null,
   "id": "30a859bf",
   "metadata": {},
   "outputs": [],
   "source": []
  },
  {
   "cell_type": "code",
   "execution_count": null,
   "id": "718609dd",
   "metadata": {},
   "outputs": [],
   "source": []
  },
  {
   "cell_type": "code",
   "execution_count": null,
   "id": "9281cd18",
   "metadata": {},
   "outputs": [],
   "source": []
  },
  {
   "cell_type": "code",
   "execution_count": null,
   "id": "4d63a6a6",
   "metadata": {},
   "outputs": [],
   "source": []
  },
  {
   "cell_type": "code",
   "execution_count": null,
   "id": "791cc380",
   "metadata": {},
   "outputs": [],
   "source": []
  },
  {
   "cell_type": "code",
   "execution_count": null,
   "id": "26b709ea",
   "metadata": {},
   "outputs": [],
   "source": []
  },
  {
   "cell_type": "code",
   "execution_count": null,
   "id": "15887c59",
   "metadata": {},
   "outputs": [],
   "source": []
  },
  {
   "cell_type": "code",
   "execution_count": null,
   "id": "9a492833",
   "metadata": {},
   "outputs": [],
   "source": []
  },
  {
   "cell_type": "code",
   "execution_count": null,
   "id": "13805e42",
   "metadata": {},
   "outputs": [],
   "source": []
  },
  {
   "cell_type": "code",
   "execution_count": null,
   "id": "e24bd19d",
   "metadata": {},
   "outputs": [],
   "source": []
  },
  {
   "cell_type": "code",
   "execution_count": null,
   "id": "1abdc76e",
   "metadata": {},
   "outputs": [],
   "source": []
  },
  {
   "cell_type": "code",
   "execution_count": null,
   "id": "e3946fdc",
   "metadata": {},
   "outputs": [],
   "source": []
  },
  {
   "cell_type": "code",
   "execution_count": null,
   "id": "4dc3ecb6",
   "metadata": {},
   "outputs": [],
   "source": []
  },
  {
   "cell_type": "code",
   "execution_count": null,
   "id": "f36d8ee5",
   "metadata": {},
   "outputs": [],
   "source": []
  },
  {
   "cell_type": "code",
   "execution_count": null,
   "id": "e47c847b",
   "metadata": {},
   "outputs": [],
   "source": []
  },
  {
   "cell_type": "code",
   "execution_count": null,
   "id": "4a48504d",
   "metadata": {},
   "outputs": [],
   "source": []
  },
  {
   "cell_type": "code",
   "execution_count": null,
   "id": "0a091ce7",
   "metadata": {},
   "outputs": [],
   "source": []
  },
  {
   "cell_type": "code",
   "execution_count": null,
   "id": "7cc2c6b0",
   "metadata": {},
   "outputs": [],
   "source": []
  },
  {
   "cell_type": "code",
   "execution_count": null,
   "id": "01629c7a",
   "metadata": {},
   "outputs": [],
   "source": []
  },
  {
   "cell_type": "code",
   "execution_count": null,
   "id": "684046ca",
   "metadata": {},
   "outputs": [],
   "source": []
  },
  {
   "cell_type": "code",
   "execution_count": null,
   "id": "bcd1f51b",
   "metadata": {},
   "outputs": [],
   "source": []
  },
  {
   "cell_type": "code",
   "execution_count": null,
   "id": "a25cbca9",
   "metadata": {},
   "outputs": [],
   "source": []
  },
  {
   "cell_type": "code",
   "execution_count": null,
   "id": "f6919ded",
   "metadata": {},
   "outputs": [],
   "source": []
  },
  {
   "cell_type": "code",
   "execution_count": null,
   "id": "ac2ced71",
   "metadata": {},
   "outputs": [],
   "source": []
  },
  {
   "cell_type": "code",
   "execution_count": null,
   "id": "5b0b60cb",
   "metadata": {},
   "outputs": [],
   "source": []
  },
  {
   "cell_type": "code",
   "execution_count": null,
   "id": "0684ab5e",
   "metadata": {},
   "outputs": [],
   "source": []
  },
  {
   "cell_type": "code",
   "execution_count": null,
   "id": "a80bd256",
   "metadata": {},
   "outputs": [],
   "source": []
  },
  {
   "cell_type": "code",
   "execution_count": null,
   "id": "2a3d68ff",
   "metadata": {},
   "outputs": [],
   "source": []
  },
  {
   "cell_type": "code",
   "execution_count": null,
   "id": "ec7fd273",
   "metadata": {},
   "outputs": [],
   "source": []
  },
  {
   "cell_type": "code",
   "execution_count": null,
   "id": "fef2e79d",
   "metadata": {},
   "outputs": [],
   "source": []
  },
  {
   "cell_type": "code",
   "execution_count": null,
   "id": "bad38124",
   "metadata": {},
   "outputs": [],
   "source": []
  },
  {
   "cell_type": "code",
   "execution_count": null,
   "id": "8bcddfc3",
   "metadata": {},
   "outputs": [],
   "source": []
  },
  {
   "cell_type": "code",
   "execution_count": null,
   "id": "d3f15f5a",
   "metadata": {},
   "outputs": [],
   "source": []
  },
  {
   "cell_type": "code",
   "execution_count": null,
   "id": "06587f53",
   "metadata": {},
   "outputs": [],
   "source": []
  },
  {
   "cell_type": "code",
   "execution_count": null,
   "id": "20eb8187",
   "metadata": {},
   "outputs": [],
   "source": []
  },
  {
   "cell_type": "code",
   "execution_count": null,
   "id": "74771432",
   "metadata": {},
   "outputs": [],
   "source": []
  },
  {
   "cell_type": "code",
   "execution_count": null,
   "id": "eb6b54d9",
   "metadata": {},
   "outputs": [],
   "source": []
  },
  {
   "cell_type": "code",
   "execution_count": null,
   "id": "bf243355",
   "metadata": {},
   "outputs": [],
   "source": []
  },
  {
   "cell_type": "code",
   "execution_count": null,
   "id": "5b0715d5",
   "metadata": {},
   "outputs": [],
   "source": []
  },
  {
   "cell_type": "code",
   "execution_count": null,
   "id": "3eae4935",
   "metadata": {},
   "outputs": [],
   "source": []
  },
  {
   "cell_type": "code",
   "execution_count": 188,
   "id": "50d70bf5",
   "metadata": {},
   "outputs": [
    {
     "data": {
      "text/plain": [
       "'2.7.0'"
      ]
     },
     "execution_count": 188,
     "metadata": {},
     "output_type": "execute_result"
    }
   ],
   "source": [
    "import tensorflow as tf\n",
    "from tensorflow import keras\n",
    "tf.__version__"
   ]
  },
  {
   "cell_type": "code",
   "execution_count": 189,
   "id": "ccc62363",
   "metadata": {},
   "outputs": [
    {
     "data": {
      "text/plain": [
       "'2.7.0'"
      ]
     },
     "execution_count": 189,
     "metadata": {},
     "output_type": "execute_result"
    }
   ],
   "source": [
    "import tensorflow as tf\n",
    "from tensorflow import keras\n",
    "tf.__version__"
   ]
  },
  {
   "cell_type": "code",
   "execution_count": 190,
   "id": "19f44495",
   "metadata": {},
   "outputs": [
    {
     "data": {
      "text/plain": [
       "'2.7.0'"
      ]
     },
     "execution_count": 190,
     "metadata": {},
     "output_type": "execute_result"
    }
   ],
   "source": [
    "keras.__version__"
   ]
  },
  {
   "cell_type": "code",
   "execution_count": 191,
   "id": "3efa0908",
   "metadata": {},
   "outputs": [],
   "source": [
    "fashion_mnist = keras.datasets.fashion_mnist\n",
    "(X_train_full, y_train_full), (X_test, y_test) = fashion_mnist.load_data()"
   ]
  },
  {
   "cell_type": "code",
   "execution_count": 192,
   "id": "c08eb41e",
   "metadata": {},
   "outputs": [
    {
     "data": {
      "text/plain": [
       "(60000, 28, 28)"
      ]
     },
     "execution_count": 192,
     "metadata": {},
     "output_type": "execute_result"
    }
   ],
   "source": [
    "X_train_full.shape"
   ]
  },
  {
   "cell_type": "code",
   "execution_count": 193,
   "id": "bcf58de1",
   "metadata": {},
   "outputs": [
    {
     "data": {
      "text/plain": [
       "(60000,)"
      ]
     },
     "execution_count": 193,
     "metadata": {},
     "output_type": "execute_result"
    }
   ],
   "source": [
    "y_train_full.shape"
   ]
  },
  {
   "cell_type": "code",
   "execution_count": 194,
   "id": "bacf55b2",
   "metadata": {},
   "outputs": [
    {
     "data": {
      "text/plain": [
       "dtype('uint8')"
      ]
     },
     "execution_count": 194,
     "metadata": {},
     "output_type": "execute_result"
    }
   ],
   "source": [
    "X_train_full.dtype"
   ]
  },
  {
   "cell_type": "code",
   "execution_count": 195,
   "id": "07a68bc2",
   "metadata": {},
   "outputs": [],
   "source": [
    "X_valid, X_train = X_train_full[:5000] / 255.0, X_train_full[5000:] / 255.0\n",
    "y_valid, y_train = y_train_full[:5000], y_train_full[5000:]"
   ]
  },
  {
   "cell_type": "code",
   "execution_count": 196,
   "id": "54c8c30d",
   "metadata": {},
   "outputs": [
    {
     "data": {
      "text/plain": [
       "(5000, 28, 28)"
      ]
     },
     "execution_count": 196,
     "metadata": {},
     "output_type": "execute_result"
    }
   ],
   "source": [
    "X_valid.shape"
   ]
  },
  {
   "cell_type": "code",
   "execution_count": 197,
   "id": "c7e28fda",
   "metadata": {},
   "outputs": [
    {
     "data": {
      "text/plain": [
       "array([4, 0, 7, 9, 9], dtype=uint8)"
      ]
     },
     "execution_count": 197,
     "metadata": {},
     "output_type": "execute_result"
    }
   ],
   "source": [
    "y_train[:5]"
   ]
  },
  {
   "cell_type": "code",
   "execution_count": 198,
   "id": "44199505",
   "metadata": {},
   "outputs": [],
   "source": [
    "class_names = [\"T-shirt/top\", \"Trouser\", \"Pullover\", \"Dress\", \"Coat\",\n",
    "                   \"Sandal\", \"Shirt\", \"Sneaker\", \"Bag\", \"Ankle boot\"]\n"
   ]
  },
  {
   "cell_type": "code",
   "execution_count": 11,
   "id": "66cba092",
   "metadata": {},
   "outputs": [
    {
     "data": {
      "text/plain": [
       "'Coat'"
      ]
     },
     "execution_count": 11,
     "metadata": {},
     "output_type": "execute_result"
    }
   ],
   "source": [
    "class_names[y_train[0]]"
   ]
  },
  {
   "cell_type": "code",
   "execution_count": 12,
   "id": "052f7432",
   "metadata": {},
   "outputs": [],
   "source": [
    "model = keras.models.Sequential()\n",
    "model.add(keras.layers.Flatten(input_shape=[28, 28])) # it receives input data X, it computes X.reshape(-1, 1)\n",
    "model.add(keras.layers.Dense(300, activation=\"relu\")) #  we add a Dense hidden layer with 300 neurons.\n",
    "model.add(keras.layers.Dense(100, activation=\"relu\"))\n",
    "model.add(keras.layers.Dense(10, activation=\"softmax\"))\n"
   ]
  },
  {
   "cell_type": "code",
   "execution_count": 13,
   "id": "cdd9b417",
   "metadata": {},
   "outputs": [],
   "source": [
    "# model = keras.models.Sequential([\n",
    "  #      keras.layers.Flatten(input_shape=[28, 28]),\n",
    "  #      keras.layers.Dense(300, activation=\"relu\"),\n",
    "  #      keras.layers.Dense(100, activation=\"relu\"),\n",
    "  #      keras.layers.Dense(10, activation=\"softmax\")\n",
    "#])"
   ]
  },
  {
   "cell_type": "code",
   "execution_count": 14,
   "id": "e06791ac",
   "metadata": {},
   "outputs": [
    {
     "name": "stdout",
     "output_type": "stream",
     "text": [
      "Model: \"sequential\"\n",
      "_________________________________________________________________\n",
      " Layer (type)                Output Shape              Param #   \n",
      "=================================================================\n",
      " flatten (Flatten)           (None, 784)               0         \n",
      "                                                                 \n",
      " dense (Dense)               (None, 300)               235500    \n",
      "                                                                 \n",
      " dense_1 (Dense)             (None, 100)               30100     \n",
      "                                                                 \n",
      " dense_2 (Dense)             (None, 10)                1010      \n",
      "                                                                 \n",
      "=================================================================\n",
      "Total params: 266,610\n",
      "Trainable params: 266,610\n",
      "Non-trainable params: 0\n",
      "_________________________________________________________________\n"
     ]
    }
   ],
   "source": [
    "model.summary()"
   ]
  },
  {
   "cell_type": "code",
   "execution_count": 15,
   "id": "26c7bb1b",
   "metadata": {},
   "outputs": [
    {
     "data": {
      "text/plain": [
       "[<keras.layers.core.flatten.Flatten at 0x7f8fc7d562b0>,\n",
       " <keras.layers.core.dense.Dense at 0x7f8fc7d56340>,\n",
       " <keras.layers.core.dense.Dense at 0x7f8fe7b04f70>,\n",
       " <keras.layers.core.dense.Dense at 0x7f8fe7b14640>]"
      ]
     },
     "execution_count": 15,
     "metadata": {},
     "output_type": "execute_result"
    }
   ],
   "source": [
    "model.layers"
   ]
  },
  {
   "cell_type": "code",
   "execution_count": 16,
   "id": "77f63414",
   "metadata": {},
   "outputs": [
    {
     "data": {
      "text/plain": [
       "'dense_1'"
      ]
     },
     "execution_count": 16,
     "metadata": {},
     "output_type": "execute_result"
    }
   ],
   "source": [
    "model.layers[2].name"
   ]
  },
  {
   "cell_type": "code",
   "execution_count": 17,
   "id": "f0d47d3e",
   "metadata": {},
   "outputs": [
    {
     "data": {
      "text/plain": [
       "'dense_2'"
      ]
     },
     "execution_count": 17,
     "metadata": {},
     "output_type": "execute_result"
    }
   ],
   "source": [
    "model.get_layer('dense_2').name"
   ]
  },
  {
   "cell_type": "code",
   "execution_count": 18,
   "id": "ec0a2c48",
   "metadata": {},
   "outputs": [],
   "source": [
    "hidden1 = model.layers[1]"
   ]
  },
  {
   "cell_type": "code",
   "execution_count": 19,
   "id": "8eea4eac",
   "metadata": {},
   "outputs": [],
   "source": [
    "weights, biases = hidden1.get_weights()"
   ]
  },
  {
   "cell_type": "code",
   "execution_count": 20,
   "id": "c437b519",
   "metadata": {},
   "outputs": [
    {
     "data": {
      "text/plain": [
       "array([[-0.02138914, -0.00593305, -0.02276655, ..., -0.04439222,\n",
       "         0.05398969, -0.05559881],\n",
       "       [-0.0213206 , -0.05788392, -0.03593682, ...,  0.04616209,\n",
       "        -0.0375794 , -0.05774058],\n",
       "       [-0.04674159, -0.04997181,  0.01036356, ...,  0.00587729,\n",
       "        -0.00218701, -0.06571572],\n",
       "       ...,\n",
       "       [-0.00984559,  0.04020487,  0.06031366, ...,  0.02801578,\n",
       "        -0.01950876,  0.04514468],\n",
       "       [ 0.0197401 , -0.02273982,  0.06646113, ...,  0.03190576,\n",
       "         0.04804739,  0.0162516 ],\n",
       "       [-0.03632574, -0.03081165, -0.04966225, ...,  0.03105595,\n",
       "        -0.06695148,  0.07193033]], dtype=float32)"
      ]
     },
     "execution_count": 20,
     "metadata": {},
     "output_type": "execute_result"
    }
   ],
   "source": [
    "weights"
   ]
  },
  {
   "cell_type": "code",
   "execution_count": 21,
   "id": "f03a00d2",
   "metadata": {},
   "outputs": [
    {
     "data": {
      "text/plain": [
       "(784, 300)"
      ]
     },
     "execution_count": 21,
     "metadata": {},
     "output_type": "execute_result"
    }
   ],
   "source": [
    "weights.shape"
   ]
  },
  {
   "cell_type": "code",
   "execution_count": 22,
   "id": "f6f9c664",
   "metadata": {},
   "outputs": [
    {
     "data": {
      "text/plain": [
       "array([0., 0., 0., 0., 0., 0., 0., 0., 0., 0., 0., 0., 0., 0., 0., 0., 0.,\n",
       "       0., 0., 0., 0., 0., 0., 0., 0., 0., 0., 0., 0., 0., 0., 0., 0., 0.,\n",
       "       0., 0., 0., 0., 0., 0., 0., 0., 0., 0., 0., 0., 0., 0., 0., 0., 0.,\n",
       "       0., 0., 0., 0., 0., 0., 0., 0., 0., 0., 0., 0., 0., 0., 0., 0., 0.,\n",
       "       0., 0., 0., 0., 0., 0., 0., 0., 0., 0., 0., 0., 0., 0., 0., 0., 0.,\n",
       "       0., 0., 0., 0., 0., 0., 0., 0., 0., 0., 0., 0., 0., 0., 0., 0., 0.,\n",
       "       0., 0., 0., 0., 0., 0., 0., 0., 0., 0., 0., 0., 0., 0., 0., 0., 0.,\n",
       "       0., 0., 0., 0., 0., 0., 0., 0., 0., 0., 0., 0., 0., 0., 0., 0., 0.,\n",
       "       0., 0., 0., 0., 0., 0., 0., 0., 0., 0., 0., 0., 0., 0., 0., 0., 0.,\n",
       "       0., 0., 0., 0., 0., 0., 0., 0., 0., 0., 0., 0., 0., 0., 0., 0., 0.,\n",
       "       0., 0., 0., 0., 0., 0., 0., 0., 0., 0., 0., 0., 0., 0., 0., 0., 0.,\n",
       "       0., 0., 0., 0., 0., 0., 0., 0., 0., 0., 0., 0., 0., 0., 0., 0., 0.,\n",
       "       0., 0., 0., 0., 0., 0., 0., 0., 0., 0., 0., 0., 0., 0., 0., 0., 0.,\n",
       "       0., 0., 0., 0., 0., 0., 0., 0., 0., 0., 0., 0., 0., 0., 0., 0., 0.,\n",
       "       0., 0., 0., 0., 0., 0., 0., 0., 0., 0., 0., 0., 0., 0., 0., 0., 0.,\n",
       "       0., 0., 0., 0., 0., 0., 0., 0., 0., 0., 0., 0., 0., 0., 0., 0., 0.,\n",
       "       0., 0., 0., 0., 0., 0., 0., 0., 0., 0., 0., 0., 0., 0., 0., 0., 0.,\n",
       "       0., 0., 0., 0., 0., 0., 0., 0., 0., 0., 0.], dtype=float32)"
      ]
     },
     "execution_count": 22,
     "metadata": {},
     "output_type": "execute_result"
    }
   ],
   "source": [
    "biases"
   ]
  },
  {
   "cell_type": "code",
   "execution_count": 23,
   "id": "f711abce",
   "metadata": {},
   "outputs": [],
   "source": [
    "model.compile(loss = \"sparse_categorical_crossentropy\",\n",
    "             optimizer = \"sgd\",\n",
    "             metrics = [\"accuracy\"])"
   ]
  },
  {
   "cell_type": "code",
   "execution_count": 25,
   "id": "d086cb83",
   "metadata": {},
   "outputs": [
    {
     "name": "stdout",
     "output_type": "stream",
     "text": [
      "Epoch 1/30\n",
      "1719/1719 [==============================] - 3s 2ms/step - loss: 0.7194 - accuracy: 0.7671 - val_loss: 0.5302 - val_accuracy: 0.8180\n",
      "Epoch 2/30\n",
      "1719/1719 [==============================] - 3s 2ms/step - loss: 0.4916 - accuracy: 0.8294 - val_loss: 0.4390 - val_accuracy: 0.8516\n",
      "Epoch 3/30\n",
      "1719/1719 [==============================] - 3s 2ms/step - loss: 0.4444 - accuracy: 0.8448 - val_loss: 0.4222 - val_accuracy: 0.8524\n",
      "Epoch 4/30\n",
      "1719/1719 [==============================] - 3s 2ms/step - loss: 0.4167 - accuracy: 0.8536 - val_loss: 0.3934 - val_accuracy: 0.8664\n",
      "Epoch 5/30\n",
      "1719/1719 [==============================] - 3s 2ms/step - loss: 0.3965 - accuracy: 0.8607 - val_loss: 0.3755 - val_accuracy: 0.8706\n",
      "Epoch 6/30\n",
      "1719/1719 [==============================] - 3s 2ms/step - loss: 0.3806 - accuracy: 0.8657 - val_loss: 0.3779 - val_accuracy: 0.8714\n",
      "Epoch 7/30\n",
      "1719/1719 [==============================] - 3s 2ms/step - loss: 0.3679 - accuracy: 0.8704 - val_loss: 0.3642 - val_accuracy: 0.8710\n",
      "Epoch 8/30\n",
      "1719/1719 [==============================] - 3s 2ms/step - loss: 0.3558 - accuracy: 0.8737 - val_loss: 0.3606 - val_accuracy: 0.8754\n",
      "Epoch 9/30\n",
      "1719/1719 [==============================] - 3s 2ms/step - loss: 0.3472 - accuracy: 0.8764 - val_loss: 0.3714 - val_accuracy: 0.8694\n",
      "Epoch 10/30\n",
      "1719/1719 [==============================] - 3s 2ms/step - loss: 0.3380 - accuracy: 0.8797 - val_loss: 0.3651 - val_accuracy: 0.8734\n",
      "Epoch 11/30\n",
      "1719/1719 [==============================] - 3s 2ms/step - loss: 0.3294 - accuracy: 0.8824 - val_loss: 0.3623 - val_accuracy: 0.8706\n",
      "Epoch 12/30\n",
      "1719/1719 [==============================] - 3s 2ms/step - loss: 0.3222 - accuracy: 0.8844 - val_loss: 0.3418 - val_accuracy: 0.8808\n",
      "Epoch 13/30\n",
      "1719/1719 [==============================] - 3s 2ms/step - loss: 0.3144 - accuracy: 0.8871 - val_loss: 0.3459 - val_accuracy: 0.8800\n",
      "Epoch 14/30\n",
      "1719/1719 [==============================] - 3s 2ms/step - loss: 0.3084 - accuracy: 0.8881 - val_loss: 0.3654 - val_accuracy: 0.8694\n",
      "Epoch 15/30\n",
      "1719/1719 [==============================] - 3s 2ms/step - loss: 0.3018 - accuracy: 0.8923 - val_loss: 0.3211 - val_accuracy: 0.8868\n",
      "Epoch 16/30\n",
      "1719/1719 [==============================] - 3s 2ms/step - loss: 0.2955 - accuracy: 0.8948 - val_loss: 0.3215 - val_accuracy: 0.8864\n",
      "Epoch 17/30\n",
      "1719/1719 [==============================] - 3s 2ms/step - loss: 0.2892 - accuracy: 0.8956 - val_loss: 0.3174 - val_accuracy: 0.8868\n",
      "Epoch 18/30\n",
      "1719/1719 [==============================] - 3s 2ms/step - loss: 0.2836 - accuracy: 0.8979 - val_loss: 0.3174 - val_accuracy: 0.8860\n",
      "Epoch 19/30\n",
      "1719/1719 [==============================] - 3s 2ms/step - loss: 0.2781 - accuracy: 0.8994 - val_loss: 0.3244 - val_accuracy: 0.8828\n",
      "Epoch 20/30\n",
      "1719/1719 [==============================] - 3s 2ms/step - loss: 0.2735 - accuracy: 0.9011 - val_loss: 0.3085 - val_accuracy: 0.8896\n",
      "Epoch 21/30\n",
      "1719/1719 [==============================] - 3s 2ms/step - loss: 0.2688 - accuracy: 0.9035 - val_loss: 0.3122 - val_accuracy: 0.8854\n",
      "Epoch 22/30\n",
      "1719/1719 [==============================] - 3s 2ms/step - loss: 0.2636 - accuracy: 0.9055 - val_loss: 0.3071 - val_accuracy: 0.8944\n",
      "Epoch 23/30\n",
      "1719/1719 [==============================] - 3s 2ms/step - loss: 0.2595 - accuracy: 0.9066 - val_loss: 0.3202 - val_accuracy: 0.8858\n",
      "Epoch 24/30\n",
      "1719/1719 [==============================] - 3s 2ms/step - loss: 0.2547 - accuracy: 0.9084 - val_loss: 0.3086 - val_accuracy: 0.8910\n",
      "Epoch 25/30\n",
      "1719/1719 [==============================] - 3s 2ms/step - loss: 0.2500 - accuracy: 0.9107 - val_loss: 0.3095 - val_accuracy: 0.8866\n",
      "Epoch 26/30\n",
      "1719/1719 [==============================] - 3s 2ms/step - loss: 0.2459 - accuracy: 0.9112 - val_loss: 0.3001 - val_accuracy: 0.8874\n",
      "Epoch 27/30\n",
      "1719/1719 [==============================] - 3s 2ms/step - loss: 0.2421 - accuracy: 0.9127 - val_loss: 0.2995 - val_accuracy: 0.8914\n",
      "Epoch 28/30\n",
      "1719/1719 [==============================] - 3s 2ms/step - loss: 0.2374 - accuracy: 0.9152 - val_loss: 0.3062 - val_accuracy: 0.8912\n",
      "Epoch 29/30\n",
      "1719/1719 [==============================] - 3s 2ms/step - loss: 0.2338 - accuracy: 0.9164 - val_loss: 0.3031 - val_accuracy: 0.8910\n",
      "Epoch 30/30\n",
      "1719/1719 [==============================] - 3s 2ms/step - loss: 0.2309 - accuracy: 0.9167 - val_loss: 0.3011 - val_accuracy: 0.8896\n"
     ]
    }
   ],
   "source": [
    "history  = model.fit(X_train, y_train, epochs = 30, validation_data = (X_valid, y_valid))"
   ]
  },
  {
   "cell_type": "code",
   "execution_count": 27,
   "id": "e4278a28",
   "metadata": {},
   "outputs": [
    {
     "data": {
      "text/plain": [
       "{'loss': [0.7194092869758606,\n",
       "  0.4916449785232544,\n",
       "  0.44440793991088867,\n",
       "  0.41667136549949646,\n",
       "  0.39651310443878174,\n",
       "  0.3806292712688446,\n",
       "  0.3679451048374176,\n",
       "  0.35581639409065247,\n",
       "  0.34719353914260864,\n",
       "  0.33804652094841003,\n",
       "  0.3293687403202057,\n",
       "  0.32217156887054443,\n",
       "  0.31440824270248413,\n",
       "  0.3083896338939667,\n",
       "  0.3017886281013489,\n",
       "  0.29551854729652405,\n",
       "  0.2891560196876526,\n",
       "  0.2835943400859833,\n",
       "  0.27808454632759094,\n",
       "  0.2734856605529785,\n",
       "  0.2687702178955078,\n",
       "  0.26359084248542786,\n",
       "  0.2595088481903076,\n",
       "  0.25467637181282043,\n",
       "  0.2500359117984772,\n",
       "  0.24587465822696686,\n",
       "  0.24211661517620087,\n",
       "  0.23736700415611267,\n",
       "  0.2337890863418579,\n",
       "  0.23092283308506012],\n",
       " 'accuracy': [0.7671454548835754,\n",
       "  0.8294363617897034,\n",
       "  0.8447636365890503,\n",
       "  0.8535818457603455,\n",
       "  0.8607272505760193,\n",
       "  0.8656545281410217,\n",
       "  0.8704181909561157,\n",
       "  0.8736727237701416,\n",
       "  0.8764363527297974,\n",
       "  0.8796727061271667,\n",
       "  0.8823999762535095,\n",
       "  0.8843636512756348,\n",
       "  0.887109100818634,\n",
       "  0.8881272673606873,\n",
       "  0.8922908902168274,\n",
       "  0.8948181867599487,\n",
       "  0.895618200302124,\n",
       "  0.8979091048240662,\n",
       "  0.8994181752204895,\n",
       "  0.9010727405548096,\n",
       "  0.9034909009933472,\n",
       "  0.9055091142654419,\n",
       "  0.9065999984741211,\n",
       "  0.9083636403083801,\n",
       "  0.9106909036636353,\n",
       "  0.9111999869346619,\n",
       "  0.912745475769043,\n",
       "  0.9151999950408936,\n",
       "  0.9163818359375,\n",
       "  0.9166727066040039],\n",
       " 'val_loss': [0.5302201509475708,\n",
       "  0.4390195906162262,\n",
       "  0.42221251130104065,\n",
       "  0.3933512568473816,\n",
       "  0.3754788339138031,\n",
       "  0.3778861463069916,\n",
       "  0.36415958404541016,\n",
       "  0.36063483357429504,\n",
       "  0.3713546693325043,\n",
       "  0.36505013704299927,\n",
       "  0.362272709608078,\n",
       "  0.3417968451976776,\n",
       "  0.3458801507949829,\n",
       "  0.36535409092903137,\n",
       "  0.3210618197917938,\n",
       "  0.3215460479259491,\n",
       "  0.3174496293067932,\n",
       "  0.3173975348472595,\n",
       "  0.3243926167488098,\n",
       "  0.3084554970264435,\n",
       "  0.31222477555274963,\n",
       "  0.307094007730484,\n",
       "  0.3201634883880615,\n",
       "  0.30855894088745117,\n",
       "  0.30954983830451965,\n",
       "  0.30009910464286804,\n",
       "  0.2995430529117584,\n",
       "  0.3061867654323578,\n",
       "  0.30314913392066956,\n",
       "  0.30106016993522644],\n",
       " 'val_accuracy': [0.8180000185966492,\n",
       "  0.8515999913215637,\n",
       "  0.852400004863739,\n",
       "  0.8664000034332275,\n",
       "  0.8705999851226807,\n",
       "  0.871399998664856,\n",
       "  0.8709999918937683,\n",
       "  0.8754000067710876,\n",
       "  0.8694000244140625,\n",
       "  0.8733999729156494,\n",
       "  0.8705999851226807,\n",
       "  0.8808000087738037,\n",
       "  0.8799999952316284,\n",
       "  0.8694000244140625,\n",
       "  0.8867999911308289,\n",
       "  0.8863999843597412,\n",
       "  0.8867999911308289,\n",
       "  0.8859999775886536,\n",
       "  0.8827999830245972,\n",
       "  0.8895999789237976,\n",
       "  0.8853999972343445,\n",
       "  0.8944000005722046,\n",
       "  0.8858000040054321,\n",
       "  0.890999972820282,\n",
       "  0.8866000175476074,\n",
       "  0.8873999714851379,\n",
       "  0.8913999795913696,\n",
       "  0.8912000060081482,\n",
       "  0.890999972820282,\n",
       "  0.8895999789237976]}"
      ]
     },
     "execution_count": 27,
     "metadata": {},
     "output_type": "execute_result"
    }
   ],
   "source": [
    "history.history"
   ]
  },
  {
   "cell_type": "code",
   "execution_count": 30,
   "id": "3cd5170c",
   "metadata": {},
   "outputs": [
    {
     "data": {
      "image/png": "[encoded data removed]",
      "text/plain": [
       "<Figure size 864x432 with 1 Axes>"
      ]
     },
     "metadata": {
      "needs_background": "light"
     },
     "output_type": "display_data"
    }
   ],
   "source": [
    "import pandas as pd\n",
    "import matplotlib.pyplot as plt\n",
    "pd.DataFrame(history.history).plot(figsize = (12,6))\n",
    "plt.grid(True)\n",
    "plt.show()"
   ]
  },
  {
   "cell_type": "code",
   "execution_count": 31,
   "id": "1d50f3a4",
   "metadata": {},
   "outputs": [
    {
     "name": "stdout",
     "output_type": "stream",
     "text": [
      "313/313 [==============================] - 0s 1ms/step - loss: 63.0544 - accuracy: 0.8399\n"
     ]
    },
    {
     "data": {
      "text/plain": [
       "[63.05443572998047, 0.839900016784668]"
      ]
     },
     "execution_count": 31,
     "metadata": {},
     "output_type": "execute_result"
    }
   ],
   "source": [
    "model.evaluate(X_test, y_test)"
   ]
  },
  {
   "cell_type": "code",
   "execution_count": 34,
   "id": "6b88c32b",
   "metadata": {},
   "outputs": [
    {
     "data": {
      "text/plain": [
       "array([[0., 0., 0., 0., 0., 0., 0., 0., 0., 1.],\n",
       "       [0., 0., 1., 0., 0., 0., 0., 0., 0., 0.],\n",
       "       [0., 1., 0., 0., 0., 0., 0., 0., 0., 0.]], dtype=float32)"
      ]
     },
     "execution_count": 34,
     "metadata": {},
     "output_type": "execute_result"
    }
   ],
   "source": [
    "X_new = X_test[:3]\n",
    "y_proba = model.predict(X_new)\n",
    "y_proba.round(3)"
   ]
  },
  {
   "cell_type": "code",
   "execution_count": 36,
   "id": "745501bc",
   "metadata": {},
   "outputs": [
    {
     "ename": "AttributeError",
     "evalue": "'Sequential' object has no attribute 'predict_classes'",
     "output_type": "error",
     "traceback": [
      "\u001b[0;31m---------------------------------------------------------------------------\u001b[0m",
      "\u001b[0;31mAttributeError\u001b[0m                            Traceback (most recent call last)",
      "\u001b[0;32m<ipython-input-36-81ace37e545f>\u001b[0m in \u001b[0;36m<module>\u001b[0;34m\u001b[0m\n\u001b[0;32m----> 1\u001b[0;31m \u001b[0my_pred\u001b[0m \u001b[0;34m=\u001b[0m \u001b[0mmodel\u001b[0m\u001b[0;34m.\u001b[0m\u001b[0mpredict_classes\u001b[0m\u001b[0;34m(\u001b[0m\u001b[0mX_new\u001b[0m\u001b[0;34m)\u001b[0m\u001b[0;34m\u001b[0m\u001b[0;34m\u001b[0m\u001b[0m\n\u001b[0m\u001b[1;32m      2\u001b[0m \u001b[0my_pred\u001b[0m\u001b[0;34m\u001b[0m\u001b[0;34m\u001b[0m\u001b[0m\n",
      "\u001b[0;31mAttributeError\u001b[0m: 'Sequential' object has no attribute 'predict_classes'"
     ]
    }
   ],
   "source": [
    "# y_pred = model.predict_classes(X_new)\n",
    "# y_pred"
   ]
  },
  {
   "cell_type": "code",
   "execution_count": 38,
   "id": "330b0cf9",
   "metadata": {},
   "outputs": [
    {
     "ename": "NameError",
     "evalue": "name 'y_pred' is not defined",
     "output_type": "error",
     "traceback": [
      "\u001b[0;31m---------------------------------------------------------------------------\u001b[0m",
      "\u001b[0;31mNameError\u001b[0m                                 Traceback (most recent call last)",
      "\u001b[0;32m<ipython-input-38-6dad97a73d06>\u001b[0m in \u001b[0;36m<module>\u001b[0;34m\u001b[0m\n\u001b[1;32m      1\u001b[0m \u001b[0;32mimport\u001b[0m \u001b[0mnumpy\u001b[0m \u001b[0;32mas\u001b[0m \u001b[0mnp\u001b[0m\u001b[0;34m\u001b[0m\u001b[0;34m\u001b[0m\u001b[0m\n\u001b[0;32m----> 2\u001b[0;31m \u001b[0mnp\u001b[0m\u001b[0;34m.\u001b[0m\u001b[0marray\u001b[0m\u001b[0;34m(\u001b[0m\u001b[0mclass_names\u001b[0m\u001b[0;34m)\u001b[0m\u001b[0;34m[\u001b[0m\u001b[0my_pred\u001b[0m\u001b[0;34m]\u001b[0m\u001b[0;34m\u001b[0m\u001b[0;34m\u001b[0m\u001b[0m\n\u001b[0m",
      "\u001b[0;31mNameError\u001b[0m: name 'y_pred' is not defined"
     ]
    }
   ],
   "source": [
    "# import numpy as np\n",
    "# np.array(class_names)[y_pred]"
   ]
  },
  {
   "cell_type": "code",
   "execution_count": 39,
   "id": "81194dc4",
   "metadata": {},
   "outputs": [
    {
     "data": {
      "text/plain": [
       "array([9, 2, 1], dtype=uint8)"
      ]
     },
     "execution_count": 39,
     "metadata": {},
     "output_type": "execute_result"
    }
   ],
   "source": [
    "y_new = y_test[:3]\n",
    "y_new"
   ]
  },
  {
   "cell_type": "markdown",
   "id": "dc9be682",
   "metadata": {},
   "source": [
    "## Building a Regression MLP Using the Sequential API"
   ]
  },
  {
   "cell_type": "code",
   "execution_count": 130,
   "id": "c86f542c",
   "metadata": {},
   "outputs": [],
   "source": [
    "from sklearn.datasets import fetch_california_housing \n",
    "from sklearn.model_selection import train_test_split \n",
    "from sklearn.preprocessing import StandardScaler\n",
    "\n",
    "housing = fetch_california_housing()\n",
    "\n",
    "X_train_full, X_test, y_train_full, y_test = train_test_split(housing.data, housing.target)\n",
    "\n",
    "X_train, X_valid, y_train, y_valid = train_test_split(X_train_full, y_train_full)"
   ]
  },
  {
   "cell_type": "code",
   "execution_count": 131,
   "id": "a786d312",
   "metadata": {},
   "outputs": [],
   "source": [
    "scaler = StandardScaler()"
   ]
  },
  {
   "cell_type": "code",
   "execution_count": 132,
   "id": "38603a55",
   "metadata": {},
   "outputs": [],
   "source": [
    "X_train_scaled = scaler.fit_transform(X_train)\n",
    "X_valid_scaled = scaler.transform(X_valid)\n",
    "X_test_scaled = scaler.transform(X_test) "
   ]
  },
  {
   "cell_type": "code",
   "execution_count": 133,
   "id": "378ca1b5",
   "metadata": {},
   "outputs": [
    {
     "data": {
      "text/plain": [
       "(8,)"
      ]
     },
     "execution_count": 133,
     "metadata": {},
     "output_type": "execute_result"
    }
   ],
   "source": [
    "X_train.shape[1:]"
   ]
  },
  {
   "cell_type": "code",
   "execution_count": 134,
   "id": "8adac3df",
   "metadata": {},
   "outputs": [],
   "source": [
    "model = keras.models.Sequential([\n",
    "    keras.layers.Dense(30, activation = 'relu', input_shape = X_train.shape[1:]),\n",
    "    keras.layers.Dense(1)\n",
    "])"
   ]
  },
  {
   "cell_type": "code",
   "execution_count": 135,
   "id": "a4714244",
   "metadata": {},
   "outputs": [],
   "source": [
    "model.compile(loss = \"mean_squared_error\", optimizer = 'sgd')"
   ]
  },
  {
   "cell_type": "code",
   "execution_count": 136,
   "id": "7659d614",
   "metadata": {},
   "outputs": [
    {
     "name": "stdout",
     "output_type": "stream",
     "text": [
      "Epoch 1/20\n",
      "363/363 [==============================] - 0s 915us/step - loss: nan - val_loss: nan\n",
      "Epoch 2/20\n",
      "363/363 [==============================] - 0s 710us/step - loss: nan - val_loss: nan\n",
      "Epoch 3/20\n",
      "363/363 [==============================] - 0s 750us/step - loss: nan - val_loss: nan\n",
      "Epoch 4/20\n",
      "363/363 [==============================] - 0s 765us/step - loss: nan - val_loss: nan\n",
      "Epoch 5/20\n",
      "363/363 [==============================] - 0s 738us/step - loss: nan - val_loss: nan\n",
      "Epoch 6/20\n",
      "363/363 [==============================] - 0s 725us/step - loss: nan - val_loss: nan\n",
      "Epoch 7/20\n",
      "363/363 [==============================] - 0s 720us/step - loss: nan - val_loss: nan\n",
      "Epoch 8/20\n",
      "363/363 [==============================] - 0s 731us/step - loss: nan - val_loss: nan\n",
      "Epoch 9/20\n",
      "363/363 [==============================] - 0s 727us/step - loss: nan - val_loss: nan\n",
      "Epoch 10/20\n",
      "363/363 [==============================] - 0s 728us/step - loss: nan - val_loss: nan\n",
      "Epoch 11/20\n",
      "363/363 [==============================] - 0s 720us/step - loss: nan - val_loss: nan\n",
      "Epoch 12/20\n",
      "363/363 [==============================] - 0s 741us/step - loss: nan - val_loss: nan\n",
      "Epoch 13/20\n",
      "363/363 [==============================] - 0s 738us/step - loss: nan - val_loss: nan\n",
      "Epoch 14/20\n",
      "363/363 [==============================] - 0s 727us/step - loss: nan - val_loss: nan\n",
      "Epoch 15/20\n",
      "363/363 [==============================] - 0s 760us/step - loss: nan - val_loss: nan\n",
      "Epoch 16/20\n",
      "363/363 [==============================] - 0s 724us/step - loss: nan - val_loss: nan\n",
      "Epoch 17/20\n",
      "363/363 [==============================] - 0s 753us/step - loss: nan - val_loss: nan\n",
      "Epoch 18/20\n",
      "363/363 [==============================] - 0s 779us/step - loss: nan - val_loss: nan\n",
      "Epoch 19/20\n",
      "363/363 [==============================] - 0s 753us/step - loss: nan - val_loss: nan\n",
      "Epoch 20/20\n",
      "363/363 [==============================] - 0s 786us/step - loss: nan - val_loss: nan\n",
      "162/162 [==============================] - 0s 505us/step - loss: nan\n"
     ]
    }
   ],
   "source": [
    "history = model.fit(X_train, y_train, epochs=20,\n",
    "                    validation_data=(X_valid, y_valid))\n",
    "mse_test = model.evaluate(X_test, y_test)\n",
    "X_new = X_test[:3] # pretend these are new instances \n",
    "y_pred = model.predict(X_new)"
   ]
  },
  {
   "cell_type": "code",
   "execution_count": 137,
   "id": "37c0cc97",
   "metadata": {},
   "outputs": [],
   "source": [
    "import numpy as np\n",
    "\n",
    "X = 2 * np.random.rand(100, 1)\n",
    "y = 4 + 3 * X + np.random.randn(100, 1)"
   ]
  },
  {
   "cell_type": "code",
   "execution_count": 138,
   "id": "d909fa8d",
   "metadata": {},
   "outputs": [
    {
     "data": {
      "image/png": "[encoded data removed]",
      "text/plain": [
       "<Figure size 432x288 with 1 Axes>"
      ]
     },
     "metadata": {
      "needs_background": "light"
     },
     "output_type": "display_data"
    }
   ],
   "source": [
    "%matplotlib inline\n",
    "import matplotlib as mpl\n",
    "import matplotlib.pyplot as plt\n",
    "plt.plot(X, y, \"b.\")\n",
    "plt.xlabel(\"$x_1$\", fontsize=18)\n",
    "plt.ylabel(\"$y$\", rotation=0, fontsize=18)\n",
    "plt.axis([0, 2, 0, 15])\n",
    "plt.show()"
   ]
  },
  {
   "cell_type": "code",
   "execution_count": 139,
   "id": "cb15adb6",
   "metadata": {},
   "outputs": [],
   "source": [
    "X_train_full, X_test, y_train_full, y_test = train_test_split(X, y, shuffle = True, train_size = 0.8, test_size = 0.2)\n",
    "\n",
    "X_train, X_valid, y_train, y_valid = train_test_split(X_train_full, y_train_full)"
   ]
  },
  {
   "cell_type": "code",
   "execution_count": 140,
   "id": "b359622c",
   "metadata": {},
   "outputs": [],
   "source": [
    "scaler = StandardScaler()"
   ]
  },
  {
   "cell_type": "code",
   "execution_count": 141,
   "id": "0f48a74e",
   "metadata": {},
   "outputs": [],
   "source": [
    "X_train_scled = scaler.fit_transform(X_train)\n",
    "X_valid_scaled = scaler.transform(X_valid)\n",
    "X_test_scaled = scaler.transform(X_test) "
   ]
  },
  {
   "cell_type": "code",
   "execution_count": 142,
   "id": "39090c35",
   "metadata": {},
   "outputs": [],
   "source": [
    "model = keras.models.Sequential([\n",
    "    keras.layers.Dense(30, activation = 'relu', input_shape = X_train.shape[1:]),\n",
    "    keras.layers.Dense(1)\n",
    "])"
   ]
  },
  {
   "cell_type": "code",
   "execution_count": 150,
   "id": "a72a9a27",
   "metadata": {},
   "outputs": [],
   "source": [
    "model.compile(loss = \"mean_squared_error\", optimizer = 'sgd', metrics = [\"mse\"])"
   ]
  },
  {
   "cell_type": "code",
   "execution_count": 151,
   "id": "85196404",
   "metadata": {},
   "outputs": [
    {
     "name": "stdout",
     "output_type": "stream",
     "text": [
      "Epoch 1/20\n",
      "2/2 [==============================] - 0s 83ms/step - loss: 1.1262 - mse: 1.1262 - val_loss: 0.6066 - val_mse: 0.6066\n",
      "Epoch 2/20\n",
      "2/2 [==============================] - 0s 18ms/step - loss: 1.1292 - mse: 1.1292 - val_loss: 0.6069 - val_mse: 0.6069\n",
      "Epoch 3/20\n",
      "2/2 [==============================] - 0s 19ms/step - loss: 1.1519 - mse: 1.1519 - val_loss: 0.5824 - val_mse: 0.5824\n",
      "Epoch 4/20\n",
      "2/2 [==============================] - 0s 18ms/step - loss: 1.1169 - mse: 1.1169 - val_loss: 0.5795 - val_mse: 0.5795\n",
      "Epoch 5/20\n",
      "2/2 [==============================] - 0s 18ms/step - loss: 1.1091 - mse: 1.1091 - val_loss: 0.5796 - val_mse: 0.5796\n",
      "Epoch 6/20\n",
      "2/2 [==============================] - 0s 19ms/step - loss: 1.1039 - mse: 1.1039 - val_loss: 0.5803 - val_mse: 0.5803\n",
      "Epoch 7/20\n",
      "2/2 [==============================] - 0s 19ms/step - loss: 1.1020 - mse: 1.1020 - val_loss: 0.5808 - val_mse: 0.5808\n",
      "Epoch 8/20\n",
      "2/2 [==============================] - 0s 19ms/step - loss: 1.0973 - mse: 1.0973 - val_loss: 0.5762 - val_mse: 0.5762\n",
      "Epoch 9/20\n",
      "2/2 [==============================] - 0s 18ms/step - loss: 1.0982 - mse: 1.0982 - val_loss: 0.5679 - val_mse: 0.5679\n",
      "Epoch 10/20\n",
      "2/2 [==============================] - 0s 19ms/step - loss: 1.0971 - mse: 1.0971 - val_loss: 0.5736 - val_mse: 0.5736\n",
      "Epoch 11/20\n",
      "2/2 [==============================] - 0s 19ms/step - loss: 1.0914 - mse: 1.0914 - val_loss: 0.5649 - val_mse: 0.5649\n",
      "Epoch 12/20\n",
      "2/2 [==============================] - 0s 18ms/step - loss: 1.1036 - mse: 1.1036 - val_loss: 0.5555 - val_mse: 0.5555\n",
      "Epoch 13/20\n",
      "2/2 [==============================] - 0s 18ms/step - loss: 1.0856 - mse: 1.0856 - val_loss: 0.5588 - val_mse: 0.5588\n",
      "Epoch 14/20\n",
      "2/2 [==============================] - 0s 18ms/step - loss: 1.0852 - mse: 1.0852 - val_loss: 0.5627 - val_mse: 0.5627\n",
      "Epoch 15/20\n",
      "2/2 [==============================] - 0s 18ms/step - loss: 1.0862 - mse: 1.0862 - val_loss: 0.5653 - val_mse: 0.5653\n",
      "Epoch 16/20\n",
      "2/2 [==============================] - 0s 18ms/step - loss: 1.1024 - mse: 1.1024 - val_loss: 0.5737 - val_mse: 0.5737\n",
      "Epoch 17/20\n",
      "2/2 [==============================] - 0s 18ms/step - loss: 1.0824 - mse: 1.0824 - val_loss: 0.5666 - val_mse: 0.5666\n",
      "Epoch 18/20\n",
      "2/2 [==============================] - 0s 20ms/step - loss: 1.0994 - mse: 1.0994 - val_loss: 0.5480 - val_mse: 0.5480\n",
      "Epoch 19/20\n",
      "2/2 [==============================] - 0s 18ms/step - loss: 1.0792 - mse: 1.0792 - val_loss: 0.5470 - val_mse: 0.5470\n",
      "Epoch 20/20\n",
      "2/2 [==============================] - 0s 18ms/step - loss: 1.0733 - mse: 1.0733 - val_loss: 0.5488 - val_mse: 0.5488\n",
      "1/1 [==============================] - 0s 16ms/step - loss: 1.0557 - mse: 1.0557\n"
     ]
    }
   ],
   "source": [
    "history = model.fit(X_train, y_train, epochs=20,\n",
    "                    validation_data=(X_valid, y_valid))\n",
    "mse_test = model.evaluate(X_test, y_test)\n",
    "X_new = X_test[:12] # pretend these are new instances \n",
    "y_pred = model.predict(X_new)"
   ]
  },
  {
   "cell_type": "code",
   "execution_count": 152,
   "id": "e7dcc490",
   "metadata": {},
   "outputs": [
    {
     "data": {
      "text/plain": [
       "(0.0, 2.0, 0.0, 15.0)"
      ]
     },
     "execution_count": 152,
     "metadata": {},
     "output_type": "execute_result"
    },
    {
     "data": {
      "image/png": "[encoded data removed]",
      "text/plain": [
       "<Figure size 432x288 with 1 Axes>"
      ]
     },
     "metadata": {
      "needs_background": "light"
     },
     "output_type": "display_data"
    }
   ],
   "source": [
    "plt.plot(X, y, \"b.\")\n",
    "plt.plot(X_new, y_pred, \"r-\", linewidth=2, label=\"Predictions\")\n",
    "plt.axis([0, 2, 0, 15])"
   ]
  },
  {
   "cell_type": "code",
   "execution_count": 153,
   "id": "f46f463a",
   "metadata": {},
   "outputs": [
    {
     "name": "stdout",
     "output_type": "stream",
     "text": [
      "1/1 [==============================] - 0s 19ms/step - loss: 1.0557 - mse: 1.0557\n"
     ]
    },
    {
     "data": {
      "text/plain": [
       "[1.0556957721710205, 1.0556957721710205]"
      ]
     },
     "execution_count": 153,
     "metadata": {},
     "output_type": "execute_result"
    }
   ],
   "source": [
    "model.evaluate(X_test, y_test)"
   ]
  },
  {
   "cell_type": "code",
   "execution_count": 154,
   "id": "2a913b35",
   "metadata": {},
   "outputs": [
    {
     "data": {
      "text/plain": [
       "{'loss': [1.1261639595031738,\n",
       "  1.1291605234146118,\n",
       "  1.151893973350525,\n",
       "  1.1169291734695435,\n",
       "  1.1091469526290894,\n",
       "  1.1039477586746216,\n",
       "  1.1020225286483765,\n",
       "  1.0972778797149658,\n",
       "  1.0982197523117065,\n",
       "  1.0970838069915771,\n",
       "  1.0914334058761597,\n",
       "  1.1035875082015991,\n",
       "  1.0856056213378906,\n",
       "  1.085198998451233,\n",
       "  1.0862163305282593,\n",
       "  1.102430820465088,\n",
       "  1.08236825466156,\n",
       "  1.0993943214416504,\n",
       "  1.0792073011398315,\n",
       "  1.073347806930542],\n",
       " 'mse': [1.1261639595031738,\n",
       "  1.1291605234146118,\n",
       "  1.151893973350525,\n",
       "  1.1169291734695435,\n",
       "  1.1091469526290894,\n",
       "  1.1039477586746216,\n",
       "  1.1020225286483765,\n",
       "  1.0972778797149658,\n",
       "  1.0982197523117065,\n",
       "  1.0970838069915771,\n",
       "  1.0914334058761597,\n",
       "  1.1035875082015991,\n",
       "  1.0856056213378906,\n",
       "  1.085198998451233,\n",
       "  1.0862163305282593,\n",
       "  1.102430820465088,\n",
       "  1.08236825466156,\n",
       "  1.0993943214416504,\n",
       "  1.0792073011398315,\n",
       "  1.073347806930542],\n",
       " 'val_loss': [0.6065658330917358,\n",
       "  0.6069077253341675,\n",
       "  0.5824372172355652,\n",
       "  0.5794818997383118,\n",
       "  0.5796239972114563,\n",
       "  0.5803343653678894,\n",
       "  0.5807994604110718,\n",
       "  0.5762444734573364,\n",
       "  0.5678654909133911,\n",
       "  0.5735557675361633,\n",
       "  0.5648602247238159,\n",
       "  0.5554670095443726,\n",
       "  0.5588055849075317,\n",
       "  0.5627114772796631,\n",
       "  0.5653210878372192,\n",
       "  0.5737429857254028,\n",
       "  0.5666490793228149,\n",
       "  0.5480159521102905,\n",
       "  0.5470335483551025,\n",
       "  0.5487865209579468],\n",
       " 'val_mse': [0.6065658330917358,\n",
       "  0.6069077253341675,\n",
       "  0.5824372172355652,\n",
       "  0.5794818997383118,\n",
       "  0.5796239972114563,\n",
       "  0.5803343653678894,\n",
       "  0.5807994604110718,\n",
       "  0.5762444734573364,\n",
       "  0.5678654909133911,\n",
       "  0.5735557675361633,\n",
       "  0.5648602247238159,\n",
       "  0.5554670095443726,\n",
       "  0.5588055849075317,\n",
       "  0.5627114772796631,\n",
       "  0.5653210878372192,\n",
       "  0.5737429857254028,\n",
       "  0.5666490793228149,\n",
       "  0.5480159521102905,\n",
       "  0.5470335483551025,\n",
       "  0.5487865209579468]}"
      ]
     },
     "execution_count": 154,
     "metadata": {},
     "output_type": "execute_result"
    }
   ],
   "source": [
    "history.history"
   ]
  },
  {
   "cell_type": "code",
   "execution_count": null,
   "id": "90e74d62",
   "metadata": {},
   "outputs": [],
   "source": []
  },
  {
   "cell_type": "markdown",
   "id": "dbe1d393",
   "metadata": {},
   "source": [
    "## Building Complex Models Using the Functional API"
   ]
  },
  {
   "cell_type": "code",
   "execution_count": 178,
   "id": "3ab34898",
   "metadata": {},
   "outputs": [],
   "source": [
    "housing = fetch_california_housing()\n",
    "\n",
    "X_train_full, X_test, y_train_full, y_test = train_test_split(housing.data, housing.target)\n",
    "\n",
    "X_train, X_valid, y_train, y_valid = train_test_split(X_train_full, y_train_full)\n",
    "input = keras.layers.Input(shape=X_train.shape[1:]) # First, we need to create an Input object. This is needed because we may have multiple inputs,\n",
    "hidden1 = keras.layers.Dense(30, activation=\"relu\")(input)\n",
    "hidden2 = keras.layers.Dense(30, activation=\"relu\")(hidden1)\n",
    "concat = keras.layers.concatenate([input, hidden2])\n",
    "output = keras.layers.Dense(1)(concat)\n",
    "model = keras.models.Model(inputs=[input], outputs=[output])"
   ]
  },
  {
   "cell_type": "code",
   "execution_count": 179,
   "id": "bbe8c665",
   "metadata": {},
   "outputs": [
    {
     "name": "stdout",
     "output_type": "stream",
     "text": [
      "(None, 6)\n",
      "(None, 30)\n",
      "(None, 30)\n",
      "(None, 35)\n",
      "(None, 1)\n"
     ]
    }
   ],
   "source": [
    "# example\n",
    "input_A = keras.layers.Input(shape=[5])\n",
    "input_B = keras.layers.Input(shape=[6])\n",
    "print(input_B.shape)\n",
    "hidden1 = keras.layers.Dense(30, activation=\"relu\")(input_B)\n",
    "print(hidden1.shape)\n",
    "hidden2 = keras.layers.Dense(30, activation=\"relu\")(hidden1)\n",
    "print(hidden2.shape)\n",
    "concat = keras.layers.concatenate([input_A, hidden2])\n",
    "print(concat.shape)\n",
    "output = keras.layers.Dense(1)(concat)\n",
    "print(output.shape)\n",
    "model = keras.models.Model(inputs=[input_A, input_B], outputs=[output])"
   ]
  },
  {
   "cell_type": "code",
   "execution_count": 180,
   "id": "365ac307",
   "metadata": {},
   "outputs": [],
   "source": [
    "model.compile(loss=\"mse\", optimizer=\"sgd\")"
   ]
  },
  {
   "cell_type": "code",
   "execution_count": 181,
   "id": "eaa6005d",
   "metadata": {},
   "outputs": [
    {
     "name": "stdout",
     "output_type": "stream",
     "text": [
      "[[ 5.48473282e+00  1.12595420e+00  7.24000000e+02  2.76335878e+00\n",
      "   3.40900000e+01 -1.17690000e+02]\n",
      " [ 3.52020860e+00  9.94784876e-01  2.81500000e+03  3.67014342e+00\n",
      "   3.39700000e+01 -1.18190000e+02]\n",
      " [ 6.44444444e+00  1.83333333e+00  1.23000000e+02  2.27777778e+00\n",
      "   3.27500000e+01 -1.15720000e+02]\n",
      " ...\n",
      " [ 6.66367713e+00  1.06188341e+00  3.48900000e+03  3.12914798e+00\n",
      "   3.46800000e+01 -1.18110000e+02]\n",
      " [ 3.23850085e+00  1.15672913e+00  8.65000000e+02  1.47359455e+00\n",
      "   3.39800000e+01 -1.18510000e+02]\n",
      " [ 3.51396648e+00  1.06424581e+00  1.27600000e+03  3.56424581e+00\n",
      "   3.40000000e+01 -1.18270000e+02]]\n"
     ]
    }
   ],
   "source": [
    "X_train_A, X_train_B = X_train[:, :5], X_train[:, 2:]\n",
    "print(X_train_B)\n",
    "X_valid_A, X_valid_B = X_valid[:, :5], X_valid[:, 2:]\n",
    "X_test_A, X_test_B = X_test[:, :5], X_test[:, 2:]\n",
    "X_new_A, X_new_B = X_test_A[:3], X_test_B[:3]"
   ]
  },
  {
   "cell_type": "code",
   "execution_count": 182,
   "id": "b8b06ea8",
   "metadata": {},
   "outputs": [
    {
     "name": "stdout",
     "output_type": "stream",
     "text": [
      "Epoch 1/20\n",
      "363/363 [==============================] - 1s 1ms/step - loss: nan - val_loss: nan\n",
      "Epoch 2/20\n",
      "363/363 [==============================] - 0s 836us/step - loss: nan - val_loss: nan\n",
      "Epoch 3/20\n",
      "363/363 [==============================] - 0s 852us/step - loss: nan - val_loss: nan\n",
      "Epoch 4/20\n",
      "363/363 [==============================] - 0s 845us/step - loss: nan - val_loss: nan\n",
      "Epoch 5/20\n",
      "363/363 [==============================] - 0s 839us/step - loss: nan - val_loss: nan\n",
      "Epoch 6/20\n",
      "363/363 [==============================] - 0s 834us/step - loss: nan - val_loss: nan\n",
      "Epoch 7/20\n",
      "363/363 [==============================] - 0s 843us/step - loss: nan - val_loss: nan\n",
      "Epoch 8/20\n",
      "363/363 [==============================] - 0s 831us/step - loss: nan - val_loss: nan\n",
      "Epoch 9/20\n",
      "363/363 [==============================] - 0s 854us/step - loss: nan - val_loss: nan\n",
      "Epoch 10/20\n",
      "363/363 [==============================] - 0s 855us/step - loss: nan - val_loss: nan\n",
      "Epoch 11/20\n",
      "363/363 [==============================] - 0s 856us/step - loss: nan - val_loss: nan\n",
      "Epoch 12/20\n",
      "363/363 [==============================] - 0s 855us/step - loss: nan - val_loss: nan\n",
      "Epoch 13/20\n",
      "363/363 [==============================] - 0s 865us/step - loss: nan - val_loss: nan\n",
      "Epoch 14/20\n",
      "363/363 [==============================] - 0s 861us/step - loss: nan - val_loss: nan\n",
      "Epoch 15/20\n",
      "363/363 [==============================] - 0s 855us/step - loss: nan - val_loss: nan\n",
      "Epoch 16/20\n",
      "363/363 [==============================] - 0s 855us/step - loss: nan - val_loss: nan\n",
      "Epoch 17/20\n",
      "363/363 [==============================] - 0s 837us/step - loss: nan - val_loss: nan\n",
      "Epoch 18/20\n",
      "363/363 [==============================] - 0s 861us/step - loss: nan - val_loss: nan\n",
      "Epoch 19/20\n",
      "363/363 [==============================] - 0s 851us/step - loss: nan - val_loss: nan\n",
      "Epoch 20/20\n",
      "363/363 [==============================] - 0s 838us/step - loss: nan - val_loss: nan\n",
      "162/162 [==============================] - 0s 561us/step - loss: nan\n"
     ]
    }
   ],
   "source": [
    "history = model.fit((X_train_A, X_train_B), y_train, epochs=20,\n",
    "                    validation_data=((X_valid_A, X_valid_B), y_valid))\n",
    "mse_test = model.evaluate((X_test_A, X_test_B), y_test)\n",
    "y_pred = model.predict((X_new_A, X_new_B))"
   ]
  },
  {
   "cell_type": "code",
   "execution_count": 183,
   "id": "7518eec6",
   "metadata": {},
   "outputs": [],
   "source": [
    "output = keras.layers.Dense(1)(concat)\n",
    "aux_output = keras.layers.Dense(1)(hidden2)\n",
    "model = keras.models.Model(inputs=[input_A, input_B],\n",
    "                               outputs=[output, aux_output])"
   ]
  },
  {
   "cell_type": "code",
   "execution_count": 184,
   "id": "f3b5d825",
   "metadata": {},
   "outputs": [],
   "source": [
    "model.compile(loss=[\"mse\", \"mse\"], loss_weights=[0.9, 0.1], optimizer=\"sgd\")"
   ]
  },
  {
   "cell_type": "code",
   "execution_count": 185,
   "id": "e403a5b1",
   "metadata": {},
   "outputs": [
    {
     "name": "stdout",
     "output_type": "stream",
     "text": [
      "Epoch 1/20\n",
      "363/363 [==============================] - 1s 1ms/step - loss: nan - dense_67_loss: nan - dense_68_loss: nan - val_loss: nan - val_dense_67_loss: nan - val_dense_68_loss: nan\n",
      "Epoch 2/20\n",
      "363/363 [==============================] - 0s 977us/step - loss: nan - dense_67_loss: nan - dense_68_loss: nan - val_loss: nan - val_dense_67_loss: nan - val_dense_68_loss: nan\n",
      "Epoch 3/20\n",
      "363/363 [==============================] - 0s 981us/step - loss: nan - dense_67_loss: nan - dense_68_loss: nan - val_loss: nan - val_dense_67_loss: nan - val_dense_68_loss: nan\n",
      "Epoch 4/20\n",
      "363/363 [==============================] - 0s 986us/step - loss: nan - dense_67_loss: nan - dense_68_loss: nan - val_loss: nan - val_dense_67_loss: nan - val_dense_68_loss: nan\n",
      "Epoch 5/20\n",
      "363/363 [==============================] - 0s 971us/step - loss: nan - dense_67_loss: nan - dense_68_loss: nan - val_loss: nan - val_dense_67_loss: nan - val_dense_68_loss: nan\n",
      "Epoch 6/20\n",
      "363/363 [==============================] - 0s 988us/step - loss: nan - dense_67_loss: nan - dense_68_loss: nan - val_loss: nan - val_dense_67_loss: nan - val_dense_68_loss: nan\n",
      "Epoch 7/20\n",
      "363/363 [==============================] - 0s 977us/step - loss: nan - dense_67_loss: nan - dense_68_loss: nan - val_loss: nan - val_dense_67_loss: nan - val_dense_68_loss: nan\n",
      "Epoch 8/20\n",
      "363/363 [==============================] - 0s 982us/step - loss: nan - dense_67_loss: nan - dense_68_loss: nan - val_loss: nan - val_dense_67_loss: nan - val_dense_68_loss: nan\n",
      "Epoch 9/20\n",
      "363/363 [==============================] - 0s 977us/step - loss: nan - dense_67_loss: nan - dense_68_loss: nan - val_loss: nan - val_dense_67_loss: nan - val_dense_68_loss: nan\n",
      "Epoch 10/20\n",
      "363/363 [==============================] - 0s 973us/step - loss: nan - dense_67_loss: nan - dense_68_loss: nan - val_loss: nan - val_dense_67_loss: nan - val_dense_68_loss: nan\n",
      "Epoch 11/20\n",
      "363/363 [==============================] - 0s 993us/step - loss: nan - dense_67_loss: nan - dense_68_loss: nan - val_loss: nan - val_dense_67_loss: nan - val_dense_68_loss: nan\n",
      "Epoch 12/20\n",
      "363/363 [==============================] - 0s 1ms/step - loss: nan - dense_67_loss: nan - dense_68_loss: nan - val_loss: nan - val_dense_67_loss: nan - val_dense_68_loss: nan\n",
      "Epoch 13/20\n",
      "363/363 [==============================] - 0s 973us/step - loss: nan - dense_67_loss: nan - dense_68_loss: nan - val_loss: nan - val_dense_67_loss: nan - val_dense_68_loss: nan\n",
      "Epoch 14/20\n",
      "363/363 [==============================] - 0s 992us/step - loss: nan - dense_67_loss: nan - dense_68_loss: nan - val_loss: nan - val_dense_67_loss: nan - val_dense_68_loss: nan\n",
      "Epoch 15/20\n",
      "363/363 [==============================] - 0s 1ms/step - loss: nan - dense_67_loss: nan - dense_68_loss: nan - val_loss: nan - val_dense_67_loss: nan - val_dense_68_loss: nan\n",
      "Epoch 16/20\n",
      "363/363 [==============================] - 0s 989us/step - loss: nan - dense_67_loss: nan - dense_68_loss: nan - val_loss: nan - val_dense_67_loss: nan - val_dense_68_loss: nan\n",
      "Epoch 17/20\n",
      "363/363 [==============================] - 0s 1ms/step - loss: nan - dense_67_loss: nan - dense_68_loss: nan - val_loss: nan - val_dense_67_loss: nan - val_dense_68_loss: nan\n",
      "Epoch 18/20\n",
      "363/363 [==============================] - 0s 976us/step - loss: nan - dense_67_loss: nan - dense_68_loss: nan - val_loss: nan - val_dense_67_loss: nan - val_dense_68_loss: nan\n",
      "Epoch 19/20\n",
      "363/363 [==============================] - 0s 985us/step - loss: nan - dense_67_loss: nan - dense_68_loss: nan - val_loss: nan - val_dense_67_loss: nan - val_dense_68_loss: nan\n",
      "Epoch 20/20\n",
      "363/363 [==============================] - 0s 992us/step - loss: nan - dense_67_loss: nan - dense_68_loss: nan - val_loss: nan - val_dense_67_loss: nan - val_dense_68_loss: nan\n"
     ]
    }
   ],
   "source": [
    "history = model.fit(\n",
    "        [X_train_A, X_train_B], [y_train, y_train], epochs=20,\n",
    "        validation_data=([X_valid_A, X_valid_B], [y_valid, y_valid]))"
   ]
  },
  {
   "cell_type": "code",
   "execution_count": 186,
   "id": "10cb5dc2",
   "metadata": {},
   "outputs": [
    {
     "name": "stdout",
     "output_type": "stream",
     "text": [
      "162/162 [==============================] - 0s 641us/step - loss: nan - dense_67_loss: nan - dense_68_loss: nan\n"
     ]
    }
   ],
   "source": [
    "total_loss, main_loss, aux_loss = model.evaluate(\n",
    "        [X_test_A, X_test_B], [y_test, y_test])"
   ]
  },
  {
   "cell_type": "code",
   "execution_count": 187,
   "id": "1c930763",
   "metadata": {},
   "outputs": [],
   "source": [
    "y_pred_main, y_pred_aux = model.predict([X_new_A, X_new_B])"
   ]
  },
  {
   "cell_type": "code",
   "execution_count": null,
   "id": "5a6b7741",
   "metadata": {},
   "outputs": [],
   "source": []
  },
  {
   "cell_type": "code",
   "execution_count": null,
   "id": "b1f8439b",
   "metadata": {},
   "outputs": [],
   "source": []
  },
  {
   "cell_type": "code",
   "execution_count": null,
   "id": "9dbe7fab",
   "metadata": {},
   "outputs": [],
   "source": []
  },
  {
   "cell_type": "code",
   "execution_count": null,
   "id": "de7b09f8",
   "metadata": {},
   "outputs": [],
   "source": []
  },
  {
   "cell_type": "code",
   "execution_count": null,
   "id": "b6f03266",
   "metadata": {},
   "outputs": [],
   "source": []
  },
  {
   "cell_type": "code",
   "execution_count": null,
   "id": "1bbae080",
   "metadata": {},
   "outputs": [],
   "source": []
  },
  {
   "cell_type": "code",
   "execution_count": null,
   "id": "aacc8570",
   "metadata": {},
   "outputs": [],
   "source": []
  },
  {
   "cell_type": "code",
   "execution_count": null,
   "id": "10c17634",
   "metadata": {},
   "outputs": [],
   "source": []
  },
  {
   "cell_type": "code",
   "execution_count": null,
   "id": "e2e9a754",
   "metadata": {},
   "outputs": [],
   "source": []
  },
  {
   "cell_type": "code",
   "execution_count": null,
   "id": "e1883104",
   "metadata": {},
   "outputs": [],
   "source": []
  },
  {
   "cell_type": "code",
   "execution_count": null,
   "id": "d82cabe6",
   "metadata": {},
   "outputs": [],
   "source": []
  },
  {
   "cell_type": "code",
   "execution_count": null,
   "id": "32c6e39a",
   "metadata": {},
   "outputs": [],
   "source": []
  },
  {
   "cell_type": "code",
   "execution_count": null,
   "id": "742744a9",
   "metadata": {},
   "outputs": [],
   "source": []
  },
  {
   "cell_type": "code",
   "execution_count": null,
   "id": "b804bb81",
   "metadata": {},
   "outputs": [],
   "source": []
  },
  {
   "cell_type": "code",
   "execution_count": null,
   "id": "51d79169",
   "metadata": {},
   "outputs": [],
   "source": []
  },
  {
   "cell_type": "code",
   "execution_count": null,
   "id": "9dc0711f",
   "metadata": {},
   "outputs": [],
   "source": []
  },
  {
   "cell_type": "code",
   "execution_count": null,
   "id": "000bc8b2",
   "metadata": {},
   "outputs": [],
   "source": []
  },
  {
   "cell_type": "code",
   "execution_count": null,
   "id": "02dd516f",
   "metadata": {},
   "outputs": [],
   "source": []
  },
  {
   "cell_type": "code",
   "execution_count": null,
   "id": "02354b0e",
   "metadata": {},
   "outputs": [],
   "source": []
  },
  {
   "cell_type": "code",
   "execution_count": null,
   "id": "f4fb5456",
   "metadata": {},
   "outputs": [],
   "source": []
  },
  {
   "cell_type": "code",
   "execution_count": null,
   "id": "be57c28e",
   "metadata": {},
   "outputs": [],
   "source": []
  }
 ],
 "metadata": {
  "kernelspec": {
   "display_name": "Python 3",
   "language": "python",
   "name": "python3"
  },
  "language_info": {
   "codemirror_mode": {
    "name": "ipython",
    "version": 3
   },
   "file_extension": ".py",
   "mimetype": "text/x-python",
   "name": "python",
   "nbconvert_exporter": "python",
   "pygments_lexer": "ipython3",
   "version": "3.8.8"
  }
 },
 "nbformat": 4,
 "nbformat_minor": 5
}
