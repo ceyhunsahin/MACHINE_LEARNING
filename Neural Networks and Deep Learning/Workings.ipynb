{
 "cells": [
  {
   "cell_type": "code",
   "execution_count": 1,
   "id": "8faa0da8",
   "metadata": {},
   "outputs": [],
   "source": [
    "import numpy as np"
   ]
  },
  {
   "cell_type": "code",
   "execution_count": 2,
   "id": "4a8c24a5",
   "metadata": {},
   "outputs": [
    {
     "data": {
      "text/plain": [
       "array([[2., 2., 2., 2.],\n",
       "       [2., 1., 1., 1.],\n",
       "       [2., 1., 1., 1.],\n",
       "       [2., 1., 1., 1.]])"
      ]
     },
     "execution_count": 2,
     "metadata": {},
     "output_type": "execute_result"
    }
   ],
   "source": [
    "x = np.ones((3, 3))\n",
    "y = np.pad(x, ((1, 0), (1, 0)), constant_values=2)\n",
    "y"
   ]
  },
  {
   "cell_type": "code",
   "execution_count": 27,
   "id": "802d8498",
   "metadata": {},
   "outputs": [
    {
     "name": "stdout",
     "output_type": "stream",
     "text": [
      "[[1. 1. 1.]\n",
      " [1. 1. 1.]\n",
      " [1. 1. 1.]]\n"
     ]
    },
    {
     "data": {
      "text/plain": [
       "array([[2., 2., 2., 2.],\n",
       "       [1., 1., 1., 2.],\n",
       "       [1., 1., 1., 2.],\n",
       "       [1., 1., 1., 2.]])"
      ]
     },
     "execution_count": 27,
     "metadata": {},
     "output_type": "execute_result"
    }
   ],
   "source": [
    "x = np.ones((3, 3))\n",
    "y = np.pad(x, ((1, 0), (0, 1)), constant_values=2)\n",
    "print(x)\n",
    "y"
   ]
  },
  {
   "cell_type": "code",
   "execution_count": 15,
   "id": "42bc7584",
   "metadata": {},
   "outputs": [
    {
     "name": "stdout",
     "output_type": "stream",
     "text": [
      "[[1. 1. 1.]\n",
      " [1. 1. 1.]\n",
      " [1. 1. 1.]]\n"
     ]
    },
    {
     "data": {
      "text/plain": [
       "array([[2., 1., 1., 1.],\n",
       "       [2., 1., 1., 1.],\n",
       "       [2., 1., 1., 1.]])"
      ]
     },
     "execution_count": 15,
     "metadata": {},
     "output_type": "execute_result"
    }
   ],
   "source": [
    "x = np.ones((3, 3))\n",
    "y = np.pad(x, ((0, 0), (1, 0)), constant_values=2)\n",
    "print(x)\n",
    "y"
   ]
  },
  {
   "cell_type": "code",
   "execution_count": 35,
   "id": "982b2554",
   "metadata": {},
   "outputs": [
    {
     "name": "stdout",
     "output_type": "stream",
     "text": [
      "[[1. 1. 1.]\n",
      " [1. 1. 1.]\n",
      " [1. 1. 1.]]\n"
     ]
    },
    {
     "data": {
      "text/plain": [
       "array([[2., 2., 2., 2., 2., 2., 2., 2.],\n",
       "       [2., 2., 2., 2., 1., 1., 1., 2.],\n",
       "       [2., 2., 2., 2., 1., 1., 1., 2.],\n",
       "       [2., 2., 2., 2., 1., 1., 1., 2.],\n",
       "       [2., 2., 2., 2., 2., 2., 2., 2.],\n",
       "       [2., 2., 2., 2., 2., 2., 2., 2.]])"
      ]
     },
     "execution_count": 35,
     "metadata": {},
     "output_type": "execute_result"
    }
   ],
   "source": [
    "x = np.ones((3, 3))\n",
    "y = np.pad(x, ((1, 2), (4, 1)), constant_values=2)\n",
    "print(x)\n",
    "y"
   ]
  },
  {
   "cell_type": "code",
   "execution_count": 13,
   "id": "629cf979",
   "metadata": {},
   "outputs": [
    {
     "data": {
      "text/plain": [
       "array([[2., 2., 2., 2., 2.],\n",
       "       [2., 1., 1., 1., 2.],\n",
       "       [2., 1., 1., 1., 2.],\n",
       "       [2., 1., 1., 1., 2.],\n",
       "       [2., 2., 2., 2., 2.]])"
      ]
     },
     "execution_count": 13,
     "metadata": {},
     "output_type": "execute_result"
    }
   ],
   "source": [
    "x = np.ones((3, 3))\n",
    "y = np.pad(x, pad_width=1, constant_values=2)\n",
    "y"
   ]
  },
  {
   "cell_type": "code",
   "execution_count": 10,
   "id": "00824c60",
   "metadata": {},
   "outputs": [
    {
     "name": "stdout",
     "output_type": "stream",
     "text": [
      "[[[1. 1. 1.]\n",
      "  [1. 1. 1.]\n",
      "  [1. 1. 1.]]\n",
      "\n",
      " [[1. 1. 1.]\n",
      "  [1. 1. 1.]\n",
      "  [1. 1. 1.]]\n",
      "\n",
      " [[1. 1. 1.]\n",
      "  [1. 1. 1.]\n",
      "  [1. 1. 1.]]]\n"
     ]
    },
    {
     "data": {
      "text/plain": [
       "array([[[2., 2., 2., 2., 2.],\n",
       "        [2., 2., 2., 2., 2.],\n",
       "        [2., 2., 2., 2., 2.],\n",
       "        [2., 2., 2., 2., 2.],\n",
       "        [2., 2., 2., 2., 2.]],\n",
       "\n",
       "       [[2., 2., 2., 2., 2.],\n",
       "        [2., 1., 1., 1., 2.],\n",
       "        [2., 1., 1., 1., 2.],\n",
       "        [2., 1., 1., 1., 2.],\n",
       "        [2., 2., 2., 2., 2.]],\n",
       "\n",
       "       [[2., 2., 2., 2., 2.],\n",
       "        [2., 1., 1., 1., 2.],\n",
       "        [2., 1., 1., 1., 2.],\n",
       "        [2., 1., 1., 1., 2.],\n",
       "        [2., 2., 2., 2., 2.]],\n",
       "\n",
       "       [[2., 2., 2., 2., 2.],\n",
       "        [2., 1., 1., 1., 2.],\n",
       "        [2., 1., 1., 1., 2.],\n",
       "        [2., 1., 1., 1., 2.],\n",
       "        [2., 2., 2., 2., 2.]],\n",
       "\n",
       "       [[2., 2., 2., 2., 2.],\n",
       "        [2., 2., 2., 2., 2.],\n",
       "        [2., 2., 2., 2., 2.],\n",
       "        [2., 2., 2., 2., 2.],\n",
       "        [2., 2., 2., 2., 2.]]])"
      ]
     },
     "execution_count": 10,
     "metadata": {},
     "output_type": "execute_result"
    }
   ],
   "source": [
    "x = np.ones((3, 3, 3))\n",
    "y = np.pad(x, ((1, 1), (1, 1), (1, 1)), constant_values=2)\n",
    "print(x)\n",
    "y"
   ]
  },
  {
   "cell_type": "code",
   "execution_count": 44,
   "id": "dc38dc25",
   "metadata": {},
   "outputs": [
    {
     "name": "stdout",
     "output_type": "stream",
     "text": [
      "[[[232 226 210]\n",
      "  [223 217 201]\n",
      "  [218 212 196]\n",
      "  ...\n",
      "  [245 240 234]\n",
      "  [245 240 234]\n",
      "  [245 240 234]]\n",
      "\n",
      " [[232 226 210]\n",
      "  [223 217 201]\n",
      "  [218 212 196]\n",
      "  ...\n",
      "  [240 235 229]\n",
      "  [240 235 229]\n",
      "  [240 235 229]]\n",
      "\n",
      " [[232 226 210]\n",
      "  [223 217 201]\n",
      "  [218 212 196]\n",
      "  ...\n",
      "  [235 230 224]\n",
      "  [235 230 224]\n",
      "  [235 230 224]]\n",
      "\n",
      " ...\n",
      "\n",
      " [[191 178 159]\n",
      "  [191 178 159]\n",
      "  [191 178 159]\n",
      "  ...\n",
      "  [220 216 207]\n",
      "  [221 217 208]\n",
      "  [236 232 223]]\n",
      "\n",
      " [[198 185 166]\n",
      "  [198 185 166]\n",
      "  [198 185 166]\n",
      "  ...\n",
      "  [220 216 207]\n",
      "  [221 217 208]\n",
      "  [236 232 223]]\n",
      "\n",
      " [[218 205 188]\n",
      "  [218 205 188]\n",
      "  [218 205 188]\n",
      "  ...\n",
      "  [220 216 207]\n",
      "  [221 217 208]\n",
      "  [236 232 223]]]\n"
     ]
    },
    {
     "data": {
      "image/png": "[encoded data removed]",
      "text/plain": [
       "<Figure size 432x288 with 1 Axes>"
      ]
     },
     "metadata": {},
     "output_type": "display_data"
    }
   ],
   "source": [
    "import imageio\n",
    "import matplotlib.pyplot as plt\n",
    "\n",
    "img = imageio.imread(\"../download.jpeg\")\n",
    "print(img)\n",
    "height, width, channels = img.shape\n",
    "plt.imshow(np.pad(img, ((0,0), (0, width), (0, 0)), mode='mean'))\n",
    "plt.xticks([])\n",
    "plt.yticks([]);"
   ]
  },
  {
   "cell_type": "code",
   "execution_count": 33,
   "id": "69cf7e5e",
   "metadata": {},
   "outputs": [
    {
     "data": {
      "text/plain": [
       "2"
      ]
     },
     "execution_count": 33,
     "metadata": {},
     "output_type": "execute_result"
    }
   ],
   "source": [
    "a = np.ones((3,5))\n",
    "a.shape\n",
    "a.ndim"
   ]
  },
  {
   "cell_type": "code",
   "execution_count": 39,
   "id": "cd8bf8e3",
   "metadata": {},
   "outputs": [
    {
     "data": {
      "text/plain": [
       "array([[[[ 0.79436804,  0.17410772],\n",
       "         [-0.16374605,  1.61909455],\n",
       "         [ 1.52543189, -0.43303291]],\n",
       "\n",
       "        [[-0.22265612,  1.47696472],\n",
       "         [ 0.90179087, -0.28874076],\n",
       "         [ 0.91194463,  2.39234168]],\n",
       "\n",
       "        [[-0.492163  ,  0.53105102],\n",
       "         [-2.69465048,  0.83192418],\n",
       "         [ 1.04910138, -0.07979027]]],\n",
       "\n",
       "\n",
       "       [[[ 0.51899647, -0.27091166],\n",
       "         [-0.52120087,  0.04634048],\n",
       "         [-1.42998423, -0.22978663]],\n",
       "\n",
       "        [[-0.10262242,  0.69587189],\n",
       "         [ 0.33733448, -0.28752489],\n",
       "         [-0.23460263, -0.63782288]],\n",
       "\n",
       "        [[-0.34843132,  0.41370346],\n",
       "         [-0.29615287, -0.07534638],\n",
       "         [-0.06342711,  1.17423147]]],\n",
       "\n",
       "\n",
       "       [[[-0.08806441, -0.73716643],\n",
       "         [-0.66116156,  0.41221673],\n",
       "         [-0.36566473,  2.1317863 ]],\n",
       "\n",
       "        [[-0.13813403, -1.04396382],\n",
       "         [-0.09401743, -0.38619526],\n",
       "         [-0.61971548, -0.00605118]],\n",
       "\n",
       "        [[-0.54698955, -0.45252368],\n",
       "         [ 0.24413259,  1.22466768],\n",
       "         [-0.12532032, -2.52684669]]],\n",
       "\n",
       "\n",
       "       [[[-1.1114336 , -0.13587724],\n",
       "         [ 0.72145163,  0.32125843],\n",
       "         [-0.25432832, -0.16670412]],\n",
       "\n",
       "        [[-0.98605832, -0.51226129],\n",
       "         [ 0.12424646,  0.36825125],\n",
       "         [ 1.52783374, -0.6458347 ]],\n",
       "\n",
       "        [[ 1.60017464, -0.60679965],\n",
       "         [ 2.07734521,  0.63778092],\n",
       "         [-0.66586459, -0.79294523]]]])"
      ]
     },
     "execution_count": 39,
     "metadata": {},
     "output_type": "execute_result"
    }
   ],
   "source": [
    "x = np.random.randn(4, 3, 3, 2)\n",
    "x"
   ]
  },
  {
   "cell_type": "code",
   "execution_count": null,
   "id": "7a7ae012",
   "metadata": {},
   "outputs": [],
   "source": []
  }
 ],
 "metadata": {
  "kernelspec": {
   "display_name": "Python 3",
   "language": "python",
   "name": "python3"
  },
  "language_info": {
   "codemirror_mode": {
    "name": "ipython",
    "version": 3
   },
   "file_extension": ".py",
   "mimetype": "text/x-python",
   "name": "python",
   "nbconvert_exporter": "python",
   "pygments_lexer": "ipython3",
   "version": "3.8.8"
  }
 },
 "nbformat": 4,
 "nbformat_minor": 5
}
