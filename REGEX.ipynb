{
 "cells": [
  {
   "cell_type": "code",
   "execution_count": 1,
   "id": "4c4e64bb",
   "metadata": {},
   "outputs": [],
   "source": [
    "import re"
   ]
  },
  {
   "cell_type": "code",
   "execution_count": 2,
   "id": "23aa74c7",
   "metadata": {},
   "outputs": [
    {
     "name": "stdout",
     "output_type": "stream",
     "text": [
      "Wonderful\n"
     ]
    }
   ],
   "source": [
    "text = ' This is a good day'\n",
    "#first we use **search()**\n",
    "if re.search('good', text) :\n",
    "    print(\"Wonderful\")\n",
    "else : print('Alas :(')"
   ]
  },
  {
   "cell_type": "code",
   "execution_count": 3,
   "id": "6f323bba",
   "metadata": {},
   "outputs": [
    {
     "data": {
      "text/plain": [
       "['', ' works diligently. ', ' gets good grades. Our student ', ' is succesful']"
      ]
     },
     "execution_count": 3,
     "metadata": {},
     "output_type": "execute_result"
    }
   ],
   "source": [
    "# findall() ve split() parse the string and return chunks\n",
    "text = 'Amy works diligently. Amy gets good grades. Our student Amy is succesful'\n",
    "\n",
    "re.split(\"Amy\", text)"
   ]
  },
  {
   "cell_type": "code",
   "execution_count": 4,
   "id": "9f678bf1",
   "metadata": {},
   "outputs": [
    {
     "data": {
      "text/plain": [
       "['Amy', 'Amy', 'Amy']"
      ]
     },
     "execution_count": 4,
     "metadata": {},
     "output_type": "execute_result"
    }
   ],
   "source": [
    "re.findall(\"Amy\", text)"
   ]
  },
  {
   "cell_type": "code",
   "execution_count": 7,
   "id": "16082d9e",
   "metadata": {},
   "outputs": [
    {
     "data": {
      "text/plain": [
       "<re.Match object; span=(0, 3), match='Amy'>"
      ]
     },
     "execution_count": 7,
     "metadata": {},
     "output_type": "execute_result"
    }
   ],
   "source": [
    "# search() looks for some patterns and returns a boolean, split() creating a list of substring, \n",
    "\n",
    "# REGEX API\n",
    "# Anchors specify the start and/or the end of the string that you're trying to match ^kullaniriz \n",
    "# ^baslangicta , $ en sonda olur, bastaysa bunla baslasin demek, $ ise bunla bitsin demek, \n",
    "#\n",
    "#\n",
    "text = 'Amy works diligently. Amy gets good grades. Our student Amy is succesful'\n",
    "re.search(\"^Amy\", text) # re.Match dondu bu, var True demek"
   ]
  },
  {
   "cell_type": "code",
   "execution_count": 8,
   "id": "9150ecf1",
   "metadata": {},
   "outputs": [],
   "source": [
    "re.search(\"^Our\", text)\n"
   ]
  },
  {
   "cell_type": "markdown",
   "id": "01ebb769",
   "metadata": {},
   "source": [
    "## Patterns and Character Classes"
   ]
  },
  {
   "cell_type": "code",
   "execution_count": 13,
   "id": "c6f2ea3f",
   "metadata": {},
   "outputs": [
    {
     "data": {
      "text/plain": [
       "['B', 'B', 'B', 'B', 'B', 'B']"
      ]
     },
     "execution_count": 13,
     "metadata": {},
     "output_type": "execute_result"
    }
   ],
   "source": [
    "grades = \"AAAABCBBBCCAABBCACAAA\"\n",
    "re.findall(\"B\", grades)"
   ]
  },
  {
   "cell_type": "code",
   "execution_count": 14,
   "id": "7db30797",
   "metadata": {},
   "outputs": [
    {
     "data": {
      "text/plain": [
       "['A',\n",
       " 'A',\n",
       " 'A',\n",
       " 'A',\n",
       " 'B',\n",
       " 'B',\n",
       " 'B',\n",
       " 'B',\n",
       " 'A',\n",
       " 'A',\n",
       " 'B',\n",
       " 'B',\n",
       " 'A',\n",
       " 'A',\n",
       " 'A',\n",
       " 'A']"
      ]
     },
     "execution_count": 14,
     "metadata": {},
     "output_type": "execute_result"
    }
   ],
   "source": [
    "re.findall('[AB]', grades)"
   ]
  },
  {
   "cell_type": "code",
   "execution_count": 15,
   "id": "f666b9f9",
   "metadata": {},
   "outputs": [
    {
     "data": {
      "text/plain": [
       "['AB', 'AB', 'AC']"
      ]
     },
     "execution_count": 15,
     "metadata": {},
     "output_type": "execute_result"
    }
   ],
   "source": [
    "re.findall(\"[A][B-C]\", grades) # AB veya AC olanlari cikar"
   ]
  },
  {
   "cell_type": "code",
   "execution_count": 17,
   "id": "2484e9cf",
   "metadata": {},
   "outputs": [
    {
     "data": {
      "text/plain": [
       "['AB', 'AB', 'AC']"
      ]
     },
     "execution_count": 17,
     "metadata": {},
     "output_type": "execute_result"
    }
   ],
   "source": [
    "re.findall(\"AB|AC\", grades)"
   ]
  },
  {
   "cell_type": "code",
   "execution_count": 19,
   "id": "9df2c9d9",
   "metadata": {},
   "outputs": [
    {
     "data": {
      "text/plain": [
       "['B', 'C', 'B', 'B', 'B', 'C', 'C', 'B', 'B', 'C', 'C']"
      ]
     },
     "execution_count": 19,
     "metadata": {},
     "output_type": "execute_result"
    }
   ],
   "source": [
    "# A olmayanlari bulmak istiyorsak\n",
    "re.findall(\"[^A]\", grades)"
   ]
  },
  {
   "cell_type": "code",
   "execution_count": 25,
   "id": "f164936b",
   "metadata": {},
   "outputs": [
    {
     "data": {
      "text/plain": [
       "['A']"
      ]
     },
     "execution_count": 25,
     "metadata": {},
     "output_type": "execute_result"
    }
   ],
   "source": [
    "re.findall(\"^[A]\", grades) # bu A ile baslayani bul demek, set operatorun yani koseli parantezin icine girince anlami degisir"
   ]
  },
  {
   "cell_type": "code",
   "execution_count": 26,
   "id": "3283de89",
   "metadata": {},
   "outputs": [
    {
     "data": {
      "text/plain": [
       "[]"
      ]
     },
     "execution_count": 26,
     "metadata": {},
     "output_type": "execute_result"
    }
   ],
   "source": [
    "re.findall(\"^[^A]\", grades) # A'dan baska biseylerle baslayani bul dedik aslinda, baslayani bul ama A olmasin"
   ]
  },
  {
   "cell_type": "code",
   "execution_count": 45,
   "id": "e20e08c8",
   "metadata": {},
   "outputs": [],
   "source": [
    "grades = \"AAAAB CACACB C B ABA\" # en bastakine bakar, buludugu anda birakir"
   ]
  },
  {
   "cell_type": "code",
   "execution_count": 46,
   "id": "cf24b7f6",
   "metadata": {},
   "outputs": [
    {
     "data": {
      "text/plain": [
       "['A']"
      ]
     },
     "execution_count": 46,
     "metadata": {},
     "output_type": "execute_result"
    }
   ],
   "source": [
    "re.findall(\"^[^B]\", grades)"
   ]
  },
  {
   "cell_type": "markdown",
   "id": "c93d89e2",
   "metadata": {},
   "source": [
    "## Quantifiers"
   ]
  },
  {
   "cell_type": "code",
   "execution_count": 47,
   "id": "877ed223",
   "metadata": {},
   "outputs": [],
   "source": [
    "# ornegin e{m,n}, e = matching kaakteri, m = minimum number of times you want it to match, n = maximum"
   ]
  },
  {
   "cell_type": "code",
   "execution_count": 49,
   "id": "b50b6b77",
   "metadata": {},
   "outputs": [
    {
     "data": {
      "text/plain": [
       "['AAAA', 'AA', 'AAA']"
      ]
     },
     "execution_count": 49,
     "metadata": {},
     "output_type": "execute_result"
    }
   ],
   "source": [
    "grades = \"AAAABCBBBCCAABBCACAAA\"\n",
    "re.findall(\"A{2,10}\", grades)"
   ]
  },
  {
   "cell_type": "code",
   "execution_count": 50,
   "id": "578d22f4",
   "metadata": {},
   "outputs": [
    {
     "data": {
      "text/plain": [
       "['AA', 'AA', 'AA', 'AA']"
      ]
     },
     "execution_count": 50,
     "metadata": {},
     "output_type": "execute_result"
    }
   ],
   "source": [
    "re.findall(\"A{1,1}A{1,1}\", grades)"
   ]
  },
  {
   "cell_type": "code",
   "execution_count": 55,
   "id": "1d9bf678",
   "metadata": {},
   "outputs": [
    {
     "data": {
      "text/plain": [
       "['ev', 'ev']"
      ]
     },
     "execution_count": 55,
     "metadata": {},
     "output_type": "execute_result"
    }
   ],
   "source": [
    "a  = \"volkan eve gelmedi eve\"\n",
    "re.findall(\"e{1,1}v{1,1}\", a) # az oncekinden baska once e 'yi sonra v yi ariyor'"
   ]
  },
  {
   "cell_type": "code",
   "execution_count": 56,
   "id": "10f8a4ff",
   "metadata": {},
   "outputs": [
    {
     "data": {
      "text/plain": [
       "['AA', 'AA', 'AA', 'AA']"
      ]
     },
     "execution_count": 56,
     "metadata": {},
     "output_type": "execute_result"
    }
   ],
   "source": [
    "re.findall(\"A{2,2}\", grades) # defaultu {1,1} dir"
   ]
  },
  {
   "cell_type": "code",
   "execution_count": 57,
   "id": "b3d383a4",
   "metadata": {},
   "outputs": [
    {
     "data": {
      "text/plain": [
       "['AA', 'AA', 'AA', 'AA']"
      ]
     },
     "execution_count": 57,
     "metadata": {},
     "output_type": "execute_result"
    }
   ],
   "source": [
    "re.findall(\"AA\", grades)"
   ]
  },
  {
   "cell_type": "code",
   "execution_count": 58,
   "id": "20aab728",
   "metadata": {},
   "outputs": [
    {
     "data": {
      "text/plain": [
       "['AA', 'AA', 'AA', 'AA']"
      ]
     },
     "execution_count": 58,
     "metadata": {},
     "output_type": "execute_result"
    }
   ],
   "source": [
    "re.findall(\"A{2}\", grades) # m ve n birlikte"
   ]
  },
  {
   "cell_type": "code",
   "execution_count": 76,
   "id": "4fe18e9b",
   "metadata": {},
   "outputs": [],
   "source": [
    "with open('ferpa.txt', 'r') as file:\n",
    "    wiki = file.read()"
   ]
  },
  {
   "cell_type": "code",
   "execution_count": 77,
   "id": "15a1a6df",
   "metadata": {},
   "outputs": [
    {
     "data": {
      "text/plain": [
       "'Overview[edit]\\nFERPA gives parents access to their child\\'s education records, an opportunity to seek to have the records amended, and some control over the disclosure of information from the records. With several exceptions, schools must have a student\\'s consent prior to the disclosure of education records after that student is 18 years old. The law applies only to educational agencies and institutions that receive funds under a program administered by the U.S. Department of Education.\\n\\nOther regulations under this act, effective starting January 3, 2012, allow for greater disclosures of personal and directory student identifying information and regulate student IDs and e-mail addresses.[2] For example, schools may provide external companies with a student\\'s personally identifiable information without the student\\'s consent.[2]\\n\\nExamples of situations affected by FERPA include school employees divulging information to anyone other than the student about the student\\'s grades or behavior, and school work posted on a bulletin board with a grade. Generally, schools must have written permission from the parent or eligible student in order to release any information from a student\\'s education record.\\n\\nThis privacy policy also governs how state agencies transmit testing data to federal agencies, such as the Education Data Exchange Network.\\n\\nThis U.S. federal law also gave students 18 years of age or older, or students of any age if enrolled in any post-secondary educational institution, the right of privacy regarding grades, enrollment, and even billing information unless the school has specific permission from the student to share that specific type of information.\\n\\nFERPA also permits a school to disclose personally identifiable information from education records of an \"eligible student\" (a student age 18 or older or enrolled in a postsecondary institution at any age) to his or her parents if the student is a \"dependent student\" as that term is defined in Section 152 of the Internal Revenue Code. Generally, if either parent has claimed the student as a dependent on the parent\\'s most recent income tax statement, the school may non-consensually disclose the student\\'s education records to both parents.[3]\\n\\nThe law allowed students who apply to an educational institution such as graduate school permission to view recommendations submitted by others as part of the application. However, on standard application forms, students are given the option to waive this right.\\n\\nFERPA specifically excludes employees of an educational institution if they are not students.\\n\\nThe act is also referred to as the Buckley Amendment, for one of its proponents, Senator James L. Buckley of New York.\\n\\nAccess to public records[edit]\\nThe citing of FERPA to conceal public records that are not \"educational\" in nature has been widely criticized, including by the act\\'s primary Senate sponsor.[4] For example, in the Owasso Independent School District v. Falvo case, an important part of the debate was determining the relationship between peer-grading and \"education records\" as defined in FERPA. In the Court of Appeals, it was ruled that students placing grades on the work of other students made such work into an \"education record.\" Thus, peer-grading was determined as a violation of FERPA privacy policies because students had access to other students\\' academic performance without full consent.[5] However, when the case went to the Supreme Court, it was officially ruled that peer-grading was not a violation of FERPA. This is because a grade written on a student\\'s work does not become an \"education record\" until the teacher writes the final grade into a grade book.[6]\\n\\nStudent medical records[edit]\\nLegal experts have debated the issue of whether student medical records (for example records of therapy sessions with a therapist at an on-campus counseling center) might be released to the school administration under certain triggering events, such as when a student sued his college or university.[7][8]\\n\\nUsually, student medical treatment records will remain under the protection of FERPA, not the Health Insurance Portability and Accountability Act (HIPAA). This is due to the \"FERPA Exception\" written within HIPAA.[9]'"
      ]
     },
     "execution_count": 77,
     "metadata": {},
     "output_type": "execute_result"
    }
   ],
   "source": [
    "wiki"
   ]
  },
  {
   "cell_type": "code",
   "execution_count": 78,
   "id": "84939234",
   "metadata": {},
   "outputs": [
    {
     "data": {
      "text/plain": [
       "['Overview[edit]', 'records[edit]', 'records[edit]']"
      ]
     },
     "execution_count": 78,
     "metadata": {},
     "output_type": "execute_result"
    }
   ],
   "source": [
    "re.findall(\"[a-zA-Z]{1,100}\\[edit\\]\", wiki) \n",
    "# [a-zA-Z] Returns a match for any character alphabetically between a and z, lower case OR upper case\n",
    "# \\ Signals a special sequence (can also be used to escape special characters)"
   ]
  },
  {
   "cell_type": "code",
   "execution_count": 79,
   "id": "87d6a097",
   "metadata": {},
   "outputs": [
    {
     "data": {
      "text/plain": [
       "['Overview[edit]', 'records[edit]', 'records[edit]']"
      ]
     },
     "execution_count": 79,
     "metadata": {},
     "output_type": "execute_result"
    }
   ],
   "source": [
    "re.findall(\"[a-zA-Z]{1,100}\\[edit]\", wiki)"
   ]
  },
  {
   "cell_type": "code",
   "execution_count": 80,
   "id": "d42102bd",
   "metadata": {},
   "outputs": [
    {
     "name": "stdout",
     "output_type": "stream",
     "text": [
      "['T', 'h', 'e', 'r', 'a', 'i', 'n', 'i', 'n', 'S', 'p', 'a', 'i', 'n']\n",
      "Yes, there is at least one match!\n"
     ]
    }
   ],
   "source": [
    "import re\n",
    "txt = \"The rain in Spain\"\n",
    "#Return a match at every word character (characters from a to Z, digits from 0-9, and the underscore _ character):\n",
    "x = re.findall(\"\\w\", txt)\n",
    "print(x)\n",
    "if x:\n",
    "  print(\"Yes, there is at least one match!\")\n",
    "else:\n",
    "  print(\"No match\")"
   ]
  },
  {
   "cell_type": "code",
   "execution_count": 132,
   "id": "f3af2e92",
   "metadata": {},
   "outputs": [
    {
     "data": {
      "text/plain": [
       "['Overview[edit]', 'records[edit]', 'records[edit]']"
      ]
     },
     "execution_count": 132,
     "metadata": {},
     "output_type": "execute_result"
    }
   ],
   "source": [
    "re.findall(\"[\\w]{1,100}\\[edit\\]\", wiki)"
   ]
  },
  {
   "cell_type": "code",
   "execution_count": 85,
   "id": "88bcae48",
   "metadata": {},
   "outputs": [
    {
     "data": {
      "text/plain": [
       "['w[edit]', 's[edit]', 's[edit]']"
      ]
     },
     "execution_count": 85,
     "metadata": {},
     "output_type": "execute_result"
    }
   ],
   "source": [
    "re.findall(\"[\\w]\\[edit\\]\", wiki)"
   ]
  },
  {
   "cell_type": "code",
   "execution_count": 133,
   "id": "f5c7a268",
   "metadata": {},
   "outputs": [
    {
     "data": {
      "text/plain": [
       "['Overview[edit]', 'records[edit]', 'records[edit]']"
      ]
     },
     "execution_count": 133,
     "metadata": {},
     "output_type": "execute_result"
    }
   ],
   "source": [
    "re.findall(\"[\\w]+\\[edit\\]\", wiki)"
   ]
  },
  {
   "cell_type": "code",
   "execution_count": 134,
   "id": "49029ab2",
   "metadata": {},
   "outputs": [
    {
     "data": {
      "text/plain": [
       "['Overview[edit]',\n",
       " 'Access to public records[edit]',\n",
       " 'Student medical records[edit]']"
      ]
     },
     "execution_count": 134,
     "metadata": {},
     "output_type": "execute_result"
    }
   ],
   "source": [
    "re.findall(\"[\\w ]*\\[edit\\]\", wiki)"
   ]
  },
  {
   "cell_type": "code",
   "execution_count": 91,
   "id": "f3e27a48",
   "metadata": {},
   "outputs": [
    {
     "name": "stdout",
     "output_type": "stream",
     "text": [
      "Overview\n",
      "Access to public records\n",
      "Student medical records\n"
     ]
    }
   ],
   "source": [
    "for title in re.findall(\"[\\w ]*\\[edit\\]\", wiki): # * once secilen bilgiye bagli harekte eder, 0 dahildir, +'da ise en az 1 kere uyusmalidir\n",
    "    # ? ise sadece 0 veya 1 kere sorgulanmasi aranir 2 kere gecse gostermez'\n",
    "    print(re.split(\"[\\[]\", title)[0])"
   ]
  },
  {
   "cell_type": "markdown",
   "id": "bb87b286",
   "metadata": {},
   "source": [
    "## GROUPS"
   ]
  },
  {
   "cell_type": "code",
   "execution_count": 92,
   "id": "219d469f",
   "metadata": {},
   "outputs": [
    {
     "data": {
      "text/plain": [
       "[('Overview', '[edit]'),\n",
       " ('Access to public records', '[edit]'),\n",
       " ('Student medical records', '[edit]')]"
      ]
     },
     "execution_count": 92,
     "metadata": {},
     "output_type": "execute_result"
    }
   ],
   "source": [
    "re.findall(\"([\\w ]*)(\\[edit\\])\", wiki)"
   ]
  },
  {
   "cell_type": "code",
   "execution_count": 98,
   "id": "6df2bd05",
   "metadata": {},
   "outputs": [
    {
     "data": {
      "text/plain": [
       "['saat', 'zanaat']"
      ]
     },
     "execution_count": 98,
     "metadata": {},
     "output_type": "execute_result"
    }
   ],
   "source": [
    "re.findall(\"[a-z]+a{2}t\",\"Bence saat aat tamir etmek zor zanaat.\")"
   ]
  },
  {
   "cell_type": "code",
   "execution_count": 106,
   "id": "45004884",
   "metadata": {},
   "outputs": [
    {
     "name": "stdout",
     "output_type": "stream",
     "text": [
      "['Mustafa']\n",
      "['Baskomiser']\n",
      "['Yard']\n",
      "['Kemalettin']\n"
     ]
    }
   ],
   "source": [
    "metin = \"Mustafa Baskomiser ve Yardımcısı Kemalettin, 34XY6699 plakalı arabanın peşinde.\"\n",
    "liste = metin.split()\n",
    "for i in liste:\n",
    "    sonuc = re.findall(\"^[A-Z]+[a-z]+\",i)\n",
    "    if sonuc:\n",
    "        print(sonuc)"
   ]
  },
  {
   "cell_type": "code",
   "execution_count": 107,
   "id": "7d628204",
   "metadata": {},
   "outputs": [
    {
     "name": "stdout",
     "output_type": "stream",
     "text": [
      "google.com\n",
      "apple.net\n"
     ]
    }
   ],
   "source": [
    "metin = \"Silikon vadisi, google.com ve apple.net arasındaki rekabeti tartışıyor.\"\n",
    "liste = metin.split()\n",
    "for i in liste:\n",
    "  sonuc = re.search(\"(.com|.net)$\",i)\n",
    "  if sonuc:\n",
    "    print(sonuc.string)"
   ]
  },
  {
   "cell_type": "code",
   "execution_count": 109,
   "id": "8d0123aa",
   "metadata": {},
   "outputs": [
    {
     "data": {
      "text/plain": [
       "[]"
      ]
     },
     "execution_count": 109,
     "metadata": {},
     "output_type": "execute_result"
    }
   ],
   "source": [
    "re.findall(\"[0-9]+$\",\"Ekran kartı 150$, ses kartı ise 90$\")"
   ]
  },
  {
   "cell_type": "code",
   "execution_count": 110,
   "id": "1288333c",
   "metadata": {},
   "outputs": [
    {
     "data": {
      "text/plain": [
       "['150$', '90$']"
      ]
     },
     "execution_count": 110,
     "metadata": {},
     "output_type": "execute_result"
    }
   ],
   "source": [
    "re.findall(\"[0-9]+\\$\",\"Ekran kartı 150$, ses kartı ise 90$\")"
   ]
  },
  {
   "cell_type": "code",
   "execution_count": 128,
   "id": "bfc7df1d",
   "metadata": {},
   "outputs": [
    {
     "data": {
      "text/plain": [
       "['34XY6699']"
      ]
     },
     "execution_count": 128,
     "metadata": {},
     "output_type": "execute_result"
    }
   ],
   "source": [
    "metin = \"Mustafa başkomiser ve yardımcısı Kemalettin, 34XY6699 plakalı arabanın peşinde.\"\n",
    "\n",
    "re.findall(\"\\d+[A-Z]+\\d+\", metin)\n"
   ]
  },
  {
   "cell_type": "code",
   "execution_count": 135,
   "id": "2d0eecc3",
   "metadata": {},
   "outputs": [],
   "source": [
    "## match() object"
   ]
  },
  {
   "cell_type": "code",
   "execution_count": 143,
   "id": "c01b02e3",
   "metadata": {},
   "outputs": [
    {
     "name": "stdout",
     "output_type": "stream",
     "text": [
      "('Overview', '[edit]')\n",
      "****************\n",
      "Overview\n",
      "++++++++++++++++\n",
      "('Access to public records', '[edit]')\n",
      "****************\n",
      "Access to public records\n",
      "++++++++++++++++\n",
      "('Student medical records', '[edit]')\n",
      "****************\n",
      "Student medical records\n",
      "++++++++++++++++\n"
     ]
    }
   ],
   "source": [
    "for item in re.finditer(\"([\\w ]*)(\\[edit\\])\", wiki) : # findall'in aynisi\n",
    "    print(item.groups())\n",
    "    print('****************')\n",
    "    print(item.group(1))\n",
    "    print('++++++++++++++++')"
   ]
  },
  {
   "cell_type": "code",
   "execution_count": 145,
   "id": "5bbf148a",
   "metadata": {},
   "outputs": [
    {
     "name": "stdout",
     "output_type": "stream",
     "text": [
      "Overview\n",
      "Access to public records\n",
      "Student medical records\n"
     ]
    }
   ],
   "source": [
    "for item in re.finditer(\"(?P<title>[\\w ]+)(?=\\[edit\\])\", wiki) : # yukaridakinin degisik sekli\n",
    "    print(item.groupdict()['title'])\n"
   ]
  },
  {
   "cell_type": "code",
   "execution_count": 146,
   "id": "fe572fde",
   "metadata": {},
   "outputs": [
    {
     "name": "stdout",
     "output_type": "stream",
     "text": [
      "{'title': 'Student medical records'}\n"
     ]
    }
   ],
   "source": [
    "print(item.groupdict())"
   ]
  },
  {
   "cell_type": "markdown",
   "id": "21cbb3da",
   "metadata": {},
   "source": [
    "## Look ahead- Look Behind"
   ]
  },
  {
   "cell_type": "code",
   "execution_count": null,
   "id": "410a30cd",
   "metadata": {},
   "outputs": [],
   "source": [
    "# regex group larda [] ile bir karsilastirma yapariz, "
   ]
  },
  {
   "cell_type": "code",
   "execution_count": null,
   "id": "3c08fb01",
   "metadata": {},
   "outputs": [],
   "source": []
  },
  {
   "cell_type": "code",
   "execution_count": 148,
   "id": "49d14fa0",
   "metadata": {},
   "outputs": [
    {
     "name": "stdout",
     "output_type": "stream",
     "text": [
      "<re.Match object; span=(0, 8), match='Overview'>\n",
      "<re.Match object; span=(2715, 2739), match='Access to public records'>\n",
      "<re.Match object; span=(3692, 3715), match='Student medical records'>\n"
     ]
    }
   ],
   "source": [
    "for item in re.finditer(\"(?P<title>[\\w ]+)(?=\\[edit\\])\", wiki) :\n",
    "    print(item)"
   ]
  },
  {
   "cell_type": "code",
   "execution_count": 237,
   "id": "2947edc8",
   "metadata": {},
   "outputs": [
    {
     "data": {
      "text/plain": [
       "[]"
      ]
     },
     "execution_count": 237,
     "metadata": {},
     "output_type": "execute_result"
    }
   ],
   "source": [
    "simple_string = \"and her sister Mary is 2 years old. Ruth and Peter, their parents, have 3 kids.\"\n",
    "\n",
    "re.findall(\"^[R]+\", simple_string)\n"
   ]
  },
  {
   "cell_type": "code",
   "execution_count": null,
   "id": "a54bdead",
   "metadata": {},
   "outputs": [],
   "source": []
  },
  {
   "cell_type": "code",
   "execution_count": null,
   "id": "c2dd9690",
   "metadata": {},
   "outputs": [],
   "source": []
  },
  {
   "cell_type": "code",
   "execution_count": null,
   "id": "0bc0f447",
   "metadata": {},
   "outputs": [],
   "source": []
  },
  {
   "cell_type": "code",
   "execution_count": null,
   "id": "0771ee90",
   "metadata": {},
   "outputs": [],
   "source": []
  },
  {
   "cell_type": "code",
   "execution_count": null,
   "id": "3457ae1b",
   "metadata": {},
   "outputs": [],
   "source": []
  },
  {
   "cell_type": "code",
   "execution_count": null,
   "id": "acf51b8a",
   "metadata": {},
   "outputs": [],
   "source": []
  },
  {
   "cell_type": "code",
   "execution_count": null,
   "id": "216fbc1a",
   "metadata": {},
   "outputs": [],
   "source": []
  }
 ],
 "metadata": {
  "kernelspec": {
   "display_name": "Python 3",
   "language": "python",
   "name": "python3"
  },
  "language_info": {
   "codemirror_mode": {
    "name": "ipython",
    "version": 3
   },
   "file_extension": ".py",
   "mimetype": "text/x-python",
   "name": "python",
   "nbconvert_exporter": "python",
   "pygments_lexer": "ipython3",
   "version": "3.8.8"
  }
 },
 "nbformat": 4,
 "nbformat_minor": 5
}
