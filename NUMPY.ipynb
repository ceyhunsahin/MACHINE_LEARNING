{
 "cells": [
  {
   "cell_type": "code",
   "execution_count": 1,
   "id": "3a45c7c3",
   "metadata": {},
   "outputs": [
    {
     "data": {
      "text/plain": [
       "array([10, 12, 14, 16, 18, 20, 22, 24, 26, 28, 30, 32, 34, 36, 38, 40, 42,\n",
       "       44, 46, 48])"
      ]
     },
     "execution_count": 1,
     "metadata": {},
     "output_type": "execute_result"
    }
   ],
   "source": [
    "import numpy as np\n",
    "f = np.arange(10,50,2)\n",
    "f"
   ]
  },
  {
   "cell_type": "code",
   "execution_count": 2,
   "id": "45107fbc",
   "metadata": {},
   "outputs": [
    {
     "data": {
      "text/plain": [
       "array([ 0.        ,  0.20408163,  0.40816327,  0.6122449 ,  0.81632653,\n",
       "        1.02040816,  1.2244898 ,  1.42857143,  1.63265306,  1.83673469,\n",
       "        2.04081633,  2.24489796,  2.44897959,  2.65306122,  2.85714286,\n",
       "        3.06122449,  3.26530612,  3.46938776,  3.67346939,  3.87755102,\n",
       "        4.08163265,  4.28571429,  4.48979592,  4.69387755,  4.89795918,\n",
       "        5.10204082,  5.30612245,  5.51020408,  5.71428571,  5.91836735,\n",
       "        6.12244898,  6.32653061,  6.53061224,  6.73469388,  6.93877551,\n",
       "        7.14285714,  7.34693878,  7.55102041,  7.75510204,  7.95918367,\n",
       "        8.16326531,  8.36734694,  8.57142857,  8.7755102 ,  8.97959184,\n",
       "        9.18367347,  9.3877551 ,  9.59183673,  9.79591837, 10.        ])"
      ]
     },
     "execution_count": 2,
     "metadata": {},
     "output_type": "execute_result"
    }
   ],
   "source": [
    "np.linspace(0,10,50)"
   ]
  },
  {
   "cell_type": "code",
   "execution_count": 3,
   "id": "64eef41b",
   "metadata": {},
   "outputs": [
    {
     "data": {
      "text/plain": [
       "array([[0., 0., 0.],\n",
       "       [0., 0., 0.]])"
      ]
     },
     "execution_count": 3,
     "metadata": {},
     "output_type": "execute_result"
    }
   ],
   "source": [
    "np.zeros((2,3))"
   ]
  },
  {
   "cell_type": "code",
   "execution_count": 4,
   "id": "b5a9dd25",
   "metadata": {},
   "outputs": [
    {
     "data": {
      "text/plain": [
       "array([[1., 1., 1.],\n",
       "       [1., 1., 1.]])"
      ]
     },
     "execution_count": 4,
     "metadata": {},
     "output_type": "execute_result"
    }
   ],
   "source": [
    "c = np.ones((2,3))\n",
    "c"
   ]
  },
  {
   "cell_type": "code",
   "execution_count": 5,
   "id": "a2c28e22",
   "metadata": {},
   "outputs": [
    {
     "data": {
      "text/plain": [
       "dtype('float64')"
      ]
     },
     "execution_count": 5,
     "metadata": {},
     "output_type": "execute_result"
    }
   ],
   "source": [
    "c.dtype"
   ]
  },
  {
   "cell_type": "code",
   "execution_count": 6,
   "id": "359c692e",
   "metadata": {},
   "outputs": [
    {
     "data": {
      "text/plain": [
       "'float64'"
      ]
     },
     "execution_count": 6,
     "metadata": {},
     "output_type": "execute_result"
    }
   ],
   "source": [
    "c.dtype.name"
   ]
  },
  {
   "cell_type": "markdown",
   "id": "a5c50fa0",
   "metadata": {},
   "source": [
    "# Array Operations"
   ]
  },
  {
   "cell_type": "code",
   "execution_count": 7,
   "id": "b196729e",
   "metadata": {},
   "outputs": [],
   "source": [
    "a = np.array([10,20,30,40])\n",
    "b = np.array([1,2,3,4])"
   ]
  },
  {
   "cell_type": "code",
   "execution_count": 8,
   "id": "2197074a",
   "metadata": {},
   "outputs": [
    {
     "data": {
      "text/plain": [
       "array([11, 22, 33, 44])"
      ]
     },
     "execution_count": 8,
     "metadata": {},
     "output_type": "execute_result"
    }
   ],
   "source": [
    "a+b"
   ]
  },
  {
   "cell_type": "code",
   "execution_count": 9,
   "id": "51755fb8",
   "metadata": {},
   "outputs": [
    {
     "data": {
      "text/plain": [
       "array([ 10,  40,  90, 160])"
      ]
     },
     "execution_count": 9,
     "metadata": {},
     "output_type": "execute_result"
    }
   ],
   "source": [
    "a*b"
   ]
  },
  {
   "cell_type": "code",
   "execution_count": 10,
   "id": "cde22da1",
   "metadata": {},
   "outputs": [],
   "source": [
    "farenhait = np.array([0,-10,-5,-15.0])\n",
    "celcius = (farenhait-32)*5/9"
   ]
  },
  {
   "cell_type": "code",
   "execution_count": 11,
   "id": "4d95f77f",
   "metadata": {},
   "outputs": [
    {
     "data": {
      "text/plain": [
       "array([-17.77777778, -23.33333333, -20.55555556, -26.11111111])"
      ]
     },
     "execution_count": 11,
     "metadata": {},
     "output_type": "execute_result"
    }
   ],
   "source": [
    "celcius"
   ]
  },
  {
   "cell_type": "code",
   "execution_count": 12,
   "id": "f7c09bfb",
   "metadata": {},
   "outputs": [
    {
     "data": {
      "text/plain": [
       "array([ True, False, False, False])"
      ]
     },
     "execution_count": 12,
     "metadata": {},
     "output_type": "execute_result"
    }
   ],
   "source": [
    "celcius > -20"
   ]
  },
  {
   "cell_type": "code",
   "execution_count": 13,
   "id": "3ad413c0",
   "metadata": {},
   "outputs": [
    {
     "data": {
      "text/plain": [
       "array([False, False, False, False])"
      ]
     },
     "execution_count": 13,
     "metadata": {},
     "output_type": "execute_result"
    }
   ],
   "source": [
    "celcius %2 ==0"
   ]
  },
  {
   "cell_type": "code",
   "execution_count": 14,
   "id": "339ccb4d",
   "metadata": {},
   "outputs": [
    {
     "data": {
      "text/plain": [
       "array([[2, 0],\n",
       "       [0, 4]])"
      ]
     },
     "execution_count": 14,
     "metadata": {},
     "output_type": "execute_result"
    }
   ],
   "source": [
    "a = np.array([[1,1],[0,1]])\n",
    "b = np.array([[2,0],[3,4]])\n",
    "a*b"
   ]
  },
  {
   "cell_type": "code",
   "execution_count": 15,
   "id": "f3d1477c",
   "metadata": {},
   "outputs": [
    {
     "data": {
      "text/plain": [
       "array([[5, 4],\n",
       "       [3, 4]])"
      ]
     },
     "execution_count": 15,
     "metadata": {},
     "output_type": "execute_result"
    }
   ],
   "source": [
    "a@b # birebir degil matrixel carpimi verir"
   ]
  },
  {
   "cell_type": "code",
   "execution_count": 16,
   "id": "bcd99f19",
   "metadata": {},
   "outputs": [
    {
     "data": {
      "text/plain": [
       "array([[5, 4],\n",
       "       [3, 4]])"
      ]
     },
     "execution_count": 16,
     "metadata": {},
     "output_type": "execute_result"
    }
   ],
   "source": [
    "np.dot(a,b)  # birebir degil matrixel carpimi verir"
   ]
  },
  {
   "cell_type": "code",
   "execution_count": 17,
   "id": "a900a6d0",
   "metadata": {},
   "outputs": [
    {
     "data": {
      "text/plain": [
       "(2, 2)"
      ]
     },
     "execution_count": 17,
     "metadata": {},
     "output_type": "execute_result"
    }
   ],
   "source": [
    "a.shape"
   ]
  },
  {
   "cell_type": "code",
   "execution_count": 18,
   "id": "ff53f14b",
   "metadata": {},
   "outputs": [
    {
     "name": "stdout",
     "output_type": "stream",
     "text": [
      "int64\n"
     ]
    }
   ],
   "source": [
    "array1 = np.array([[1,2,3],[4,5,6]])\n",
    "print(array1.dtype)"
   ]
  },
  {
   "cell_type": "code",
   "execution_count": 19,
   "id": "9cd651e0",
   "metadata": {},
   "outputs": [
    {
     "name": "stdout",
     "output_type": "stream",
     "text": [
      "float64\n"
     ]
    }
   ],
   "source": [
    "array2 = np.array([[1.0,2.5,3.6],[4.2,5.1,6.0]])\n",
    "print(array2.dtype.name)"
   ]
  },
  {
   "cell_type": "code",
   "execution_count": 20,
   "id": "31a01545",
   "metadata": {},
   "outputs": [
    {
     "data": {
      "text/plain": [
       "array([[ 2. ,  4.5,  6.6],\n",
       "       [ 8.2, 10.1, 12. ]])"
      ]
     },
     "execution_count": 20,
     "metadata": {},
     "output_type": "execute_result"
    }
   ],
   "source": [
    "arr3 = array1+array2\n",
    "arr3"
   ]
  },
  {
   "cell_type": "code",
   "execution_count": 21,
   "id": "52b68b0c",
   "metadata": {},
   "outputs": [
    {
     "data": {
      "text/plain": [
       "dtype('float64')"
      ]
     },
     "execution_count": 21,
     "metadata": {},
     "output_type": "execute_result"
    }
   ],
   "source": [
    "arr3.dtype"
   ]
  },
  {
   "cell_type": "code",
   "execution_count": 22,
   "id": "d0a9c5e4",
   "metadata": {},
   "outputs": [
    {
     "name": "stdout",
     "output_type": "stream",
     "text": [
      "43.4\n",
      "7.233333333333333\n",
      "2.0\n",
      "12.0\n"
     ]
    }
   ],
   "source": [
    "print(arr3.sum())\n",
    "print(arr3.mean())\n",
    "print(arr3.min())\n",
    "print(arr3.max())"
   ]
  },
  {
   "cell_type": "code",
   "execution_count": 23,
   "id": "7f28b605",
   "metadata": {},
   "outputs": [],
   "source": [
    "b = np.arange(1,16,1).reshape(3,5)"
   ]
  },
  {
   "cell_type": "code",
   "execution_count": 24,
   "id": "dfa43b8f",
   "metadata": {},
   "outputs": [
    {
     "data": {
      "text/plain": [
       "array([[ 1,  2,  3,  4,  5],\n",
       "       [ 6,  7,  8,  9, 10],\n",
       "       [11, 12, 13, 14, 15]])"
      ]
     },
     "execution_count": 24,
     "metadata": {},
     "output_type": "execute_result"
    }
   ],
   "source": [
    "b"
   ]
  },
  {
   "cell_type": "code",
   "execution_count": 25,
   "id": "5ca2e82f",
   "metadata": {},
   "outputs": [
    {
     "data": {
      "image/png": "[encoded data removed]",
      "text/plain": [
       "<PIL.JpegImagePlugin.JpegImageFile image mode=RGB size=200x200 at 0x7F8A85A87F10>"
      ]
     },
     "metadata": {},
     "output_type": "display_data"
    }
   ],
   "source": [
    "from PIL import Image\n",
    "from IPython.display import display\n",
    "im = Image.open('download.jpeg')\n",
    "display(im)"
   ]
  },
  {
   "cell_type": "code",
   "execution_count": 26,
   "id": "cf423bbd",
   "metadata": {},
   "outputs": [
    {
     "name": "stdout",
     "output_type": "stream",
     "text": [
      "(200, 200, 3)\n"
     ]
    },
    {
     "data": {
      "text/plain": [
       "array([[[232, 226, 210],\n",
       "        [223, 217, 201],\n",
       "        [218, 212, 196],\n",
       "        ...,\n",
       "        [245, 240, 234],\n",
       "        [245, 240, 234],\n",
       "        [245, 240, 234]],\n",
       "\n",
       "       [[232, 226, 210],\n",
       "        [223, 217, 201],\n",
       "        [218, 212, 196],\n",
       "        ...,\n",
       "        [240, 235, 229],\n",
       "        [240, 235, 229],\n",
       "        [240, 235, 229]],\n",
       "\n",
       "       [[232, 226, 210],\n",
       "        [223, 217, 201],\n",
       "        [218, 212, 196],\n",
       "        ...,\n",
       "        [235, 230, 224],\n",
       "        [235, 230, 224],\n",
       "        [235, 230, 224]],\n",
       "\n",
       "       ...,\n",
       "\n",
       "       [[191, 178, 159],\n",
       "        [191, 178, 159],\n",
       "        [191, 178, 159],\n",
       "        ...,\n",
       "        [220, 216, 207],\n",
       "        [221, 217, 208],\n",
       "        [236, 232, 223]],\n",
       "\n",
       "       [[198, 185, 166],\n",
       "        [198, 185, 166],\n",
       "        [198, 185, 166],\n",
       "        ...,\n",
       "        [220, 216, 207],\n",
       "        [221, 217, 208],\n",
       "        [236, 232, 223]],\n",
       "\n",
       "       [[218, 205, 188],\n",
       "        [218, 205, 188],\n",
       "        [218, 205, 188],\n",
       "        ...,\n",
       "        [220, 216, 207],\n",
       "        [221, 217, 208],\n",
       "        [236, 232, 223]]], dtype=uint8)"
      ]
     },
     "execution_count": 26,
     "metadata": {},
     "output_type": "execute_result"
    }
   ],
   "source": [
    "array = np.array(im)\n",
    "print(array.shape)\n",
    "array # 200*200 array ve uint8 formatinda, uint8, imzasiz, unsigned integersi gosterir, negatif sayi yoktuir demektir;\n",
    "# 8 bit per byte anlaminda ve 2*2*2*2*2*2*2*2 = 256 sizeinda olabilir, aslinda 255"
   ]
  },
  {
   "cell_type": "code",
   "execution_count": 27,
   "id": "6b99e5aa",
   "metadata": {},
   "outputs": [
    {
     "data": {
      "text/plain": [
       "array([[[130, 130, 130],\n",
       "        [130, 130, 130],\n",
       "        [130, 130, 130],\n",
       "        ...,\n",
       "        [130, 130, 130],\n",
       "        [130, 130, 130],\n",
       "        [130, 130, 130]],\n",
       "\n",
       "       [[130, 130, 130],\n",
       "        [130, 130, 130],\n",
       "        [130, 130, 130],\n",
       "        ...,\n",
       "        [130, 130, 130],\n",
       "        [130, 130, 130],\n",
       "        [130, 130, 130]],\n",
       "\n",
       "       [[130, 130, 130],\n",
       "        [130, 130, 130],\n",
       "        [130, 130, 130],\n",
       "        ...,\n",
       "        [130, 130, 130],\n",
       "        [130, 130, 130],\n",
       "        [130, 130, 130]],\n",
       "\n",
       "       ...,\n",
       "\n",
       "       [[130, 130, 130],\n",
       "        [130, 130, 130],\n",
       "        [130, 130, 130],\n",
       "        ...,\n",
       "        [130, 130, 130],\n",
       "        [130, 130, 130],\n",
       "        [130, 130, 130]],\n",
       "\n",
       "       [[130, 130, 130],\n",
       "        [130, 130, 130],\n",
       "        [130, 130, 130],\n",
       "        ...,\n",
       "        [130, 130, 130],\n",
       "        [130, 130, 130],\n",
       "        [130, 130, 130]],\n",
       "\n",
       "       [[130, 130, 130],\n",
       "        [130, 130, 130],\n",
       "        [130, 130, 130],\n",
       "        ...,\n",
       "        [130, 130, 130],\n",
       "        [130, 130, 130],\n",
       "        [130, 130, 130]]])"
      ]
     },
     "execution_count": 27,
     "metadata": {},
     "output_type": "execute_result"
    }
   ],
   "source": [
    "mask = np.full(array.shape,130) # 255 de olur negatifi icin\n",
    "mask"
   ]
  },
  {
   "cell_type": "code",
   "execution_count": 28,
   "id": "0622dce7",
   "metadata": {},
   "outputs": [],
   "source": [
    "modified_array = array - mask"
   ]
  },
  {
   "cell_type": "code",
   "execution_count": 29,
   "id": "08a36749",
   "metadata": {},
   "outputs": [],
   "source": [
    "modified_array = modified_array*-1"
   ]
  },
  {
   "cell_type": "code",
   "execution_count": 30,
   "id": "b7b703f4",
   "metadata": {},
   "outputs": [
    {
     "data": {
      "text/plain": [
       "array([[[-102,  -96,  -80],\n",
       "        [ -93,  -87,  -71],\n",
       "        [ -88,  -82,  -66],\n",
       "        ...,\n",
       "        [-115, -110, -104],\n",
       "        [-115, -110, -104],\n",
       "        [-115, -110, -104]],\n",
       "\n",
       "       [[-102,  -96,  -80],\n",
       "        [ -93,  -87,  -71],\n",
       "        [ -88,  -82,  -66],\n",
       "        ...,\n",
       "        [-110, -105,  -99],\n",
       "        [-110, -105,  -99],\n",
       "        [-110, -105,  -99]],\n",
       "\n",
       "       [[-102,  -96,  -80],\n",
       "        [ -93,  -87,  -71],\n",
       "        [ -88,  -82,  -66],\n",
       "        ...,\n",
       "        [-105, -100,  -94],\n",
       "        [-105, -100,  -94],\n",
       "        [-105, -100,  -94]],\n",
       "\n",
       "       ...,\n",
       "\n",
       "       [[ -61,  -48,  -29],\n",
       "        [ -61,  -48,  -29],\n",
       "        [ -61,  -48,  -29],\n",
       "        ...,\n",
       "        [ -90,  -86,  -77],\n",
       "        [ -91,  -87,  -78],\n",
       "        [-106, -102,  -93]],\n",
       "\n",
       "       [[ -68,  -55,  -36],\n",
       "        [ -68,  -55,  -36],\n",
       "        [ -68,  -55,  -36],\n",
       "        ...,\n",
       "        [ -90,  -86,  -77],\n",
       "        [ -91,  -87,  -78],\n",
       "        [-106, -102,  -93]],\n",
       "\n",
       "       [[ -88,  -75,  -58],\n",
       "        [ -88,  -75,  -58],\n",
       "        [ -88,  -75,  -58],\n",
       "        ...,\n",
       "        [ -90,  -86,  -77],\n",
       "        [ -91,  -87,  -78],\n",
       "        [-106, -102,  -93]]])"
      ]
     },
     "execution_count": 30,
     "metadata": {},
     "output_type": "execute_result"
    }
   ],
   "source": [
    "modified_array"
   ]
  },
  {
   "cell_type": "code",
   "execution_count": 31,
   "id": "e7dc5d0c",
   "metadata": {},
   "outputs": [],
   "source": [
    "modified_array = modified_array.astype(np.uint8)"
   ]
  },
  {
   "cell_type": "code",
   "execution_count": 32,
   "id": "e6a541eb",
   "metadata": {},
   "outputs": [
    {
     "data": {
      "text/plain": [
       "array([[[154, 160, 176],\n",
       "        [163, 169, 185],\n",
       "        [168, 174, 190],\n",
       "        ...,\n",
       "        [141, 146, 152],\n",
       "        [141, 146, 152],\n",
       "        [141, 146, 152]],\n",
       "\n",
       "       [[154, 160, 176],\n",
       "        [163, 169, 185],\n",
       "        [168, 174, 190],\n",
       "        ...,\n",
       "        [146, 151, 157],\n",
       "        [146, 151, 157],\n",
       "        [146, 151, 157]],\n",
       "\n",
       "       [[154, 160, 176],\n",
       "        [163, 169, 185],\n",
       "        [168, 174, 190],\n",
       "        ...,\n",
       "        [151, 156, 162],\n",
       "        [151, 156, 162],\n",
       "        [151, 156, 162]],\n",
       "\n",
       "       ...,\n",
       "\n",
       "       [[195, 208, 227],\n",
       "        [195, 208, 227],\n",
       "        [195, 208, 227],\n",
       "        ...,\n",
       "        [166, 170, 179],\n",
       "        [165, 169, 178],\n",
       "        [150, 154, 163]],\n",
       "\n",
       "       [[188, 201, 220],\n",
       "        [188, 201, 220],\n",
       "        [188, 201, 220],\n",
       "        ...,\n",
       "        [166, 170, 179],\n",
       "        [165, 169, 178],\n",
       "        [150, 154, 163]],\n",
       "\n",
       "       [[168, 181, 198],\n",
       "        [168, 181, 198],\n",
       "        [168, 181, 198],\n",
       "        ...,\n",
       "        [166, 170, 179],\n",
       "        [165, 169, 178],\n",
       "        [150, 154, 163]]], dtype=uint8)"
      ]
     },
     "execution_count": 32,
     "metadata": {},
     "output_type": "execute_result"
    }
   ],
   "source": [
    "modified_array"
   ]
  },
  {
   "cell_type": "code",
   "execution_count": 33,
   "id": "69033e2a",
   "metadata": {},
   "outputs": [
    {
     "data": {
      "image/png": "[encoded data removed]",
      "text/plain": [
       "<PIL.Image.Image image mode=RGB size=200x200 at 0x7F8A85F3E220>"
      ]
     },
     "metadata": {},
     "output_type": "display_data"
    }
   ],
   "source": [
    "display(Image.fromarray(modified_array))"
   ]
  },
  {
   "cell_type": "code",
   "execution_count": 34,
   "id": "ede7841f",
   "metadata": {},
   "outputs": [
    {
     "data": {
      "image/png": "[encoded data removed]",
      "text/plain": [
       "<PIL.Image.Image image mode=RGB size=400x100 at 0x7F8A85F3E8E0>"
      ]
     },
     "metadata": {},
     "output_type": "display_data"
    }
   ],
   "source": [
    "reshaped = np.reshape(modified_array,(100,400,3))\n",
    "display(Image.fromarray(reshaped))"
   ]
  },
  {
   "cell_type": "markdown",
   "id": "a43d58ae",
   "metadata": {},
   "source": [
    "# INDEXING, SLICING, ITERATING"
   ]
  },
  {
   "cell_type": "code",
   "execution_count": 35,
   "id": "2864574c",
   "metadata": {},
   "outputs": [
    {
     "data": {
      "text/plain": [
       "3"
      ]
     },
     "execution_count": 35,
     "metadata": {},
     "output_type": "execute_result"
    }
   ],
   "source": [
    "a = np.array([1,2,3,5,7])\n",
    "a[2]\n",
    "                "
   ]
  },
  {
   "cell_type": "code",
   "execution_count": 36,
   "id": "184b6f26",
   "metadata": {},
   "outputs": [
    {
     "data": {
      "text/plain": [
       "5"
      ]
     },
     "execution_count": 36,
     "metadata": {},
     "output_type": "execute_result"
    }
   ],
   "source": [
    "a = np.array([[1,2,3],[4,5,6],[7,8,9]])\n",
    "a[1,1]"
   ]
  },
  {
   "cell_type": "code",
   "execution_count": 41,
   "id": "9c385d37",
   "metadata": {},
   "outputs": [
    {
     "data": {
      "text/plain": [
       "array([2, 6, 9])"
      ]
     },
     "execution_count": 41,
     "metadata": {},
     "output_type": "execute_result"
    }
   ],
   "source": [
    "np.array([a[0,1], a[1,2], a[2,2]])"
   ]
  },
  {
   "cell_type": "code",
   "execution_count": 43,
   "id": "118c8fc5",
   "metadata": {},
   "outputs": [
    {
     "name": "stdout",
     "output_type": "stream",
     "text": [
      "[1 5 9]\n"
     ]
    }
   ],
   "source": [
    "# ZIPS\n",
    "print(a[[0,1,2],[0,1,2]]) # 0 1 ve 2. arraylardan 0,1 ve2. degerleri getir"
   ]
  },
  {
   "cell_type": "code",
   "execution_count": 44,
   "id": "e862d3f4",
   "metadata": {},
   "outputs": [],
   "source": [
    "# Boolean Indexing"
   ]
  },
  {
   "cell_type": "code",
   "execution_count": 45,
   "id": "e0502f7d",
   "metadata": {},
   "outputs": [
    {
     "name": "stdout",
     "output_type": "stream",
     "text": [
      "[[False False False]\n",
      " [False False  True]\n",
      " [ True  True  True]]\n"
     ]
    }
   ],
   "source": [
    "print(a > 5)"
   ]
  },
  {
   "cell_type": "code",
   "execution_count": 46,
   "id": "9c7344da",
   "metadata": {},
   "outputs": [
    {
     "name": "stdout",
     "output_type": "stream",
     "text": [
      "[6 7 8 9]\n"
     ]
    }
   ],
   "source": [
    "print(a[a>5])"
   ]
  },
  {
   "cell_type": "code",
   "execution_count": 54,
   "id": "e32e6291",
   "metadata": {},
   "outputs": [],
   "source": [
    "# SLICING, sub arraylara bolme olayi"
   ]
  },
  {
   "cell_type": "code",
   "execution_count": 64,
   "id": "f2e8cd74",
   "metadata": {},
   "outputs": [
    {
     "name": "stdout",
     "output_type": "stream",
     "text": [
      "[3 4 5]\n"
     ]
    }
   ],
   "source": [
    "a = np.array([0,1,2,3,4,5])\n",
    "print(a[3:])"
   ]
  },
  {
   "cell_type": "code",
   "execution_count": 65,
   "id": "49716dd2",
   "metadata": {},
   "outputs": [
    {
     "data": {
      "text/plain": [
       "array([2, 3])"
      ]
     },
     "execution_count": 65,
     "metadata": {},
     "output_type": "execute_result"
    }
   ],
   "source": [
    "a[2:4]"
   ]
  },
  {
   "cell_type": "code",
   "execution_count": 66,
   "id": "3b28ba24",
   "metadata": {},
   "outputs": [
    {
     "data": {
      "text/plain": [
       "6"
      ]
     },
     "execution_count": 66,
     "metadata": {},
     "output_type": "execute_result"
    }
   ],
   "source": [
    "a = np.array([[1,2,3], [4,5,6],[7,8,9]])\n",
    "a[1, 2]"
   ]
  },
  {
   "cell_type": "code",
   "execution_count": 70,
   "id": "bfde3963",
   "metadata": {},
   "outputs": [
    {
     "name": "stdout",
     "output_type": "stream",
     "text": [
      "[2 5 8]\n"
     ]
    }
   ],
   "source": [
    "print(a [:,1])"
   ]
  },
  {
   "cell_type": "code",
   "execution_count": 71,
   "id": "4f0d43aa",
   "metadata": {},
   "outputs": [
    {
     "name": "stdout",
     "output_type": "stream",
     "text": [
      "[6 9]\n"
     ]
    }
   ],
   "source": [
    "print(a[1:,2])"
   ]
  },
  {
   "cell_type": "code",
   "execution_count": 73,
   "id": "d2773b38",
   "metadata": {},
   "outputs": [
    {
     "data": {
      "text/plain": [
       "array([[2, 3],\n",
       "       [5, 6]])"
      ]
     },
     "execution_count": 73,
     "metadata": {},
     "output_type": "execute_result"
    }
   ],
   "source": [
    "a[:2, 1:3] # ilk tarafta dahil ancak 2. tarafta dahil degil"
   ]
  },
  {
   "cell_type": "code",
   "execution_count": 76,
   "id": "6eeb2206",
   "metadata": {},
   "outputs": [
    {
     "name": "stdout",
     "output_type": "stream",
     "text": [
      "50\n",
      "50\n",
      "3\n",
      "[[50  3]\n",
      " [ 5  6]]\n",
      "[[ 1 50  3]\n",
      " [ 4  5  6]\n",
      " [ 7  8  9]]\n"
     ]
    }
   ],
   "source": [
    "sub_array = a[:2, 1:3]\n",
    "print(sub_array[0,0])\n",
    "sub_array[0,0] = 50\n",
    "print(sub_array[0,0])\n",
    "print(sub_array[0,1])\n",
    "print(sub_array)\n",
    "print(a)"
   ]
  },
  {
   "cell_type": "code",
   "execution_count": null,
   "id": "d4c43935",
   "metadata": {},
   "outputs": [],
   "source": []
  },
  {
   "cell_type": "code",
   "execution_count": null,
   "id": "fd4ffd8c",
   "metadata": {},
   "outputs": [],
   "source": []
  },
  {
   "cell_type": "code",
   "execution_count": 55,
   "id": "6fa52130",
   "metadata": {},
   "outputs": [
    {
     "name": "stdout",
     "output_type": "stream",
     "text": [
      "[1 2 3 4 5 6]\n"
     ]
    }
   ],
   "source": [
    "import numpy as np\n",
    "\n",
    "arr1 = np.array([1, 2, 3])\n",
    "\n",
    "arr2 = np.array([4, 5, 6])\n",
    "\n",
    "arr = np.concatenate((arr1, arr2))\n",
    "\n",
    "print(arr)"
   ]
  },
  {
   "cell_type": "code",
   "execution_count": 56,
   "id": "653a8cce",
   "metadata": {},
   "outputs": [
    {
     "name": "stdout",
     "output_type": "stream",
     "text": [
      "[[1 2 5 6]\n",
      " [3 4 7 8]]\n"
     ]
    }
   ],
   "source": [
    "import numpy as np\n",
    "\n",
    "arr1 = np.array([[1, 2], [3, 4]])\n",
    "\n",
    "arr2 = np.array([[5, 6], [7, 8]])\n",
    "\n",
    "arr = np.concatenate((arr1, arr2), axis = 1)\n",
    "\n",
    "print(arr)"
   ]
  },
  {
   "cell_type": "code",
   "execution_count": 57,
   "id": "fa8e862e",
   "metadata": {},
   "outputs": [
    {
     "name": "stdout",
     "output_type": "stream",
     "text": [
      "[[1 4]\n",
      " [2 5]\n",
      " [3 6]]\n"
     ]
    }
   ],
   "source": [
    "import numpy as np\n",
    "\n",
    "arr1 = np.array([1, 2, 3])\n",
    "\n",
    "arr2 = np.array([4, 5, 6])\n",
    "\n",
    "arr = np.stack((arr1, arr2), axis=1)\n",
    "\n",
    "print(arr)"
   ]
  },
  {
   "cell_type": "code",
   "execution_count": 58,
   "id": "953927b2",
   "metadata": {},
   "outputs": [
    {
     "name": "stdout",
     "output_type": "stream",
     "text": [
      "[1 2 3 4 5 6]\n"
     ]
    }
   ],
   "source": [
    "import numpy as np\n",
    "\n",
    "arr1 = np.array([1, 2, 3])\n",
    "\n",
    "arr2 = np.array([4, 5, 6])\n",
    "\n",
    "arr = np.hstack((arr1, arr2))\n",
    "\n",
    "print(arr)"
   ]
  },
  {
   "cell_type": "code",
   "execution_count": 59,
   "id": "ea42110b",
   "metadata": {},
   "outputs": [
    {
     "name": "stdout",
     "output_type": "stream",
     "text": [
      "[[1 2 3]\n",
      " [4 5 6]]\n"
     ]
    }
   ],
   "source": [
    "import numpy as np\n",
    "\n",
    "arr1 = np.array([1, 2, 3])\n",
    "\n",
    "arr2 = np.array([4, 5, 6])\n",
    "\n",
    "arr = np.vstack((arr1, arr2))\n",
    "\n",
    "print(arr)"
   ]
  },
  {
   "cell_type": "markdown",
   "id": "7ddeae6b",
   "metadata": {},
   "source": [
    "# NUMPY TRYING DATASETS"
   ]
  },
  {
   "cell_type": "code",
   "execution_count": null,
   "id": "98df83c1",
   "metadata": {},
   "outputs": [],
   "source": [
    "#  numpy da dataset yuklemek icin getfromtxt() kullanilir, "
   ]
  },
  {
   "cell_type": "code",
   "execution_count": 78,
   "id": "2c1cbc2b",
   "metadata": {},
   "outputs": [
    {
     "ename": "AttributeError",
     "evalue": "module 'numpy' has no attribute 'getdatafromtxt'",
     "output_type": "error",
     "traceback": [
      "\u001b[0;31m---------------------------------------------------------------------------\u001b[0m",
      "\u001b[0;31mAttributeError\u001b[0m                            Traceback (most recent call last)",
      "\u001b[0;32m<ipython-input-78-7b7d037854cf>\u001b[0m in \u001b[0;36m<module>\u001b[0;34m\u001b[0m\n\u001b[0;32m----> 1\u001b[0;31m \u001b[0mwines\u001b[0m \u001b[0;34m=\u001b[0m \u001b[0mnp\u001b[0m\u001b[0;34m.\u001b[0m\u001b[0mgetdatafromtxt\u001b[0m\u001b[0;34m(\u001b[0m\u001b[0;34m\"datasets/winequality-red.csv\"\u001b[0m\u001b[0;34m,\u001b[0m \u001b[0mdelimiter\u001b[0m \u001b[0;34m=\u001b[0m \u001b[0;34m\";\"\u001b[0m \u001b[0;34m,\u001b[0m \u001b[0mskip_header\u001b[0m \u001b[0;34m=\u001b[0m \u001b[0;36m1\u001b[0m\u001b[0;34m)\u001b[0m\u001b[0;34m\u001b[0m\u001b[0;34m\u001b[0m\u001b[0m\n\u001b[0m",
      "\u001b[0;32m~/opt/anaconda3/lib/python3.8/site-packages/numpy/__init__.py\u001b[0m in \u001b[0;36m__getattr__\u001b[0;34m(attr)\u001b[0m\n\u001b[1;32m    311\u001b[0m                 \u001b[0;32mreturn\u001b[0m \u001b[0mTester\u001b[0m\u001b[0;34m\u001b[0m\u001b[0;34m\u001b[0m\u001b[0m\n\u001b[1;32m    312\u001b[0m \u001b[0;34m\u001b[0m\u001b[0m\n\u001b[0;32m--> 313\u001b[0;31m             raise AttributeError(\"module {!r} has no attribute \"\n\u001b[0m\u001b[1;32m    314\u001b[0m                                  \"{!r}\".format(__name__, attr))\n\u001b[1;32m    315\u001b[0m \u001b[0;34m\u001b[0m\u001b[0m\n",
      "\u001b[0;31mAttributeError\u001b[0m: module 'numpy' has no attribute 'getdatafromtxt'"
     ]
    }
   ],
   "source": [
    "# wines = np.getdatafromtxt(\"datasets/winequality-red.csv\", delimiter = \";\" , skip_header = 1)\n",
    "# wines[:,0]  datasetteki tum 0. sutunu verir pandas gibi\n",
    "# wines[:,[2,4,6]] da satir ve sutun olarak verilebilir"
   ]
  },
  {
   "cell_type": "code",
   "execution_count": 79,
   "id": "a71127ef",
   "metadata": {},
   "outputs": [
    {
     "name": "stdout",
     "output_type": "stream",
     "text": [
      "(array([3, 5, 6]),)\n"
     ]
    }
   ],
   "source": [
    "import numpy as np\n",
    "\n",
    "arr = np.array([1, 2, 3, 4, 5, 4, 4])\n",
    "\n",
    "x = np.where(arr == 4) #4'un bulundugu indexleri verir\n",
    "\n",
    "print(x)"
   ]
  },
  {
   "cell_type": "code",
   "execution_count": 80,
   "id": "d0295781",
   "metadata": {},
   "outputs": [
    {
     "name": "stdout",
     "output_type": "stream",
     "text": [
      "(array([1, 3, 5, 7]),)\n"
     ]
    }
   ],
   "source": [
    "import numpy as np\n",
    "\n",
    "arr = np.array([1, 2, 3, 4, 5, 6, 7, 8])\n",
    "\n",
    "x = np.where(arr%2 == 0)\n",
    "\n",
    "print(x)"
   ]
  },
  {
   "cell_type": "code",
   "execution_count": 81,
   "id": "15591f3c",
   "metadata": {},
   "outputs": [
    {
     "name": "stdout",
     "output_type": "stream",
     "text": [
      "1\n",
      "2\n",
      "3\n",
      "4\n",
      "5\n",
      "6\n",
      "7\n",
      "8\n"
     ]
    }
   ],
   "source": [
    "import numpy as np\n",
    "\n",
    "arr = np.array([[[1, 2], [3, 4]], [[5, 6], [7, 8]]])\n",
    "\n",
    "for x in np.nditer(arr):\n",
    "   print(x)"
   ]
  },
  {
   "cell_type": "code",
   "execution_count": 82,
   "id": "bd68cb3b",
   "metadata": {},
   "outputs": [
    {
     "name": "stdout",
     "output_type": "stream",
     "text": [
      "(0,) 1\n",
      "(1,) 2\n",
      "(2,) 3\n"
     ]
    }
   ],
   "source": [
    "import numpy as np\n",
    "\n",
    "arr = np.array([1, 2, 3])\n",
    "\n",
    "for idx, x in np.ndenumerate(arr):\n",
    "   print(idx, x)"
   ]
  },
  {
   "cell_type": "markdown",
   "id": "3efbc9ae",
   "metadata": {},
   "source": [
    "# RANDOM"
   ]
  },
  {
   "cell_type": "code",
   "execution_count": 84,
   "id": "a10b5bbc",
   "metadata": {},
   "outputs": [
    {
     "data": {
      "text/plain": [
       "78"
      ]
     },
     "execution_count": 84,
     "metadata": {},
     "output_type": "execute_result"
    }
   ],
   "source": [
    "# Generate a random integer from 0 to 100\n",
    "from numpy import random\n",
    "x = random.randint(100)\n",
    "x"
   ]
  },
  {
   "cell_type": "code",
   "execution_count": 99,
   "id": "e77b0d78",
   "metadata": {},
   "outputs": [
    {
     "ename": "ValueError",
     "evalue": "low >= high",
     "output_type": "error",
     "traceback": [
      "\u001b[0;31m---------------------------------------------------------------------------\u001b[0m",
      "\u001b[0;31mValueError\u001b[0m                                Traceback (most recent call last)",
      "\u001b[0;32m<ipython-input-99-5bb9a5d38929>\u001b[0m in \u001b[0;36m<module>\u001b[0;34m\u001b[0m\n\u001b[1;32m      1\u001b[0m \u001b[0;32mfrom\u001b[0m \u001b[0mnumpy\u001b[0m \u001b[0;32mimport\u001b[0m \u001b[0mrandom\u001b[0m\u001b[0;34m\u001b[0m\u001b[0;34m\u001b[0m\u001b[0m\n\u001b[0;32m----> 2\u001b[0;31m \u001b[0mx\u001b[0m \u001b[0;34m=\u001b[0m \u001b[0mrandom\u001b[0m\u001b[0;34m.\u001b[0m\u001b[0mrandint\u001b[0m\u001b[0;34m(\u001b[0m\u001b[0;36m100\u001b[0m\u001b[0;34m,\u001b[0m\u001b[0;36m1\u001b[0m\u001b[0;34m)\u001b[0m\u001b[0;34m\u001b[0m\u001b[0;34m\u001b[0m\u001b[0m\n\u001b[0m\u001b[1;32m      3\u001b[0m \u001b[0mx\u001b[0m\u001b[0;34m\u001b[0m\u001b[0;34m\u001b[0m\u001b[0m\n",
      "\u001b[0;32mmtrand.pyx\u001b[0m in \u001b[0;36mnumpy.random.mtrand.RandomState.randint\u001b[0;34m()\u001b[0m\n",
      "\u001b[0;32m_bounded_integers.pyx\u001b[0m in \u001b[0;36mnumpy.random._bounded_integers._rand_int64\u001b[0;34m()\u001b[0m\n",
      "\u001b[0;31mValueError\u001b[0m: low >= high"
     ]
    }
   ],
   "source": [
    "from numpy import random\n",
    "x = random.rand(100,1)\n",
    "x"
   ]
  },
  {
   "cell_type": "code",
   "execution_count": 85,
   "id": "3cf147cd",
   "metadata": {},
   "outputs": [
    {
     "data": {
      "text/plain": [
       "0.10284878982568035"
      ]
     },
     "execution_count": 85,
     "metadata": {},
     "output_type": "execute_result"
    }
   ],
   "source": [
    "# Generate a random float from 0 to 1:\n",
    "x = random.rand()\n",
    "x"
   ]
  },
  {
   "cell_type": "code",
   "execution_count": null,
   "id": "8f6d0793",
   "metadata": {},
   "outputs": [],
   "source": [
    "# Generate a 1-D array containing 5 random integers from 0 to 100"
   ]
  },
  {
   "cell_type": "code",
   "execution_count": 87,
   "id": "5cb5f271",
   "metadata": {},
   "outputs": [
    {
     "data": {
      "text/plain": [
       "array([43, 56, 80, 51, 99])"
      ]
     },
     "execution_count": 87,
     "metadata": {},
     "output_type": "execute_result"
    }
   ],
   "source": [
    "x = random.randint(100,size = 5)\n",
    "x"
   ]
  },
  {
   "cell_type": "code",
   "execution_count": 89,
   "id": "46697517",
   "metadata": {},
   "outputs": [
    {
     "name": "stdout",
     "output_type": "stream",
     "text": [
      "[[86 45 37 36 70]\n",
      " [29 76 44  2 68]\n",
      " [97 92 44 15 71]]\n"
     ]
    }
   ],
   "source": [
    "x = random.randint(100, size=(3, 5))\n",
    "\n",
    "print(x)"
   ]
  },
  {
   "cell_type": "code",
   "execution_count": 91,
   "id": "c2bd38f5",
   "metadata": {},
   "outputs": [
    {
     "name": "stdout",
     "output_type": "stream",
     "text": [
      "[0.47720376 0.56293309 0.51340917 0.99694398 0.13547236]\n"
     ]
    }
   ],
   "source": [
    "x = random.rand(5)\n",
    "\n",
    "print(x)"
   ]
  },
  {
   "cell_type": "code",
   "execution_count": 90,
   "id": "dd561db9",
   "metadata": {},
   "outputs": [
    {
     "name": "stdout",
     "output_type": "stream",
     "text": [
      "[[0.25478388 0.07034196 0.26352103 0.68837048 0.26390984]\n",
      " [0.43413873 0.98744859 0.41281126 0.16763718 0.08286508]\n",
      " [0.25632188 0.29663586 0.86477253 0.94145498 0.11072735]]\n"
     ]
    }
   ],
   "source": [
    "x = random.rand(3, 5)\n",
    "\n",
    "print(x)"
   ]
  },
  {
   "cell_type": "code",
   "execution_count": 92,
   "id": "c07d1ee4",
   "metadata": {},
   "outputs": [
    {
     "name": "stdout",
     "output_type": "stream",
     "text": [
      "7\n"
     ]
    }
   ],
   "source": [
    "# return one of the number in the array\n",
    "\n",
    "x = random.choice([3, 5, 7, 9])\n",
    "\n",
    "print(x)"
   ]
  },
  {
   "cell_type": "code",
   "execution_count": 94,
   "id": "313b2832",
   "metadata": {},
   "outputs": [
    {
     "name": "stderr",
     "output_type": "stream",
     "text": [
      "/Users/ceyhun/opt/anaconda3/lib/python3.8/site-packages/seaborn/distributions.py:2557: FutureWarning: `distplot` is a deprecated function and will be removed in a future version. Please adapt your code to use either `displot` (a figure-level function with similar flexibility) or `histplot` (an axes-level function for histograms).\n",
      "  warnings.warn(msg, FutureWarning)\n"
     ]
    },
    {
     "data": {
      "image/png": "[encoded data removed]",
      "text/plain": [
       "<Figure size 432x288 with 1 Axes>"
      ]
     },
     "metadata": {
      "needs_background": "light"
     },
     "output_type": "display_data"
    }
   ],
   "source": [
    "import seaborn as sns\n",
    "import matplotlib.pyplot as plt\n",
    "sns.distplot([0, 1, 2, 3, 4, 5])\n",
    "\n",
    "plt.show()"
   ]
  },
  {
   "cell_type": "code",
   "execution_count": 95,
   "id": "db38c233",
   "metadata": {},
   "outputs": [
    {
     "name": "stderr",
     "output_type": "stream",
     "text": [
      "/Users/ceyhun/opt/anaconda3/lib/python3.8/site-packages/seaborn/distributions.py:2557: FutureWarning: `distplot` is a deprecated function and will be removed in a future version. Please adapt your code to use either `displot` (a figure-level function with similar flexibility) or `kdeplot` (an axes-level function for kernel density plots).\n",
      "  warnings.warn(msg, FutureWarning)\n"
     ]
    },
    {
     "data": {
      "image/png": "[encoded data removed]",
      "text/plain": [
       "<Figure size 432x288 with 1 Axes>"
      ]
     },
     "metadata": {
      "needs_background": "light"
     },
     "output_type": "display_data"
    }
   ],
   "source": [
    "sns.distplot([0, 1, 2, 3, 4, 5], hist=False)\n",
    "\n",
    "plt.show()"
   ]
  },
  {
   "cell_type": "code",
   "execution_count": null,
   "id": "59a81a3b",
   "metadata": {},
   "outputs": [],
   "source": [
    "# It has three parameters:\n",
    "\n",
    "# loc - (Mean) where the peak of the bell exists.\n",
    "\n",
    "# scale - (Standard Deviation) how flat the graph distribution should be.\n",
    "\n",
    "# size - The shape of the returned array."
   ]
  },
  {
   "cell_type": "code",
   "execution_count": 96,
   "id": "36daf5f8",
   "metadata": {},
   "outputs": [
    {
     "name": "stdout",
     "output_type": "stream",
     "text": [
      "[[ 0.87525092 -0.13481977 -0.29118644]\n",
      " [ 0.77696563  0.53103685 -1.35960623]]\n"
     ]
    }
   ],
   "source": [
    "x = random.normal(size=(2, 3))\n",
    "\n",
    "print(x)"
   ]
  },
  {
   "cell_type": "code",
   "execution_count": 97,
   "id": "352f5046",
   "metadata": {},
   "outputs": [
    {
     "name": "stderr",
     "output_type": "stream",
     "text": [
      "/Users/ceyhun/opt/anaconda3/lib/python3.8/site-packages/seaborn/distributions.py:2557: FutureWarning: `distplot` is a deprecated function and will be removed in a future version. Please adapt your code to use either `displot` (a figure-level function with similar flexibility) or `kdeplot` (an axes-level function for kernel density plots).\n",
      "  warnings.warn(msg, FutureWarning)\n"
     ]
    },
    {
     "data": {
      "image/png": "[encoded data removed]",
      "text/plain": [
       "<Figure size 432x288 with 1 Axes>"
      ]
     },
     "metadata": {
      "needs_background": "light"
     },
     "output_type": "display_data"
    }
   ],
   "source": [
    "sns.distplot(random.normal(size=1000), hist=False)\n",
    "\n",
    "plt.show()"
   ]
  },
  {
   "cell_type": "code",
   "execution_count": 98,
   "id": "9a4f3ecb",
   "metadata": {},
   "outputs": [
    {
     "name": "stdout",
     "output_type": "stream",
     "text": [
      "[1 3 6]\n"
     ]
    }
   ],
   "source": [
    "import numpy as np\n",
    "\n",
    "arr = np.array([1, 2, 3])\n",
    "\n",
    "newarr = np.cumsum(arr)\n",
    "\n",
    "print(newarr)\n",
    "# Cummulative sum means partially adding the elements in array.\n",
    "\n",
    "# E.g. The partial sum of [1, 2, 3, 4] would be [1, 1+2, 1+2+3, 1+2+3+4] = [1, 3, 6, 10]."
   ]
  },
  {
   "cell_type": "code",
   "execution_count": null,
   "id": "dbf3ad2f",
   "metadata": {},
   "outputs": [],
   "source": []
  }
 ],
 "metadata": {
  "kernelspec": {
   "display_name": "Python 3",
   "language": "python",
   "name": "python3"
  },
  "language_info": {
   "codemirror_mode": {
    "name": "ipython",
    "version": 3
   },
   "file_extension": ".py",
   "mimetype": "text/x-python",
   "name": "python",
   "nbconvert_exporter": "python",
   "pygments_lexer": "ipython3",
   "version": "3.8.8"
  }
 },
 "nbformat": 4,
 "nbformat_minor": 5
}
