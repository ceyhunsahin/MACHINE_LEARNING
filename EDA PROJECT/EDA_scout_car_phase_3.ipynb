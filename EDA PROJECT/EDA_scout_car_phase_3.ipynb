{
 "cells": [
  {
   "cell_type": "code",
   "execution_count": 1,
   "metadata": {},
   "outputs": [],
   "source": [
    "import numpy as np\n",
    "import pandas as pd\n",
    "import matplotlib.pyplot as plt\n",
    "import seaborn as sns \n",
    "from scipy import stats\n",
    "from scipy.stats.mstats import winsorize\n",
    "import warnings\n",
    "warnings.filterwarnings('ignore')\n",
    "warnings.warn(\"this will not show\")\n",
    "pd.set_option('display.max_columns', 500)\n",
    "pd.set_option('display.max_colwidth', 500)\n",
    "pd.set_option('display.max_info_columns', 500)\n",
    "pd.set_option('display.max_info_rows', 2000)\n",
    "pd.set_option('display.expand_frame_repr', True)\n",
    "pd.set_option('display.width', 2000)\n",
    "sns.set_style(\"whitegrid\")\n",
    "#baslik_font = {'family': 'arial', 'color': 'darkred','weight': 'bold','size': 13 }\n",
    "#eksen_font  = {'family': 'arial', 'color': 'darkblue','weight': 'bold','size': 11 }\n",
    "pd.options.display.float_format = '{:.2f}'.format"
   ]
  },
  {
   "cell_type": "code",
   "execution_count": 2,
   "metadata": {},
   "outputs": [],
   "source": [
    "df = pd.read_csv(\"filled_scout_20200923.csv\")"
   ]
  },
  {
   "cell_type": "code",
   "execution_count": 3,
   "metadata": {},
   "outputs": [],
   "source": [
    "pd.options.display.max_rows = 1000\n",
    "pd.options.display.max_columns = 100"
   ]
  },
  {
   "cell_type": "code",
   "execution_count": 4,
   "metadata": {},
   "outputs": [],
   "source": [
    "def fill_most(df, group_col, col_name):\n",
    "    for group in list(df[group_col].unique()):\n",
    "        cond = df[group_col]==group\n",
    "        grp_inx = list(df[cond][col_name].index)\n",
    "        mode = list(df[cond][col_name].mode())\n",
    "        if mode != []:\n",
    "            df[col_name].iloc[grp_inx] = df[col_name].iloc[grp_inx].fillna(df[cond][col_name].mode()[0])\n",
    "        else:\n",
    "            df[col_name].iloc[grp_inx] = df[col_name].iloc[grp_inx].fillna(df[col_name].mode()[0])\n",
    "    print(\"Number of NaN : \",df[col_name].isnull().sum())\n",
    "    print(\"------------------\")\n",
    "    print(df[col_name].value_counts(dropna=False))"
   ]
  },
  {
   "cell_type": "code",
   "execution_count": 5,
   "metadata": {},
   "outputs": [],
   "source": [
    "def fill_prop(df, group_col, col_name):\n",
    "    for group in list(df[group_col].unique()):\n",
    "        cond = df[group_col]==group\n",
    "        grp_inx = list(df[cond][col_name].index)\n",
    "        df.loc[cond, col_name] = df.loc[cond, col_name].fillna(method=\"ffill\").fillna(method=\"bfill\")\n",
    "    df[col_name] = df[col_name].fillna(method=\"ffill\").fillna(method=\"bfill\")\n",
    "    print(\"Number of NaN : \",df[col_name].isnull().sum())\n",
    "    print(\"------------------\")\n",
    "    print(df[col_name].value_counts(dropna=False))"
   ]
  },
  {
   "cell_type": "code",
   "execution_count": 6,
   "metadata": {},
   "outputs": [],
   "source": [
    "def fill(df, group_col1, group_col2, col_name, method): # method can be \"mode\" or \"median\" or \"ffill\"\n",
    "    if method == \"mode\":\n",
    "        for group1 in list(df[group_col1].unique()):\n",
    "            for group2 in list(df[group_col2].unique()):\n",
    "                cond1 = df[group_col1]==group1\n",
    "                cond2 = (df[group_col1]==group1) & (df[group_col2]==group2)\n",
    "                grp_inx = list(df[cond2][col_name].index)\n",
    "                mode1 = list(df[cond1][col_name].mode())\n",
    "                mode2 = list(df[cond2][col_name].mode())\n",
    "                if (mode1 != []) and (mode2 != []):\n",
    "                    df[col_name].iloc[grp_inx] = df[col_name].iloc[grp_inx].fillna(df[cond2][col_name].mode()[0]).fillna(df[cond1][col_name].mode()[0])\n",
    "                elif mode1 != []:\n",
    "                    df[col_name].iloc[grp_inx] = df[col_name].iloc[grp_inx].fillna(df[cond1][col_name].mode()[0])\n",
    "                else:\n",
    "                    df[col_name].iloc[grp_inx] = df[col_name].iloc[grp_inx].fillna(df[col_name].mode()[0])\n",
    "                \n",
    "    elif method == \"median\":\n",
    "        for group1 in list(df[group_col1].unique()):\n",
    "            for group2 in list(df[group_col2].unique()):\n",
    "                cond1 = df[group_col1]==group1\n",
    "                cond2 = (df[group_col1]==group1) & (df[group_col2]==group2)\n",
    "                grp_inx = list(df[cond2][col_name].index)\n",
    "                df[col_name].iloc[grp_inx] = df[col_name].iloc[grp_inx].fillna(df[cond2][col_name].median()).fillna(df[cond1][col_name].median()).fillna(df[col_name].median())\n",
    "                \n",
    "    elif method == \"ffill\":           \n",
    "        for group1 in list(df[group_col1].unique()):\n",
    "            for group2 in list(df[group_col2].unique()):\n",
    "                cond1 = df[group_col1]==group1\n",
    "                cond2 = (df[group_col1]==group1) & (df[group_col2]==group2)\n",
    "                grp_inx = list(df[cond2][col_name].index)\n",
    "                df.loc[cond2, col_name] = df.loc[cond2, col_name].fillna(method=\"ffill\").fillna(method=\"bfill\")\n",
    "                \n",
    "        for group1 in list(df[group_col1].unique()):\n",
    "            cond1 = df[group_col1]==group1\n",
    "            df.loc[cond1, col_name] = df.loc[cond1, col_name].fillna(method=\"ffill\").fillna(method=\"bfill\")            \n",
    "           \n",
    "        df[col_name] = df[col_name].fillna(method=\"ffill\").fillna(method=\"bfill\")\n",
    "    \n",
    "    print(\"Number of NaN : \",df[col_name].isnull().sum())\n",
    "    print(\"------------------\")\n",
    "    print(df[col_name].value_counts(dropna=False))"
   ]
  },
  {
   "cell_type": "code",
   "execution_count": 7,
   "metadata": {},
   "outputs": [
    {
     "data": {
      "text/plain": [
       "(15919, 127)"
      ]
     },
     "execution_count": 7,
     "metadata": {},
     "output_type": "execute_result"
    }
   ],
   "source": [
    "df.shape"
   ]
  },
  {
   "cell_type": "code",
   "execution_count": 8,
   "metadata": {},
   "outputs": [
    {
     "name": "stdout",
     "output_type": "stream",
     "text": [
      "<class 'pandas.core.frame.DataFrame'>\n",
      "RangeIndex: 15919 entries, 0 to 15918\n",
      "Data columns (total 127 columns):\n",
      " #   Column                                    Dtype  \n",
      "---  ------                                    -----  \n",
      " 0   Unnamed: 0                                int64  \n",
      " 1   Unnamed: 0.1                              int64  \n",
      " 2   make_model                                object \n",
      " 3   body_type                                 object \n",
      " 4   price                                     int64  \n",
      " 5   vat                                       object \n",
      " 6   km                                        float64\n",
      " 7   Type                                      object \n",
      " 8   Cylinders                                 float64\n",
      " 9   Fuel                                      object \n",
      " 10  Gears                                     float64\n",
      " 11  Comfort&Convenience                       object \n",
      " 12  Entertainment&Media                       object \n",
      " 13  Extras                                    object \n",
      " 14  Safety&Security                           object \n",
      " 15  Previous_Owners                           float64\n",
      " 16  hp_kW                                     float64\n",
      " 17  Inspection_new                            int64  \n",
      " 18  age                                       float64\n",
      " 19  Body_Color                                object \n",
      " 20  Paint_Type                                object \n",
      " 21  Upholstery_type                           object \n",
      " 22  Nr_of_Doors                               float64\n",
      " 23  Nr_of_Seats                               float64\n",
      " 24  Gearing_Type                              object \n",
      " 25  Displacement_cc                           float64\n",
      " 26  Weight_kg                                 float64\n",
      " 27  Drive_chain                               object \n",
      " 28  cons_comb                                 float64\n",
      " 29  cons_city                                 float64\n",
      " 30  cons_country                              float64\n",
      " 31  CO2_Emission                              float64\n",
      " 32  Emission_Class                            object \n",
      " 33  cc_Air conditioning                       int64  \n",
      " 34  cc_Air suspension                         int64  \n",
      " 35  cc_Armrest                                int64  \n",
      " 36  cc_Automatic climate control              int64  \n",
      " 37  cc_Auxiliary heating                      int64  \n",
      " 38  cc_Cruise control                         int64  \n",
      " 39  cc_Electric Starter                       int64  \n",
      " 40  cc_Electric tailgate                      int64  \n",
      " 41  cc_Electrical side mirrors                int64  \n",
      " 42  cc_Electrically adjustable seats          int64  \n",
      " 43  cc_Electrically heated windshield         int64  \n",
      " 44  cc_Heads-up display                       int64  \n",
      " 45  cc_Heated steering wheel                  int64  \n",
      " 46  cc_Hill Holder                            int64  \n",
      " 47  cc_Keyless central door lock              int64  \n",
      " 48  cc_Leather seats                          int64  \n",
      " 49  cc_Leather steering wheel                 int64  \n",
      " 50  cc_Light sensor                           int64  \n",
      " 51  cc_Lumbar support                         int64  \n",
      " 52  cc_Massage seats                          int64  \n",
      " 53  cc_Multi-function steering wheel          int64  \n",
      " 54  cc_Navigation system                      int64  \n",
      " 55  cc_Panorama roof                          int64  \n",
      " 56  cc_Park Distance Control                  int64  \n",
      " 57  cc_Parking assist system camera           int64  \n",
      " 58  cc_Parking assist system self-steering    int64  \n",
      " 59  cc_Parking assist system sensors front    int64  \n",
      " 60  cc_Parking assist system sensors rear     int64  \n",
      " 61  cc_Power windows                          int64  \n",
      " 62  cc_Rain sensor                            int64  \n",
      " 63  cc_Seat heating                           int64  \n",
      " 64  cc_Seat ventilation                       int64  \n",
      " 65  cc_Split rear seats                       int64  \n",
      " 66  cc_Start-stop system                      int64  \n",
      " 67  cc_Sunroof                                int64  \n",
      " 68  cc_Tinted windows                         int64  \n",
      " 69  cc_Wind deflector                         int64  \n",
      " 70  cc_Windshield                             int64  \n",
      " 71  em_Bluetooth                              int64  \n",
      " 72  em_CD player                              int64  \n",
      " 73  em_Digital radio                          int64  \n",
      " 74  em_Hands-free equipment                   int64  \n",
      " 75  em_MP3                                    int64  \n",
      " 76  em_On-board computer                      int64  \n",
      " 77  em_Radio                                  int64  \n",
      " 78  em_Sound system                           int64  \n",
      " 79  em_Television                             int64  \n",
      " 80  em_USB                                    int64  \n",
      " 81  ex_Alloy wheels                           int64  \n",
      " 82  ex_Cab or rented Car                      int64  \n",
      " 83  ex_Catalytic Converter                    int64  \n",
      " 84  ex_Handicapped enabled                    int64  \n",
      " 85  ex_Right hand drive                       int64  \n",
      " 86  ex_Roof rack                              int64  \n",
      " 87  ex_Shift paddles                          int64  \n",
      " 88  ex_Ski bag                                int64  \n",
      " 89  ex_Sliding door                           int64  \n",
      " 90  ex_Sport package                          int64  \n",
      " 91  ex_Sport seats                            int64  \n",
      " 92  ex_Sport suspension                       int64  \n",
      " 93  ex_Touch screen                           int64  \n",
      " 94  ex_Trailer hitch                          int64  \n",
      " 95  ex_Tuned car                              int64  \n",
      " 96  ex_Voice Control                          int64  \n",
      " 97  ex_Winter tyres                           int64  \n",
      " 98  ss_ABS                                    int64  \n",
      " 99  ss_Adaptive Cruise Control                int64  \n",
      " 100 ss_Adaptive headlights                    int64  \n",
      " 101 ss_Alarm system                           int64  \n",
      " 102 ss_Blind spot monitor                     int64  \n",
      " 103 ss_Central door lock                      int64  \n",
      " 104 ss_Central door lock with remote control  int64  \n",
      " 105 ss_Daytime running lights                 int64  \n",
      " 106 ss_Driver drowsiness detection            int64  \n",
      " 107 ss_Driver-side airbag                     int64  \n",
      " 108 ss_Electronic stability control           int64  \n",
      " 109 ss_Emergency brake assistant              int64  \n",
      " 110 ss_Emergency system                       int64  \n",
      " 111 ss_Fog lights                             int64  \n",
      " 112 ss_Head airbag                            int64  \n",
      " 113 ss_Immobilizer                            int64  \n",
      " 114 ss_Isofix                                 int64  \n",
      " 115 ss_LED Daytime Running Lights             int64  \n",
      " 116 ss_LED Headlights                         int64  \n",
      " 117 ss_Lane departure warning system          int64  \n",
      " 118 ss_Night view assist                      int64  \n",
      " 119 ss_Passenger-side airbag                  int64  \n",
      " 120 ss_Power steering                         int64  \n",
      " 121 ss_Rear airbag                            int64  \n",
      " 122 ss_Side airbag                            int64  \n",
      " 123 ss_Tire pressure monitoring system        int64  \n",
      " 124 ss_Traction control                       int64  \n",
      " 125 ss_Traffic sign recognition               int64  \n",
      " 126 ss_Xenon headlights                       int64  \n",
      "dtypes: float64(14), int64(98), object(15)\n",
      "memory usage: 15.4+ MB\n"
     ]
    }
   ],
   "source": [
    "df.info()"
   ]
  },
  {
   "cell_type": "code",
   "execution_count": 9,
   "metadata": {},
   "outputs": [
    {
     "data": {
      "text/html": [
       "<div>\n",
       "<style scoped>\n",
       "    .dataframe tbody tr th:only-of-type {\n",
       "        vertical-align: middle;\n",
       "    }\n",
       "\n",
       "    .dataframe tbody tr th {\n",
       "        vertical-align: top;\n",
       "    }\n",
       "\n",
       "    .dataframe thead th {\n",
       "        text-align: right;\n",
       "    }\n",
       "</style>\n",
       "<table border=\"1\" class=\"dataframe\">\n",
       "  <thead>\n",
       "    <tr style=\"text-align: right;\">\n",
       "      <th></th>\n",
       "      <th>Unnamed: 0</th>\n",
       "      <th>Unnamed: 0.1</th>\n",
       "      <th>make_model</th>\n",
       "      <th>body_type</th>\n",
       "      <th>price</th>\n",
       "      <th>vat</th>\n",
       "      <th>km</th>\n",
       "      <th>Type</th>\n",
       "      <th>Cylinders</th>\n",
       "      <th>Fuel</th>\n",
       "      <th>Gears</th>\n",
       "      <th>Comfort&amp;Convenience</th>\n",
       "      <th>Entertainment&amp;Media</th>\n",
       "      <th>Extras</th>\n",
       "      <th>Safety&amp;Security</th>\n",
       "      <th>Previous_Owners</th>\n",
       "      <th>hp_kW</th>\n",
       "      <th>Inspection_new</th>\n",
       "      <th>age</th>\n",
       "      <th>Body_Color</th>\n",
       "      <th>Paint_Type</th>\n",
       "      <th>Upholstery_type</th>\n",
       "      <th>Nr_of_Doors</th>\n",
       "      <th>Nr_of_Seats</th>\n",
       "      <th>Gearing_Type</th>\n",
       "      <th>Displacement_cc</th>\n",
       "      <th>Weight_kg</th>\n",
       "      <th>Drive_chain</th>\n",
       "      <th>cons_comb</th>\n",
       "      <th>cons_city</th>\n",
       "      <th>cons_country</th>\n",
       "      <th>CO2_Emission</th>\n",
       "      <th>Emission_Class</th>\n",
       "      <th>cc_Air conditioning</th>\n",
       "      <th>cc_Air suspension</th>\n",
       "      <th>cc_Armrest</th>\n",
       "      <th>cc_Automatic climate control</th>\n",
       "      <th>cc_Auxiliary heating</th>\n",
       "      <th>cc_Cruise control</th>\n",
       "      <th>cc_Electric Starter</th>\n",
       "      <th>cc_Electric tailgate</th>\n",
       "      <th>cc_Electrical side mirrors</th>\n",
       "      <th>cc_Electrically adjustable seats</th>\n",
       "      <th>cc_Electrically heated windshield</th>\n",
       "      <th>cc_Heads-up display</th>\n",
       "      <th>cc_Heated steering wheel</th>\n",
       "      <th>cc_Hill Holder</th>\n",
       "      <th>cc_Keyless central door lock</th>\n",
       "      <th>cc_Leather seats</th>\n",
       "      <th>cc_Leather steering wheel</th>\n",
       "      <th>...</th>\n",
       "      <th>em_Radio</th>\n",
       "      <th>em_Sound system</th>\n",
       "      <th>em_Television</th>\n",
       "      <th>em_USB</th>\n",
       "      <th>ex_Alloy wheels</th>\n",
       "      <th>ex_Cab or rented Car</th>\n",
       "      <th>ex_Catalytic Converter</th>\n",
       "      <th>ex_Handicapped enabled</th>\n",
       "      <th>ex_Right hand drive</th>\n",
       "      <th>ex_Roof rack</th>\n",
       "      <th>ex_Shift paddles</th>\n",
       "      <th>ex_Ski bag</th>\n",
       "      <th>ex_Sliding door</th>\n",
       "      <th>ex_Sport package</th>\n",
       "      <th>ex_Sport seats</th>\n",
       "      <th>ex_Sport suspension</th>\n",
       "      <th>ex_Touch screen</th>\n",
       "      <th>ex_Trailer hitch</th>\n",
       "      <th>ex_Tuned car</th>\n",
       "      <th>ex_Voice Control</th>\n",
       "      <th>ex_Winter tyres</th>\n",
       "      <th>ss_ABS</th>\n",
       "      <th>ss_Adaptive Cruise Control</th>\n",
       "      <th>ss_Adaptive headlights</th>\n",
       "      <th>ss_Alarm system</th>\n",
       "      <th>ss_Blind spot monitor</th>\n",
       "      <th>ss_Central door lock</th>\n",
       "      <th>ss_Central door lock with remote control</th>\n",
       "      <th>ss_Daytime running lights</th>\n",
       "      <th>ss_Driver drowsiness detection</th>\n",
       "      <th>ss_Driver-side airbag</th>\n",
       "      <th>ss_Electronic stability control</th>\n",
       "      <th>ss_Emergency brake assistant</th>\n",
       "      <th>ss_Emergency system</th>\n",
       "      <th>ss_Fog lights</th>\n",
       "      <th>ss_Head airbag</th>\n",
       "      <th>ss_Immobilizer</th>\n",
       "      <th>ss_Isofix</th>\n",
       "      <th>ss_LED Daytime Running Lights</th>\n",
       "      <th>ss_LED Headlights</th>\n",
       "      <th>ss_Lane departure warning system</th>\n",
       "      <th>ss_Night view assist</th>\n",
       "      <th>ss_Passenger-side airbag</th>\n",
       "      <th>ss_Power steering</th>\n",
       "      <th>ss_Rear airbag</th>\n",
       "      <th>ss_Side airbag</th>\n",
       "      <th>ss_Tire pressure monitoring system</th>\n",
       "      <th>ss_Traction control</th>\n",
       "      <th>ss_Traffic sign recognition</th>\n",
       "      <th>ss_Xenon headlights</th>\n",
       "    </tr>\n",
       "  </thead>\n",
       "  <tbody>\n",
       "    <tr>\n",
       "      <th>0</th>\n",
       "      <td>0</td>\n",
       "      <td>0</td>\n",
       "      <td>Audi A1</td>\n",
       "      <td>Sedans</td>\n",
       "      <td>15770</td>\n",
       "      <td>VAT deductible</td>\n",
       "      <td>56013.00</td>\n",
       "      <td>Used</td>\n",
       "      <td>3.00</td>\n",
       "      <td>Diesel</td>\n",
       "      <td>6.00</td>\n",
       "      <td>Air conditioning,Armrest,Automatic climate control,Cruise control,Electrical side mirrors,Hill Holder,Leather steering wheel,Light sensor,Multi-function steering wheel,Navigation system,Park Distance Control,Parking assist system sensors rear,Power windows,Rain sensor,Seat heating,Start-stop system</td>\n",
       "      <td>Bluetooth,Hands-free equipment,On-board computer,Radio</td>\n",
       "      <td>Alloy wheels,Catalytic Converter,Voice Control</td>\n",
       "      <td>ABS,Central door lock,Daytime running lights,Driver-side airbag,Electronic stability control,Fog lights,Immobilizer,Isofix,Passenger-side airbag,Power steering,Side airbag,Tire pressure monitoring system,Traction control,Xenon headlights</td>\n",
       "      <td>2.00</td>\n",
       "      <td>66.00</td>\n",
       "      <td>1</td>\n",
       "      <td>3.00</td>\n",
       "      <td>Black</td>\n",
       "      <td>Metallic</td>\n",
       "      <td>Cloth</td>\n",
       "      <td>5.00</td>\n",
       "      <td>5.00</td>\n",
       "      <td>Automatic</td>\n",
       "      <td>1422.00</td>\n",
       "      <td>1220.00</td>\n",
       "      <td>front</td>\n",
       "      <td>3.80</td>\n",
       "      <td>4.30</td>\n",
       "      <td>3.50</td>\n",
       "      <td>99.00</td>\n",
       "      <td>Euro 6</td>\n",
       "      <td>1</td>\n",
       "      <td>0</td>\n",
       "      <td>1</td>\n",
       "      <td>1</td>\n",
       "      <td>0</td>\n",
       "      <td>1</td>\n",
       "      <td>0</td>\n",
       "      <td>0</td>\n",
       "      <td>1</td>\n",
       "      <td>0</td>\n",
       "      <td>0</td>\n",
       "      <td>0</td>\n",
       "      <td>0</td>\n",
       "      <td>1</td>\n",
       "      <td>0</td>\n",
       "      <td>0</td>\n",
       "      <td>1</td>\n",
       "      <td>...</td>\n",
       "      <td>1</td>\n",
       "      <td>0</td>\n",
       "      <td>0</td>\n",
       "      <td>0</td>\n",
       "      <td>1</td>\n",
       "      <td>0</td>\n",
       "      <td>1</td>\n",
       "      <td>0</td>\n",
       "      <td>0</td>\n",
       "      <td>0</td>\n",
       "      <td>0</td>\n",
       "      <td>0</td>\n",
       "      <td>0</td>\n",
       "      <td>0</td>\n",
       "      <td>0</td>\n",
       "      <td>0</td>\n",
       "      <td>0</td>\n",
       "      <td>0</td>\n",
       "      <td>0</td>\n",
       "      <td>1</td>\n",
       "      <td>0</td>\n",
       "      <td>1</td>\n",
       "      <td>0</td>\n",
       "      <td>0</td>\n",
       "      <td>0</td>\n",
       "      <td>0</td>\n",
       "      <td>1</td>\n",
       "      <td>0</td>\n",
       "      <td>1</td>\n",
       "      <td>0</td>\n",
       "      <td>1</td>\n",
       "      <td>1</td>\n",
       "      <td>0</td>\n",
       "      <td>0</td>\n",
       "      <td>1</td>\n",
       "      <td>0</td>\n",
       "      <td>1</td>\n",
       "      <td>1</td>\n",
       "      <td>0</td>\n",
       "      <td>0</td>\n",
       "      <td>0</td>\n",
       "      <td>0</td>\n",
       "      <td>1</td>\n",
       "      <td>1</td>\n",
       "      <td>0</td>\n",
       "      <td>1</td>\n",
       "      <td>1</td>\n",
       "      <td>1</td>\n",
       "      <td>0</td>\n",
       "      <td>1</td>\n",
       "    </tr>\n",
       "  </tbody>\n",
       "</table>\n",
       "<p>1 rows × 127 columns</p>\n",
       "</div>"
      ],
      "text/plain": [
       "   Unnamed: 0  Unnamed: 0.1 make_model body_type  price             vat       km  Type  Cylinders    Fuel  Gears                                                                                                                                                                                                                                                                                          Comfort&Convenience                                     Entertainment&Media                                          Extras                                                                                                                                                                                                                                Safety&Security  Previous_Owners  hp_kW  Inspection_new  age Body_Color Paint_Type Upholstery_type  Nr_of_Doors  Nr_of_Seats Gearing_Type  Displacement_cc  Weight_kg Drive_chain  cons_comb  cons_city  cons_country  CO2_Emission Emission_Class  cc_Air conditioning  cc_Air suspension  cc_Armrest  cc_Automatic climate control  cc_Auxiliary heating  cc_Cruise control  cc_Electric Starter  cc_Electric tailgate  cc_Electrical side mirrors  cc_Electrically adjustable seats  cc_Electrically heated windshield  cc_Heads-up display  cc_Heated steering wheel  cc_Hill Holder  cc_Keyless central door lock  cc_Leather seats  cc_Leather steering wheel  ...  em_Radio  em_Sound system  em_Television  em_USB  ex_Alloy wheels  ex_Cab or rented Car  ex_Catalytic Converter  ex_Handicapped enabled  ex_Right hand drive  ex_Roof rack  ex_Shift paddles  ex_Ski bag  ex_Sliding door  ex_Sport package  ex_Sport seats  ex_Sport suspension  ex_Touch screen  ex_Trailer hitch  ex_Tuned car  ex_Voice Control  ex_Winter tyres  ss_ABS  ss_Adaptive Cruise Control  ss_Adaptive headlights  ss_Alarm system  ss_Blind spot monitor  ss_Central door lock  ss_Central door lock with remote control  ss_Daytime running lights  ss_Driver drowsiness detection  ss_Driver-side airbag  \\\n",
       "0           0             0    Audi A1    Sedans  15770  VAT deductible 56013.00  Used       3.00  Diesel   6.00  Air conditioning,Armrest,Automatic climate control,Cruise control,Electrical side mirrors,Hill Holder,Leather steering wheel,Light sensor,Multi-function steering wheel,Navigation system,Park Distance Control,Parking assist system sensors rear,Power windows,Rain sensor,Seat heating,Start-stop system  Bluetooth,Hands-free equipment,On-board computer,Radio  Alloy wheels,Catalytic Converter,Voice Control  ABS,Central door lock,Daytime running lights,Driver-side airbag,Electronic stability control,Fog lights,Immobilizer,Isofix,Passenger-side airbag,Power steering,Side airbag,Tire pressure monitoring system,Traction control,Xenon headlights             2.00  66.00               1 3.00      Black   Metallic           Cloth         5.00         5.00    Automatic          1422.00    1220.00       front       3.80       4.30          3.50         99.00         Euro 6                    1                  0           1                             1                     0                  1                    0                     0                           1                                 0                                  0                    0                         0               1                             0                 0                          1  ...         1                0              0       0                1                     0                       1                       0                    0             0                 0           0                0                 0               0                    0                0                 0             0                 1                0       1                           0                       0                0                      0                     1                                         0                          1                               0                      1   \n",
       "\n",
       "   ss_Electronic stability control  ss_Emergency brake assistant  ss_Emergency system  ss_Fog lights  ss_Head airbag  ss_Immobilizer  ss_Isofix  ss_LED Daytime Running Lights  ss_LED Headlights  ss_Lane departure warning system  ss_Night view assist  ss_Passenger-side airbag  ss_Power steering  ss_Rear airbag  ss_Side airbag  ss_Tire pressure monitoring system  ss_Traction control  ss_Traffic sign recognition  ss_Xenon headlights  \n",
       "0                                1                             0                    0              1               0               1          1                              0                  0                                 0                     0                         1                  1               0               1                                   1                    1                            0                    1  \n",
       "\n",
       "[1 rows x 127 columns]"
      ]
     },
     "execution_count": 9,
     "metadata": {},
     "output_type": "execute_result"
    }
   ],
   "source": [
    "df.head(1)"
   ]
  },
  {
   "cell_type": "code",
   "execution_count": 10,
   "metadata": {},
   "outputs": [],
   "source": [
    "df.drop([\"Unnamed: 0\",\"Unnamed: 0.1\"], axis=1, inplace=True)"
   ]
  },
  {
   "cell_type": "code",
   "execution_count": 11,
   "metadata": {},
   "outputs": [
    {
     "data": {
      "text/plain": [
       "make_model                                 0.00\n",
       "body_type                                  0.00\n",
       "price                                      0.00\n",
       "vat                                        0.00\n",
       "km                                         0.00\n",
       "Type                                       0.00\n",
       "Cylinders                                  0.00\n",
       "Fuel                                       0.00\n",
       "Gears                                      0.00\n",
       "Comfort&Convenience                        0.00\n",
       "Entertainment&Media                        0.00\n",
       "Extras                                     0.00\n",
       "Safety&Security                            0.00\n",
       "Previous_Owners                            0.00\n",
       "hp_kW                                      0.00\n",
       "Inspection_new                             0.00\n",
       "age                                        0.00\n",
       "Body_Color                                 0.00\n",
       "Paint_Type                                 0.00\n",
       "Upholstery_type                            0.00\n",
       "Nr_of_Doors                                0.00\n",
       "Nr_of_Seats                                0.00\n",
       "Gearing_Type                               0.00\n",
       "Displacement_cc                            0.00\n",
       "Weight_kg                                  0.00\n",
       "Drive_chain                                0.00\n",
       "cons_comb                                  0.00\n",
       "cons_city                                  0.00\n",
       "cons_country                               0.00\n",
       "CO2_Emission                               0.00\n",
       "Emission_Class                             0.00\n",
       "cc_Air conditioning                        0.00\n",
       "cc_Air suspension                          0.00\n",
       "cc_Armrest                                 0.00\n",
       "cc_Automatic climate control               0.00\n",
       "cc_Auxiliary heating                       0.00\n",
       "cc_Cruise control                          0.00\n",
       "cc_Electric Starter                        0.00\n",
       "cc_Electric tailgate                       0.00\n",
       "cc_Electrical side mirrors                 0.00\n",
       "cc_Electrically adjustable seats           0.00\n",
       "cc_Electrically heated windshield          0.00\n",
       "cc_Heads-up display                        0.00\n",
       "cc_Heated steering wheel                   0.00\n",
       "cc_Hill Holder                             0.00\n",
       "cc_Keyless central door lock               0.00\n",
       "cc_Leather seats                           0.00\n",
       "cc_Leather steering wheel                  0.00\n",
       "cc_Light sensor                            0.00\n",
       "cc_Lumbar support                          0.00\n",
       "cc_Massage seats                           0.00\n",
       "cc_Multi-function steering wheel           0.00\n",
       "cc_Navigation system                       0.00\n",
       "cc_Panorama roof                           0.00\n",
       "cc_Park Distance Control                   0.00\n",
       "cc_Parking assist system camera            0.00\n",
       "cc_Parking assist system self-steering     0.00\n",
       "cc_Parking assist system sensors front     0.00\n",
       "cc_Parking assist system sensors rear      0.00\n",
       "cc_Power windows                           0.00\n",
       "cc_Rain sensor                             0.00\n",
       "cc_Seat heating                            0.00\n",
       "cc_Seat ventilation                        0.00\n",
       "cc_Split rear seats                        0.00\n",
       "cc_Start-stop system                       0.00\n",
       "cc_Sunroof                                 0.00\n",
       "cc_Tinted windows                          0.00\n",
       "cc_Wind deflector                          0.00\n",
       "cc_Windshield                              0.00\n",
       "em_Bluetooth                               0.00\n",
       "em_CD player                               0.00\n",
       "em_Digital radio                           0.00\n",
       "em_Hands-free equipment                    0.00\n",
       "em_MP3                                     0.00\n",
       "em_On-board computer                       0.00\n",
       "em_Radio                                   0.00\n",
       "em_Sound system                            0.00\n",
       "em_Television                              0.00\n",
       "em_USB                                     0.00\n",
       "ex_Alloy wheels                            0.00\n",
       "ex_Cab or rented Car                       0.00\n",
       "ex_Catalytic Converter                     0.00\n",
       "ex_Handicapped enabled                     0.00\n",
       "ex_Right hand drive                        0.00\n",
       "ex_Roof rack                               0.00\n",
       "ex_Shift paddles                           0.00\n",
       "ex_Ski bag                                 0.00\n",
       "ex_Sliding door                            0.00\n",
       "ex_Sport package                           0.00\n",
       "ex_Sport seats                             0.00\n",
       "ex_Sport suspension                        0.00\n",
       "ex_Touch screen                            0.00\n",
       "ex_Trailer hitch                           0.00\n",
       "ex_Tuned car                               0.00\n",
       "ex_Voice Control                           0.00\n",
       "ex_Winter tyres                            0.00\n",
       "ss_ABS                                     0.00\n",
       "ss_Adaptive Cruise Control                 0.00\n",
       "ss_Adaptive headlights                     0.00\n",
       "ss_Alarm system                            0.00\n",
       "ss_Blind spot monitor                      0.00\n",
       "ss_Central door lock                       0.00\n",
       "ss_Central door lock with remote control   0.00\n",
       "ss_Daytime running lights                  0.00\n",
       "ss_Driver drowsiness detection             0.00\n",
       "ss_Driver-side airbag                      0.00\n",
       "ss_Electronic stability control            0.00\n",
       "ss_Emergency brake assistant               0.00\n",
       "ss_Emergency system                        0.00\n",
       "ss_Fog lights                              0.00\n",
       "ss_Head airbag                             0.00\n",
       "ss_Immobilizer                             0.00\n",
       "ss_Isofix                                  0.00\n",
       "ss_LED Daytime Running Lights              0.00\n",
       "ss_LED Headlights                          0.00\n",
       "ss_Lane departure warning system           0.00\n",
       "ss_Night view assist                       0.00\n",
       "ss_Passenger-side airbag                   0.00\n",
       "ss_Power steering                          0.00\n",
       "ss_Rear airbag                             0.00\n",
       "ss_Side airbag                             0.00\n",
       "ss_Tire pressure monitoring system         0.00\n",
       "ss_Traction control                        0.00\n",
       "ss_Traffic sign recognition                0.00\n",
       "ss_Xenon headlights                        0.00\n",
       "dtype: float64"
      ]
     },
     "execution_count": 11,
     "metadata": {},
     "output_type": "execute_result"
    }
   ],
   "source": [
    "df.isnull().sum()/df.shape[0]*100"
   ]
  },
  {
   "cell_type": "markdown",
   "metadata": {},
   "source": [
    "## km"
   ]
  },
  {
   "cell_type": "code",
   "execution_count": 12,
   "metadata": {
    "scrolled": true
   },
   "outputs": [
    {
     "data": {
      "image/png": "[encoded data removed]",
      "text/plain": [
       "<Figure size 1152x432 with 1 Axes>"
      ]
     },
     "metadata": {},
     "output_type": "display_data"
    }
   ],
   "source": [
    "plt.figure(figsize=(16,6))\n",
    "sns.boxplot(\"km\", data=df)\n",
    "plt.show()"
   ]
  },
  {
   "cell_type": "code",
   "execution_count": 13,
   "metadata": {
    "scrolled": true
   },
   "outputs": [
    {
     "data": {
      "image/png": "[encoded data removed]",
      "text/plain": [
       "<Figure size 1152x432 with 1 Axes>"
      ]
     },
     "metadata": {},
     "output_type": "display_data"
    }
   ],
   "source": [
    "plt.figure(figsize=(16,6))\n",
    "sns.violinplot(\"km\", data=df)\n",
    "plt.show()"
   ]
  },
  {
   "cell_type": "code",
   "execution_count": 14,
   "metadata": {},
   "outputs": [
    {
     "data": {
      "image/png": "[encoded data removed]",
      "text/plain": [
       "<Figure size 1152x432 with 1 Axes>"
      ]
     },
     "metadata": {},
     "output_type": "display_data"
    }
   ],
   "source": [
    "plt.figure(figsize=(16,6))\n",
    "sns.distplot(df.km)\n",
    "plt.show()"
   ]
  },
  {
   "cell_type": "code",
   "execution_count": 15,
   "metadata": {
    "scrolled": true
   },
   "outputs": [
    {
     "data": {
      "image/png": "[encoded data removed]",
      "text/plain": [
       "<Figure size 1152x432 with 1 Axes>"
      ]
     },
     "metadata": {},
     "output_type": "display_data"
    }
   ],
   "source": [
    "plt.figure(figsize=(16,6))\n",
    "sns.boxplot(x=\"make_model\", y=\"km\", data=df)\n",
    "plt.show()"
   ]
  },
  {
   "cell_type": "code",
   "execution_count": 16,
   "metadata": {},
   "outputs": [
    {
     "data": {
      "image/png": "[encoded data removed]",
      "text/plain": [
       "<Figure size 1080x720 with 4 Axes>"
      ]
     },
     "metadata": {},
     "output_type": "display_data"
    }
   ],
   "source": [
    "plt.figure(figsize=(15,10))\n",
    "plt.subplot(141)\n",
    "plt.hist(df.km, bins = 50)\n",
    "\n",
    "plt.subplot(142)\n",
    "plt.boxplot(df.km)\n",
    "\n",
    "plt.subplot(143)\n",
    "plt.boxplot(df.km, whis = 2.5)\n",
    "\n",
    "plt.subplot(144)\n",
    "plt.boxplot(np.log(df.km), whis = 2.5)\n",
    "plt.show()"
   ]
  },
  {
   "cell_type": "markdown",
   "metadata": {},
   "source": [
    "## price"
   ]
  },
  {
   "cell_type": "code",
   "execution_count": 17,
   "metadata": {},
   "outputs": [
    {
     "data": {
      "image/png": "[encoded data removed]",
      "text/plain": [
       "<Figure size 1152x432 with 1 Axes>"
      ]
     },
     "metadata": {},
     "output_type": "display_data"
    }
   ],
   "source": [
    "plt.figure(figsize=(16,6))\n",
    "sns.boxplot(x=\"make_model\", y=\"price\", data=df)\n",
    "plt.show()"
   ]
  },
  {
   "cell_type": "code",
   "execution_count": 18,
   "metadata": {},
   "outputs": [
    {
     "data": {
      "text/plain": [
       "count   15919.00\n",
       "mean    18019.90\n",
       "std      7386.17\n",
       "min        13.00\n",
       "25%     12850.00\n",
       "50%     16900.00\n",
       "75%     21900.00\n",
       "max     74600.00\n",
       "Name: price, dtype: float64"
      ]
     },
     "execution_count": 18,
     "metadata": {},
     "output_type": "execute_result"
    }
   ],
   "source": [
    "df.price.describe()"
   ]
  },
  {
   "cell_type": "code",
   "execution_count": 19,
   "metadata": {},
   "outputs": [
    {
     "data": {
      "text/plain": [
       "0        15770\n",
       "1        14500\n",
       "2        14640\n",
       "3        14500\n",
       "4        16790\n",
       "         ...  \n",
       "15791    33990\n",
       "15792    33975\n",
       "15793    33990\n",
       "15794    33975\n",
       "15795    34200\n",
       "Name: price, Length: 15440, dtype: int64"
      ]
     },
     "execution_count": 19,
     "metadata": {},
     "output_type": "execute_result"
    }
   ],
   "source": [
    "Q1 = df.price.quantile(0.25)\n",
    "Q3 = df.price.quantile(0.75)\n",
    "IQR = Q3 - Q1\n",
    "lower_lim = Q1 - 1.5 * IQR\n",
    "upper_lim = Q3 + 1.5 * IQR\n",
    "outliers_15_low = (df.price < lower_lim)\n",
    "outliers_15_up = (df.price > upper_lim)\n",
    "not_outliers = (df.price >= lower_lim) & (df.price <= upper_lim)\n",
    "df.price[not_outliers]"
   ]
  },
  {
   "cell_type": "code",
   "execution_count": null,
   "metadata": {},
   "outputs": [],
   "source": []
  }
 ],
 "metadata": {
  "kernelspec": {
   "display_name": "Python 3",
   "language": "python",
   "name": "python3"
  },
  "language_info": {
   "codemirror_mode": {
    "name": "ipython",
    "version": 3
   },
   "file_extension": ".py",
   "mimetype": "text/x-python",
   "name": "python",
   "nbconvert_exporter": "python",
   "pygments_lexer": "ipython3",
   "version": "3.7.6"
  }
 },
 "nbformat": 4,
 "nbformat_minor": 4
}
